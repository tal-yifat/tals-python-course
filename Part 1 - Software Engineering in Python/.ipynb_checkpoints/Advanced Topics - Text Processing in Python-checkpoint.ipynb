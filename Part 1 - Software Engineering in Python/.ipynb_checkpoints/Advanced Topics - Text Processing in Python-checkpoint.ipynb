{
 "cells": [
  {
   "cell_type": "markdown",
   "metadata": {},
   "source": [
    "# Common String Operations\n",
    "Here are some useful resources for Python string operations:\n",
    "* https://www.learnpython.org/en/Basic_String_Operations\n",
    "* https://www.w3schools.com/python/python_ref_string.asp\n",
    "\n",
    "Here, we will a text file with a movie review and count how often each word appears."
   ]
  },
  {
   "cell_type": "code",
   "execution_count": 41,
   "metadata": {},
   "outputs": [],
   "source": [
    "# It is useful to set input/output folders as global variables\n",
    "INPUT_FOLDER = 'C:/Users/tyifat/Workspace/python-for-dna/Student Projects/Sentiment Analyzer Project/'"
   ]
  },
  {
   "cell_type": "code",
   "execution_count": 42,
   "metadata": {},
   "outputs": [
    {
     "data": {
      "text/plain": [
       "12500"
      ]
     },
     "execution_count": 42,
     "metadata": {},
     "output_type": "execute_result"
    }
   ],
   "source": [
    "import glob\n",
    "# glob finds all the pathnames matching a specified pattern according to the rules used by the Unix shell\n",
    "train_pos_files = glob.glob(INPUT_FOLDER + 'train/pos/*.txt') \n",
    "len(train_pos_files)"
   ]
  },
  {
   "cell_type": "code",
   "execution_count": 45,
   "metadata": {},
   "outputs": [
    {
     "data": {
      "text/plain": [
       "['C:/Users/tyifat/Workspace/python-for-dna/Student Projects/Sentiment Analyzer Project/train/pos\\\\0_9.txt',\n",
       " 'C:/Users/tyifat/Workspace/python-for-dna/Student Projects/Sentiment Analyzer Project/train/pos\\\\10000_8.txt',\n",
       " 'C:/Users/tyifat/Workspace/python-for-dna/Student Projects/Sentiment Analyzer Project/train/pos\\\\10001_10.txt',\n",
       " 'C:/Users/tyifat/Workspace/python-for-dna/Student Projects/Sentiment Analyzer Project/train/pos\\\\10002_7.txt',\n",
       " 'C:/Users/tyifat/Workspace/python-for-dna/Student Projects/Sentiment Analyzer Project/train/pos\\\\10003_8.txt']"
      ]
     },
     "execution_count": 45,
     "metadata": {},
     "output_type": "execute_result"
    }
   ],
   "source": [
    "train_pos_files[:5]"
   ]
  },
  {
   "cell_type": "code",
   "execution_count": 51,
   "metadata": {},
   "outputs": [
    {
     "data": {
      "text/plain": [
       "'Brilliant over-acting by Lesley Ann Warren. Best dramatic hobo lady I have ever seen, and love scenes in clothes warehouse are second to none. The corn on face is a classic, as good as anything in Blazing Saddles. The take on lawyers is also superb. After being accused of being a turncoat, selling out his boss, and being dishonest the lawyer of Pepto Bolt shrugs indifferently \"I\\'m a lawyer\" he says. Three funny words. Jeffrey Tambor, a favorite from the later Larry Sanders show, is fantastic here too as a mad millionaire who wants to crush the ghetto. His character is more malevolent than usual. The hospital scene, and the scene where the homeless invade a demolition site, are all-time classics. Look for the legs scene and the two big diggers fighting (one bleeds). This movie gets better each time I see it (which is quite often).'"
      ]
     },
     "execution_count": 51,
     "metadata": {},
     "output_type": "execute_result"
    }
   ],
   "source": [
    "# Opening a file using a context manager - this way the file is automatically closed.\n",
    "with open(train_pos_files[2]) as file:\n",
    "    text = file.read()\n",
    "text"
   ]
  },
  {
   "cell_type": "code",
   "execution_count": 52,
   "metadata": {},
   "outputs": [
    {
     "data": {
      "text/plain": [
       "'brilliant over-acting by lesley ann warren. best dramatic hobo lady i have ever seen, and love scenes in clothes warehouse are second to none. the corn on face is a classic, as good as anything in blazing saddles. the take on lawyers is also superb. after being accused of being a turncoat, selling out his boss, and being dishonest the lawyer of pepto bolt shrugs indifferently \"i\\'m a lawyer\" he says. three funny words. jeffrey tambor, a favorite from the later larry sanders show, is fantastic here too as a mad millionaire who wants to crush the ghetto. his character is more malevolent than usual. the hospital scene, and the scene where the homeless invade a demolition site, are all-time classics. look for the legs scene and the two big diggers fighting (one bleeds). this movie gets better each time i see it (which is quite often).'"
      ]
     },
     "execution_count": 52,
     "metadata": {},
     "output_type": "execute_result"
    }
   ],
   "source": [
    "# Converting to lower case\n",
    "text = text.lower()\n",
    "text"
   ]
  },
  {
   "cell_type": "code",
   "execution_count": 53,
   "metadata": {},
   "outputs": [
    {
     "name": "stdout",
     "output_type": "stream",
     "text": [
      "brilliant over-acting by lesley ann warren. best dramatic hobo lady i have ever seen, and love scenes in clothes warehouse are second to none. the corn on face is a classic, as good as anything in blazing saddles. the take on lawyers is also superb. after being accused of being a turncoat, selling out his boss, and being dishonest the lawyer of pepto bolt shrugs indifferently \"i'm a lawyer\" he says. three funny words. jeffrey tambor, a favorite from the later larry sanders show, is fantastic here too as a mad millionaire who wants to crush the ghetto. his character is more malevolent than usual. the hospital scene, and the scene where the homeless invade a demolition site, are all-time classics. look for the legs scene and the two big diggers fighting (one bleeds). this movie gets better each time i see it (which is quite often).\n"
     ]
    }
   ],
   "source": [
    "print(text)"
   ]
  },
  {
   "cell_type": "code",
   "execution_count": 55,
   "metadata": {},
   "outputs": [
    {
     "data": {
      "text/plain": [
       "\"brilliant over-acting by lesley ann warren best dramatic hobo lady i have ever seen and love scenes in clothes warehouse are second to none the corn on face is a classic as good as anything in blazing saddles the take on lawyers is also superb after being accused of being a turncoat selling out his boss and being dishonest the lawyer of pepto bolt shrugs indifferently i'm a lawyer he says three funny words jeffrey tambor a favorite from the later larry sanders show is fantastic here too as a mad millionaire who wants to crush the ghetto his character is more malevolent than usual the hospital scene and the scene where the homeless invade a demolition site are all-time classics look for the legs scene and the two big diggers fighting one bleeds this movie gets better each time i see it which is quite often\""
      ]
     },
     "execution_count": 55,
     "metadata": {},
     "output_type": "execute_result"
    }
   ],
   "source": [
    "# Removing special characters\n",
    "text = text.replace('(', '')\n",
    "text = text.replace(')', '')\n",
    "text = text.replace(r'\"', '')\n",
    "text = text.replace(r'.', '')\n",
    "text = text.replace(r',', '')\n",
    "text"
   ]
  },
  {
   "cell_type": "code",
   "execution_count": 56,
   "metadata": {},
   "outputs": [
    {
     "data": {
      "text/plain": [
       "['it', 'which', 'is', 'quite', 'often']"
      ]
     },
     "execution_count": 56,
     "metadata": {},
     "output_type": "execute_result"
    }
   ],
   "source": [
    "# Splitting to word\n",
    "word_by_word = text.split()\n",
    "word_by_word[-5:]"
   ]
  },
  {
   "cell_type": "code",
   "execution_count": 57,
   "metadata": {},
   "outputs": [
    {
     "data": {
      "text/plain": [
       "147"
      ]
     },
     "execution_count": 57,
     "metadata": {},
     "output_type": "execute_result"
    }
   ],
   "source": [
    "# How many words?\n",
    "len(word_by_word)"
   ]
  },
  {
   "cell_type": "code",
   "execution_count": 58,
   "metadata": {
    "scrolled": true
   },
   "outputs": [
    {
     "name": "stdout",
     "output_type": "stream",
     "text": [
      "Unique words: 112\n"
     ]
    },
    {
     "data": {
      "text/plain": [
       "0"
      ]
     },
     "execution_count": 58,
     "metadata": {},
     "output_type": "execute_result"
    }
   ],
   "source": [
    "# How many unique words?\n",
    "word_count = {word: 0 for word in set(word_by_word)}\n",
    "print('Unique words: %d' % len(word_count))\n",
    "word_count['the']"
   ]
  },
  {
   "cell_type": "code",
   "execution_count": 60,
   "metadata": {},
   "outputs": [
    {
     "data": {
      "text/plain": [
       "{'selling': 1,\n",
       " 'big': 1,\n",
       " 'often': 1,\n",
       " 'ghetto': 1,\n",
       " 'turncoat': 1,\n",
       " 'malevolent': 1,\n",
       " 'clothes': 1,\n",
       " 'more': 1,\n",
       " 'larry': 1,\n",
       " 'also': 1,\n",
       " 'gets': 1,\n",
       " 'in': 2,\n",
       " 'face': 1,\n",
       " 'who': 1,\n",
       " 'are': 2,\n",
       " 'take': 1,\n",
       " 'ever': 1,\n",
       " 'scene': 3,\n",
       " 'shrugs': 1,\n",
       " 'good': 1,\n",
       " 'have': 1,\n",
       " 'classic': 1,\n",
       " 'lawyer': 2,\n",
       " 'the': 10,\n",
       " 'here': 1,\n",
       " 'by': 1,\n",
       " 'diggers': 1,\n",
       " 'dramatic': 1,\n",
       " 'two': 1,\n",
       " 'show': 1,\n",
       " 'hobo': 1,\n",
       " 'better': 1,\n",
       " 'warehouse': 1,\n",
       " 'bolt': 1,\n",
       " 'usual': 1,\n",
       " 'later': 1,\n",
       " 'dishonest': 1,\n",
       " 'funny': 1,\n",
       " 'classics': 1,\n",
       " 'blazing': 1,\n",
       " 'he': 1,\n",
       " 'for': 1,\n",
       " 'words': 1,\n",
       " 'and': 4,\n",
       " 'a': 6,\n",
       " 'i': 2,\n",
       " 'lady': 1,\n",
       " 'being': 3,\n",
       " 'corn': 1,\n",
       " 'see': 1,\n",
       " 'bleeds': 1,\n",
       " 'hospital': 1,\n",
       " 'three': 1,\n",
       " 'best': 1,\n",
       " 'lawyers': 1,\n",
       " 'scenes': 1,\n",
       " 'out': 1,\n",
       " 'character': 1,\n",
       " 'sanders': 1,\n",
       " 'seen': 1,\n",
       " 'his': 2,\n",
       " 'love': 1,\n",
       " 'where': 1,\n",
       " 'which': 1,\n",
       " 'quite': 1,\n",
       " 'ann': 1,\n",
       " 'pepto': 1,\n",
       " 'brilliant': 1,\n",
       " 'of': 2,\n",
       " 'boss': 1,\n",
       " 'crush': 1,\n",
       " 'warren': 1,\n",
       " 'tambor': 1,\n",
       " 'mad': 1,\n",
       " 'favorite': 1,\n",
       " 'saddles': 1,\n",
       " 'lesley': 1,\n",
       " 'site': 1,\n",
       " 'demolition': 1,\n",
       " 'too': 1,\n",
       " 'says': 1,\n",
       " 'fighting': 1,\n",
       " 'wants': 1,\n",
       " 'indifferently': 1,\n",
       " 'look': 1,\n",
       " 'over-acting': 1,\n",
       " 'on': 2,\n",
       " 'millionaire': 1,\n",
       " 'jeffrey': 1,\n",
       " 'movie': 1,\n",
       " \"i'm\": 1,\n",
       " 'legs': 1,\n",
       " 'anything': 1,\n",
       " 'accused': 1,\n",
       " 'superb': 1,\n",
       " 'after': 1,\n",
       " 'time': 1,\n",
       " 'to': 2,\n",
       " 'is': 5,\n",
       " 'than': 1,\n",
       " 'all-time': 1,\n",
       " 'invade': 1,\n",
       " 'none': 1,\n",
       " 'second': 1,\n",
       " 'fantastic': 1,\n",
       " 'it': 1,\n",
       " 'homeless': 1,\n",
       " 'one': 1,\n",
       " 'from': 1,\n",
       " 'this': 1,\n",
       " 'each': 1,\n",
       " 'as': 3}"
      ]
     },
     "execution_count": 60,
     "metadata": {},
     "output_type": "execute_result"
    }
   ],
   "source": [
    "for key in word_count:\n",
    "    word_count[key] = word_by_word.count(key)\n",
    "word_count"
   ]
  },
  {
   "cell_type": "code",
   "execution_count": 66,
   "metadata": {},
   "outputs": [
    {
     "data": {
      "text/html": [
       "<div>\n",
       "<style scoped>\n",
       "    .dataframe tbody tr th:only-of-type {\n",
       "        vertical-align: middle;\n",
       "    }\n",
       "\n",
       "    .dataframe tbody tr th {\n",
       "        vertical-align: top;\n",
       "    }\n",
       "\n",
       "    .dataframe thead th {\n",
       "        text-align: right;\n",
       "    }\n",
       "</style>\n",
       "<table border=\"1\" class=\"dataframe\">\n",
       "  <thead>\n",
       "    <tr style=\"text-align: right;\">\n",
       "      <th></th>\n",
       "      <th>Word Count</th>\n",
       "    </tr>\n",
       "  </thead>\n",
       "  <tbody>\n",
       "    <tr>\n",
       "      <th>the</th>\n",
       "      <td>10</td>\n",
       "    </tr>\n",
       "    <tr>\n",
       "      <th>a</th>\n",
       "      <td>6</td>\n",
       "    </tr>\n",
       "    <tr>\n",
       "      <th>is</th>\n",
       "      <td>5</td>\n",
       "    </tr>\n",
       "    <tr>\n",
       "      <th>and</th>\n",
       "      <td>4</td>\n",
       "    </tr>\n",
       "    <tr>\n",
       "      <th>as</th>\n",
       "      <td>3</td>\n",
       "    </tr>\n",
       "  </tbody>\n",
       "</table>\n",
       "</div>"
      ],
      "text/plain": [
       "     Word Count\n",
       "the          10\n",
       "a             6\n",
       "is            5\n",
       "and           4\n",
       "as            3"
      ]
     },
     "execution_count": 66,
     "metadata": {},
     "output_type": "execute_result"
    }
   ],
   "source": [
    "import pandas as pd\n",
    "\n",
    "df_pos_words = pd.Series(word_count).to_frame(name='Word Count')\n",
    "df_pos_words.sort_values('Word Count', ascending=False).head()"
   ]
  },
  {
   "cell_type": "code",
   "execution_count": 67,
   "metadata": {},
   "outputs": [
    {
     "data": {
      "text/html": [
       "<style  type=\"text/css\" >\n",
       "</style><table id=\"T_65d2da70_b234_11ea_b0af_a0a4c5a2658d\" ><thead>    <tr>        <th class=\"blank level0\" ></th>        <th class=\"col_heading level0 col0\" >Word Count</th>        <th class=\"col_heading level0 col1\" >Word Share</th>    </tr></thead><tbody>\n",
       "                <tr>\n",
       "                        <th id=\"T_65d2da70_b234_11ea_b0af_a0a4c5a2658dlevel0_row0\" class=\"row_heading level0 row0\" >the</th>\n",
       "                        <td id=\"T_65d2da70_b234_11ea_b0af_a0a4c5a2658drow0_col0\" class=\"data row0 col0\" >10</td>\n",
       "                        <td id=\"T_65d2da70_b234_11ea_b0af_a0a4c5a2658drow0_col1\" class=\"data row0 col1\" >6.8%</td>\n",
       "            </tr>\n",
       "            <tr>\n",
       "                        <th id=\"T_65d2da70_b234_11ea_b0af_a0a4c5a2658dlevel0_row1\" class=\"row_heading level0 row1\" >a</th>\n",
       "                        <td id=\"T_65d2da70_b234_11ea_b0af_a0a4c5a2658drow1_col0\" class=\"data row1 col0\" >6</td>\n",
       "                        <td id=\"T_65d2da70_b234_11ea_b0af_a0a4c5a2658drow1_col1\" class=\"data row1 col1\" >4.1%</td>\n",
       "            </tr>\n",
       "            <tr>\n",
       "                        <th id=\"T_65d2da70_b234_11ea_b0af_a0a4c5a2658dlevel0_row2\" class=\"row_heading level0 row2\" >is</th>\n",
       "                        <td id=\"T_65d2da70_b234_11ea_b0af_a0a4c5a2658drow2_col0\" class=\"data row2 col0\" >5</td>\n",
       "                        <td id=\"T_65d2da70_b234_11ea_b0af_a0a4c5a2658drow2_col1\" class=\"data row2 col1\" >3.4%</td>\n",
       "            </tr>\n",
       "            <tr>\n",
       "                        <th id=\"T_65d2da70_b234_11ea_b0af_a0a4c5a2658dlevel0_row3\" class=\"row_heading level0 row3\" >and</th>\n",
       "                        <td id=\"T_65d2da70_b234_11ea_b0af_a0a4c5a2658drow3_col0\" class=\"data row3 col0\" >4</td>\n",
       "                        <td id=\"T_65d2da70_b234_11ea_b0af_a0a4c5a2658drow3_col1\" class=\"data row3 col1\" >2.7%</td>\n",
       "            </tr>\n",
       "            <tr>\n",
       "                        <th id=\"T_65d2da70_b234_11ea_b0af_a0a4c5a2658dlevel0_row4\" class=\"row_heading level0 row4\" >as</th>\n",
       "                        <td id=\"T_65d2da70_b234_11ea_b0af_a0a4c5a2658drow4_col0\" class=\"data row4 col0\" >3</td>\n",
       "                        <td id=\"T_65d2da70_b234_11ea_b0af_a0a4c5a2658drow4_col1\" class=\"data row4 col1\" >2.0%</td>\n",
       "            </tr>\n",
       "            <tr>\n",
       "                        <th id=\"T_65d2da70_b234_11ea_b0af_a0a4c5a2658dlevel0_row5\" class=\"row_heading level0 row5\" >being</th>\n",
       "                        <td id=\"T_65d2da70_b234_11ea_b0af_a0a4c5a2658drow5_col0\" class=\"data row5 col0\" >3</td>\n",
       "                        <td id=\"T_65d2da70_b234_11ea_b0af_a0a4c5a2658drow5_col1\" class=\"data row5 col1\" >2.0%</td>\n",
       "            </tr>\n",
       "            <tr>\n",
       "                        <th id=\"T_65d2da70_b234_11ea_b0af_a0a4c5a2658dlevel0_row6\" class=\"row_heading level0 row6\" >scene</th>\n",
       "                        <td id=\"T_65d2da70_b234_11ea_b0af_a0a4c5a2658drow6_col0\" class=\"data row6 col0\" >3</td>\n",
       "                        <td id=\"T_65d2da70_b234_11ea_b0af_a0a4c5a2658drow6_col1\" class=\"data row6 col1\" >2.0%</td>\n",
       "            </tr>\n",
       "            <tr>\n",
       "                        <th id=\"T_65d2da70_b234_11ea_b0af_a0a4c5a2658dlevel0_row7\" class=\"row_heading level0 row7\" >are</th>\n",
       "                        <td id=\"T_65d2da70_b234_11ea_b0af_a0a4c5a2658drow7_col0\" class=\"data row7 col0\" >2</td>\n",
       "                        <td id=\"T_65d2da70_b234_11ea_b0af_a0a4c5a2658drow7_col1\" class=\"data row7 col1\" >1.4%</td>\n",
       "            </tr>\n",
       "            <tr>\n",
       "                        <th id=\"T_65d2da70_b234_11ea_b0af_a0a4c5a2658dlevel0_row8\" class=\"row_heading level0 row8\" >of</th>\n",
       "                        <td id=\"T_65d2da70_b234_11ea_b0af_a0a4c5a2658drow8_col0\" class=\"data row8 col0\" >2</td>\n",
       "                        <td id=\"T_65d2da70_b234_11ea_b0af_a0a4c5a2658drow8_col1\" class=\"data row8 col1\" >1.4%</td>\n",
       "            </tr>\n",
       "            <tr>\n",
       "                        <th id=\"T_65d2da70_b234_11ea_b0af_a0a4c5a2658dlevel0_row9\" class=\"row_heading level0 row9\" >i</th>\n",
       "                        <td id=\"T_65d2da70_b234_11ea_b0af_a0a4c5a2658drow9_col0\" class=\"data row9 col0\" >2</td>\n",
       "                        <td id=\"T_65d2da70_b234_11ea_b0af_a0a4c5a2658drow9_col1\" class=\"data row9 col1\" >1.4%</td>\n",
       "            </tr>\n",
       "    </tbody></table>"
      ],
      "text/plain": [
       "<pandas.io.formats.style.Styler at 0x15724013248>"
      ]
     },
     "execution_count": 67,
     "metadata": {},
     "output_type": "execute_result"
    }
   ],
   "source": [
    "# Calculate the share of each word of the total words\n",
    "df_pos_words['Word Share'] = df_pos_words['Word Count'] / df_pos_words['Word Count'].sum()\n",
    "# Display the results in a user friendly way\n",
    "df_pos_words.sort_values('Word Share', ascending=False).head(10).style.format({\n",
    "        'Word Count': '{:,d}'.format, \n",
    "        'Word Share': '{:,.1%}'.format})"
   ]
  },
  {
   "attachments": {
    "image.png": {
     "image/png": "[encoded data removed]"
    }
   },
   "cell_type": "markdown",
   "metadata": {},
   "source": [
    "# Regular Expressions (regex)\n",
    "Regular expressions (called REs, or regexes, or regex patterns) are essentially a tiny, highly specialized programming language that are made available in Python through the `re` module. Using this little language, you specify the rules for the set of possible strings that you want to match; this set might contain English sentences, or e-mail addresses, or TeX commands, or anything you like. You can then ask questions such as “Does this string match the pattern?”, or “Is there a match for the pattern anywhere in this string?”. You can also use REs to modify a string or to split it apart in various ways. (Based on the [Python official documentation](https://docs.python.org/3/howto/regex.html).)\n",
    "\n",
    "Here are useful regex resources:\n",
    "* [Learn regex](https://regexone.com/) - we're going to use this here to learn the regex language.\n",
    "* [Regex with Python tutorial](https://docs.python.org/3/howto/regex.html)\n",
    "* [Regex tester](https://regex101.com/)\n",
    "* [Regex Golf](https://alf.nu/RegexGolf)\n",
    "\n",
    "Let's try to extract some data from Excel's template for customer invoices:\n",
    "\n",
    "![image.png](attachment:image.png)\n",
    "\n",
    "I save the sheet as a text file so we can easily process it."
   ]
  },
  {
   "cell_type": "code",
   "execution_count": 7,
   "metadata": {},
   "outputs": [
    {
     "data": {
      "text/plain": [
       "'\\tcompany name\\t\\t\\t\\t\\t\\t\\n\\tStreet Address\\t\\tP: Phone Number\\t\\tEmail\\t\\t\\n\\t\"City, State ZIP Code\"\\t\\tF: Fax Number\\t\\tWebsite\\t\\t\\n\\tBill To:\\t\"Contoso, Ltd\"\\tPhone: 432-555-0189\\t\\tInvoice #:\\t3-456-2\\t\\n\\tAddress:\\t567 Walnut Lane\\tFax:     432-555-0123\\t\\tInvoice Date:\\t6/28/2020\\t\\n\\t\\t\"Moline, MO 098765\"\\tEmail: someone@example.com\\t\\t\\t\\t\\n\\tInvoice For: Project 2\\t\\t\\t\\t\\t\\t\\n\\tItem #\\tDescription\\tQty\\tUnit Price\\tDiscount\\tPrice\\t\\n\\t Z4567\\t Invoice 3-456-2 Data 1  \\t39 \\t $5.00 \\t $-   \\t $195.00 \\t\\n\\t Z4568\\t Invoice 3-456-2 Data 2  \\t40 \\t 4.00 \\t 5.00 \\t 155.00 \\t\\n\\t Z4569\\t Invoice 3-456-2 Data 3  \\t30 \\t 6.00 \\t 7.00 \\t 173.00 \\t\\n\\t Z4570\\t Invoice 3-456-2 Data 4  \\t40 \\t 7.00 \\t -   \\t 280.00 \\t\\n\\t Z4571\\t Invoice 3-456-2 Data 5  \\t10 \\t 4.00 \\t -   \\t 40.00 \\t\\n\\t Z4572\\t Invoice 3-456-2 Data 6  \\t5 \\t 8.00 \\t -   \\t 40.00 \\t\\n\\t Z4573\\t Invoice 3-456-2 Data 7  \\t70 \\t 6.00 \\t -   \\t 420.00 \\t\\n\\t Z4574\\t Invoice 3-456-2 Data 8  \\t25 \\t 4.00 \\t -   \\t 100.00 \\t\\n\\t Z4575\\t Invoice 3-456-2 Data 9  \\t5 \\t 7.00 \\t 3.00 \\t 32.00 \\t\\n\\t Z4576\\t Invoice 3-456-2 Data 10  \\t80 \\t 1.00 \\t -   \\t 80.00 \\t\\n\\t Z4577\\t Invoice 3-456-2 Data 11  \\t65 \\t 7.00 \\t -   \\t 455.00 \\t\\n\\t Z4578\\t Invoice 3-456-2 Data 12  \\t44 \\t 1.00 \\t -   \\t 44.00 \\t\\n\\t \\t   \\t\\t  \\t  \\t  \\t\\n\\t \\t   \\t\\t  \\t  \\t  \\t\\n\\t \\t   \\t\\t  \\t  \\t  \\t\\n\\t \\t   \\t\\t  \\t  \\t  \\t\\n\\t \\t   \\t\\t  \\t  \\t  \\t\\n\\t \\t   \\t\\t  \\t  \\t  \\t\\n\\t \\t   \\t\\t  \\t  \\t  \\t\\n\\t \\t   \\t\\t  \\t  \\t  \\t\\n\\t \\t   \\t\\t  \\t  \\t  \\t\\n\\t \\t   \\t\\t  \\t  \\t  \\t\\n\\t \\t   \\t\\t  \\t  \\t  \\t\\n\\t \\t   \\t\\t  \\t  \\t  \\t\\n\\t \\t   \\t\\t  \\t  \\t  \\t\\n\\t\\t\\t\\t\\tInvoice Subtotal  \\t\" $2,014.00 \"\\t\\n\\t\\t\\t\\t\\tTax Rate  \\t8.75% \\t\\n\\t\\t\\t\\t\\tSales Tax  \\t 176.23 \\t\\n\\t\\t\\t\\t\\tOther  \\t -   \\t\\n\\tMake all checks payable to company name.\\t\\t\\t\\tDeposit Received  \\t -   \\t\\n\\tTotal due in <#> days. Overdue accounts subject to a service charge of <#>% per month.\\t\\t\\t\\tTOTAL  \\t\" $2,190.23 \"\\t\\n'"
      ]
     },
     "execution_count": 7,
     "metadata": {},
     "output_type": "execute_result"
    }
   ],
   "source": [
    "with open('Customer Invoice.txt') as file:\n",
    "    invoice_text = file.read()\n",
    "invoice_text"
   ]
  },
  {
   "cell_type": "code",
   "execution_count": 3,
   "metadata": {},
   "outputs": [
    {
     "name": "stdout",
     "output_type": "stream",
     "text": [
      "\tcompany name\t\t\t\t\t\t\n",
      "\tStreet Address\t\tP: Phone Number\t\tEmail\t\t\n",
      "\t\"City, State ZIP Code\"\t\tF: Fax Number\t\tWebsite\t\t\n",
      "\tBill To:\t\"Bananas & Co.\"\tPhone: (519) 479-0159\t\tInvoice #:\t3-456-3\t\n",
      "\tAddress:\t909 Aviation Pkwy #100 \tFax:      \t\t\tInvoice Date:\tJune 28th, 2020\t\n",
      "\t\tMorrisville, NC 27560\tEmail: bartolo@bananas.ai\t\t\t\t\n",
      "\tInvoice For: Project 2\t\t\t\t\t\t\n",
      "\tItem #\tDescription\t\t\tQty\tUnit Price\tDiscount\tPrice\t\n",
      "\t Z5678\t Invoice 3-456-3 Item-1  \t1\t$7,860 \t \t $-   \t\t$7,860\t\n",
      "\t Z4568\t Invoice 3-456-3 Item-2  \t40 \t 4.00 \t \t5.00 \t\t 195.00 \t\n",
      "\t \t   \t\t  \t  \t  \t\n",
      "\t \t   \t\t  \t  \t  \t\n",
      "\t \t   \t\t  \t  \t  \t\n",
      "\t \t   \t\t  \t  \t  \t\n",
      "\t \t   \t\t  \t  \t  \t\n",
      "\t \t   \t\t  \t  \t  \t\n",
      "\t \t   \t\t  \t  \t  \t\n",
      "\t \t   \t\t  \t  \t  \t\n",
      "\t \t   \t\t  \t  \t  \t\n",
      "\t \t   \t\t  \t  \t  \t\n",
      "\t \t   \t\t  \t  \t  \t\n",
      "\t \t   \t\t  \t  \t  \t\n",
      "\t \t   \t\t  \t  \t  \t\n",
      "\t\t\t\t\tInvoice Subtotal  \t $8,055\t\n",
      "\t\t\t\t\tTax Rate  \t8.25% \t\n",
      "\t\t\t\t\tSales Tax  \t 664.53 \t\n",
      "\t\t\t\t\tOther  \t -   \t\n",
      "\tMake all checks payable to company name.\t\t\t\tDeposit Received  \t -   \t\n",
      "\tTotal due in <#> days. Overdue accounts subject to a service charge of <#>% per month.\t\t\t\tTOTAL  \t $8,719.53\"\t\n",
      "\n"
     ]
    }
   ],
   "source": [
    "with open('Customer Invoice 2.txt') as file:\n",
    "    invoice_text_2 = file.read()\n",
    "print(invoice_text_2)"
   ]
  },
  {
   "cell_type": "code",
   "execution_count": 4,
   "metadata": {},
   "outputs": [
    {
     "name": "stdout",
     "output_type": "stream",
     "text": [
      "\tcompany name\t\t\t\t\t\t\n",
      "\tStreet Address\t\tP: Phone Number\t\tEmail\t\t\n",
      "\t\"City, State ZIP Code\"\t\tF: Fax Number\t\tWebsite\t\t\n",
      "\tBill To:\tKiwi Designs\tPhone: +1-432-555-0189\t\tInvoice #:\t3-456-4\t\n",
      "\tAddress:\t567 Pine Nut Ave.\tLane\tFax:     +1-683-555 0123\t\tInvoice Date:\t2020-06-30\t\n",
      "\t\t\"Moline, MO 098765\"\tEmail: someone@example.com\t\t\t\t\n",
      "\tInvoice For: Project 2\t\t\t\t\t\t\n",
      "\tItem #\tDescription\tQty\tUnit Price\tDiscount\tPrice\t\n",
      "\t Z7890\t Invoice 3-456-4 Data 1  \t50 \t $15.00  $50.00\t $690.00 \t\n",
      "\t Z7891\t Invoice 3-456-4 Data 2  \t50 \t 4.00 \t 5.00 \t 195.00 \t\n",
      "\t Z7892\t Invoice 3-456-4 Data 3  \t50 \t 6.00 \t 7.00 \t 293.00 \t\n",
      "\t \t   \t\t  \t  \t  \t\n",
      "\t \t   \t\t  \t  \t  \t\n",
      "\t \t   \t\t  \t  \t  \t\n",
      "\t \t   \t\t  \t  \t  \t\n",
      "\t \t   \t\t  \t  \t  \t\n",
      "\t \t   \t\t  \t  \t  \t\n",
      "\t \t   \t\t  \t  \t  \t\n",
      "\t \t   \t\t  \t  \t  \t\n",
      "\t \t   \t\t  \t  \t  \t\n",
      "\t \t   \t\t  \t  \t  \t\n",
      "\t \t   \t\t  \t  \t  \t\n",
      "\t \t   \t\t  \t  \t  \t\n",
      "\t \t   \t\t  \t  \t  \t\n",
      "\t\t\t\t\tInvoice Subtotal  \t\" $1078.00 \"\t\n",
      "\t\t\t\t\tTax Rate  \t8.75% \t\n",
      "\t\t\t\t\tSales Tax  \t 94.33 \t\n",
      "\t\t\t\t\tOther  \t -   \t\n",
      "\tMake all checks payable to company name.\t\t\t\tDeposit Received  \t -   \t\n",
      "\tTotal due in <#> days. Overdue accounts subject to a service charge of <#>% per month.\t\t\t\tTOTAL  \t\" $1172.33 \"\t\n",
      "\n"
     ]
    }
   ],
   "source": [
    "with open('Customer Invoice 3.txt') as file:\n",
    "    invoice_text_3 = file.read()\n",
    "print(invoice_text_3)"
   ]
  },
  {
   "cell_type": "code",
   "execution_count": 3,
   "metadata": {},
   "outputs": [
    {
     "ename": "SyntaxError",
     "evalue": "unexpected EOF while parsing (<ipython-input-3-711117ff73b7>, line 1)",
     "output_type": "error",
     "traceback": [
      "\u001b[1;36m  File \u001b[1;32m\"<ipython-input-3-711117ff73b7>\"\u001b[1;36m, line \u001b[1;32m1\u001b[0m\n\u001b[1;33m    print(print(repr(invoice_text))\u001b[0m\n\u001b[1;37m                                   ^\u001b[0m\n\u001b[1;31mSyntaxError\u001b[0m\u001b[1;31m:\u001b[0m unexpected EOF while parsing\n"
     ]
    }
   ],
   "source": [
    "print(print(repr(invoice_text))"
   ]
  },
  {
   "cell_type": "code",
   "execution_count": 25,
   "metadata": {},
   "outputs": [
    {
     "data": {
      "text/plain": [
       "'Invoice 3-456-4 Data 1  \\t50'"
      ]
     },
     "execution_count": 25,
     "metadata": {},
     "output_type": "execute_result"
    }
   ],
   "source": [
    "# Note the parentheses in the regular expression\n",
    "import re\n",
    "match = re.search('Invoice \\d[^\\t]+\\t(\\d+)', invoice_text_3)\n",
    "match.group(0)"
   ]
  },
  {
   "cell_type": "code",
   "execution_count": 24,
   "metadata": {},
   "outputs": [
    {
     "data": {
      "text/plain": [
       "'50'"
      ]
     },
     "execution_count": 24,
     "metadata": {},
     "output_type": "execute_result"
    }
   ],
   "source": [
    "# We can extract only the unit price using the group() method\n",
    "import re\n",
    "match = re.search('Invoice \\d[^\\t]+\\t(\\d+)', invoice_text_3)\n",
    "match.group(1)"
   ]
  },
  {
   "cell_type": "code",
   "execution_count": null,
   "metadata": {},
   "outputs": [],
   "source": []
  },
  {
   "cell_type": "code",
   "execution_count": 9,
   "metadata": {},
   "outputs": [
    {
     "data": {
      "text/plain": [
       "'432-555-0189'"
      ]
     },
     "execution_count": 9,
     "metadata": {},
     "output_type": "execute_result"
    }
   ],
   "source": [
    "match[0]"
   ]
  },
  {
   "cell_type": "code",
   "execution_count": 72,
   "metadata": {},
   "outputs": [
    {
     "name": "stdout",
     "output_type": "stream",
     "text": [
      "None\n"
     ]
    }
   ],
   "source": [
    "# What if there is no match?\n",
    "# Let's look for the phone number\n",
    "match = re.search('\\d{3}-\\d{13}-\\d{4}', invoice_text)\n",
    "print(match)"
   ]
  },
  {
   "cell_type": "code",
   "execution_count": 73,
   "metadata": {},
   "outputs": [
    {
     "data": {
      "text/plain": [
       "['432-555-0189', '432-555-0123']"
      ]
     },
     "execution_count": 73,
     "metadata": {},
     "output_type": "execute_result"
    }
   ],
   "source": [
    "match = re.findall('\\d{3}-\\d{3}-\\d{4}', invoice_text)\n",
    "match"
   ]
  },
  {
   "cell_type": "markdown",
   "metadata": {},
   "source": [
    "# Homework\n",
    "See how many of the invoice fields you can extract."
   ]
  },
  {
   "cell_type": "code",
   "execution_count": 6,
   "metadata": {},
   "outputs": [
    {
     "data": {
      "text/html": [
       "<div>\n",
       "<style scoped>\n",
       "    .dataframe tbody tr th:only-of-type {\n",
       "        vertical-align: middle;\n",
       "    }\n",
       "\n",
       "    .dataframe tbody tr th {\n",
       "        vertical-align: top;\n",
       "    }\n",
       "\n",
       "    .dataframe thead th {\n",
       "        text-align: right;\n",
       "    }\n",
       "</style>\n",
       "<table border=\"1\" class=\"dataframe\">\n",
       "  <thead>\n",
       "    <tr style=\"text-align: right;\">\n",
       "      <th></th>\n",
       "      <th>Unnamed: 0</th>\n",
       "      <th>company name</th>\n",
       "      <th>Unnamed: 2</th>\n",
       "      <th>Unnamed: 3</th>\n",
       "      <th>Unnamed: 4</th>\n",
       "      <th>Unnamed: 5</th>\n",
       "      <th>Unnamed: 6</th>\n",
       "      <th>Unnamed: 7</th>\n",
       "    </tr>\n",
       "  </thead>\n",
       "  <tbody>\n",
       "    <tr>\n",
       "      <th>0</th>\n",
       "      <td>NaN</td>\n",
       "      <td>Street Address</td>\n",
       "      <td>NaN</td>\n",
       "      <td>P: Phone Number</td>\n",
       "      <td>NaN</td>\n",
       "      <td>Email</td>\n",
       "      <td>NaN</td>\n",
       "      <td>NaN</td>\n",
       "    </tr>\n",
       "    <tr>\n",
       "      <th>1</th>\n",
       "      <td>NaN</td>\n",
       "      <td>City, State ZIP Code</td>\n",
       "      <td>NaN</td>\n",
       "      <td>F: Fax Number</td>\n",
       "      <td>NaN</td>\n",
       "      <td>Website</td>\n",
       "      <td>NaN</td>\n",
       "      <td>NaN</td>\n",
       "    </tr>\n",
       "    <tr>\n",
       "      <th>2</th>\n",
       "      <td>NaN</td>\n",
       "      <td>Bill To:</td>\n",
       "      <td>Contoso, Ltd</td>\n",
       "      <td>Phone: 432-555-0189</td>\n",
       "      <td>NaN</td>\n",
       "      <td>Invoice #:</td>\n",
       "      <td>3-456-2</td>\n",
       "      <td>NaN</td>\n",
       "    </tr>\n",
       "    <tr>\n",
       "      <th>3</th>\n",
       "      <td>NaN</td>\n",
       "      <td>Address:</td>\n",
       "      <td>567 Walnut Lane</td>\n",
       "      <td>Fax:     432-555-0123</td>\n",
       "      <td>NaN</td>\n",
       "      <td>Invoice Date:</td>\n",
       "      <td>6/28/2020</td>\n",
       "      <td>NaN</td>\n",
       "    </tr>\n",
       "    <tr>\n",
       "      <th>4</th>\n",
       "      <td>NaN</td>\n",
       "      <td>NaN</td>\n",
       "      <td>Moline, MO 098765</td>\n",
       "      <td>Email: someone@example.com</td>\n",
       "      <td>NaN</td>\n",
       "      <td>NaN</td>\n",
       "      <td>NaN</td>\n",
       "      <td>NaN</td>\n",
       "    </tr>\n",
       "    <tr>\n",
       "      <th>5</th>\n",
       "      <td>NaN</td>\n",
       "      <td>Invoice For: Project 2</td>\n",
       "      <td>NaN</td>\n",
       "      <td>NaN</td>\n",
       "      <td>NaN</td>\n",
       "      <td>NaN</td>\n",
       "      <td>NaN</td>\n",
       "      <td>NaN</td>\n",
       "    </tr>\n",
       "    <tr>\n",
       "      <th>6</th>\n",
       "      <td>NaN</td>\n",
       "      <td>Item #</td>\n",
       "      <td>Description</td>\n",
       "      <td>Qty</td>\n",
       "      <td>Unit Price</td>\n",
       "      <td>Discount</td>\n",
       "      <td>Price</td>\n",
       "      <td>NaN</td>\n",
       "    </tr>\n",
       "    <tr>\n",
       "      <th>7</th>\n",
       "      <td>NaN</td>\n",
       "      <td>Z4567</td>\n",
       "      <td>Invoice 3-456-2 Data 1</td>\n",
       "      <td>39</td>\n",
       "      <td>$5.00</td>\n",
       "      <td>$-</td>\n",
       "      <td>$195.00</td>\n",
       "      <td>NaN</td>\n",
       "    </tr>\n",
       "    <tr>\n",
       "      <th>8</th>\n",
       "      <td>NaN</td>\n",
       "      <td>Z4568</td>\n",
       "      <td>Invoice 3-456-2 Data 2</td>\n",
       "      <td>40</td>\n",
       "      <td>4.00</td>\n",
       "      <td>5.00</td>\n",
       "      <td>155.00</td>\n",
       "      <td>NaN</td>\n",
       "    </tr>\n",
       "    <tr>\n",
       "      <th>9</th>\n",
       "      <td>NaN</td>\n",
       "      <td>Z4569</td>\n",
       "      <td>Invoice 3-456-2 Data 3</td>\n",
       "      <td>30</td>\n",
       "      <td>6.00</td>\n",
       "      <td>7.00</td>\n",
       "      <td>173.00</td>\n",
       "      <td>NaN</td>\n",
       "    </tr>\n",
       "    <tr>\n",
       "      <th>10</th>\n",
       "      <td>NaN</td>\n",
       "      <td>Z4570</td>\n",
       "      <td>Invoice 3-456-2 Data 4</td>\n",
       "      <td>40</td>\n",
       "      <td>7.00</td>\n",
       "      <td>-</td>\n",
       "      <td>280.00</td>\n",
       "      <td>NaN</td>\n",
       "    </tr>\n",
       "    <tr>\n",
       "      <th>11</th>\n",
       "      <td>NaN</td>\n",
       "      <td>Z4571</td>\n",
       "      <td>Invoice 3-456-2 Data 5</td>\n",
       "      <td>10</td>\n",
       "      <td>4.00</td>\n",
       "      <td>-</td>\n",
       "      <td>40.00</td>\n",
       "      <td>NaN</td>\n",
       "    </tr>\n",
       "    <tr>\n",
       "      <th>12</th>\n",
       "      <td>NaN</td>\n",
       "      <td>Z4572</td>\n",
       "      <td>Invoice 3-456-2 Data 6</td>\n",
       "      <td>5</td>\n",
       "      <td>8.00</td>\n",
       "      <td>-</td>\n",
       "      <td>40.00</td>\n",
       "      <td>NaN</td>\n",
       "    </tr>\n",
       "    <tr>\n",
       "      <th>13</th>\n",
       "      <td>NaN</td>\n",
       "      <td>Z4573</td>\n",
       "      <td>Invoice 3-456-2 Data 7</td>\n",
       "      <td>70</td>\n",
       "      <td>6.00</td>\n",
       "      <td>-</td>\n",
       "      <td>420.00</td>\n",
       "      <td>NaN</td>\n",
       "    </tr>\n",
       "    <tr>\n",
       "      <th>14</th>\n",
       "      <td>NaN</td>\n",
       "      <td>Z4574</td>\n",
       "      <td>Invoice 3-456-2 Data 8</td>\n",
       "      <td>25</td>\n",
       "      <td>4.00</td>\n",
       "      <td>-</td>\n",
       "      <td>100.00</td>\n",
       "      <td>NaN</td>\n",
       "    </tr>\n",
       "    <tr>\n",
       "      <th>15</th>\n",
       "      <td>NaN</td>\n",
       "      <td>Z4575</td>\n",
       "      <td>Invoice 3-456-2 Data 9</td>\n",
       "      <td>5</td>\n",
       "      <td>7.00</td>\n",
       "      <td>3.00</td>\n",
       "      <td>32.00</td>\n",
       "      <td>NaN</td>\n",
       "    </tr>\n",
       "    <tr>\n",
       "      <th>16</th>\n",
       "      <td>NaN</td>\n",
       "      <td>Z4576</td>\n",
       "      <td>Invoice 3-456-2 Data 10</td>\n",
       "      <td>80</td>\n",
       "      <td>1.00</td>\n",
       "      <td>-</td>\n",
       "      <td>80.00</td>\n",
       "      <td>NaN</td>\n",
       "    </tr>\n",
       "    <tr>\n",
       "      <th>17</th>\n",
       "      <td>NaN</td>\n",
       "      <td>Z4577</td>\n",
       "      <td>Invoice 3-456-2 Data 11</td>\n",
       "      <td>65</td>\n",
       "      <td>7.00</td>\n",
       "      <td>-</td>\n",
       "      <td>455.00</td>\n",
       "      <td>NaN</td>\n",
       "    </tr>\n",
       "    <tr>\n",
       "      <th>18</th>\n",
       "      <td>NaN</td>\n",
       "      <td>Z4578</td>\n",
       "      <td>Invoice 3-456-2 Data 12</td>\n",
       "      <td>44</td>\n",
       "      <td>1.00</td>\n",
       "      <td>-</td>\n",
       "      <td>44.00</td>\n",
       "      <td>NaN</td>\n",
       "    </tr>\n",
       "    <tr>\n",
       "      <th>19</th>\n",
       "      <td>NaN</td>\n",
       "      <td></td>\n",
       "      <td></td>\n",
       "      <td>NaN</td>\n",
       "      <td></td>\n",
       "      <td></td>\n",
       "      <td></td>\n",
       "      <td>NaN</td>\n",
       "    </tr>\n",
       "    <tr>\n",
       "      <th>20</th>\n",
       "      <td>NaN</td>\n",
       "      <td></td>\n",
       "      <td></td>\n",
       "      <td>NaN</td>\n",
       "      <td></td>\n",
       "      <td></td>\n",
       "      <td></td>\n",
       "      <td>NaN</td>\n",
       "    </tr>\n",
       "    <tr>\n",
       "      <th>21</th>\n",
       "      <td>NaN</td>\n",
       "      <td></td>\n",
       "      <td></td>\n",
       "      <td>NaN</td>\n",
       "      <td></td>\n",
       "      <td></td>\n",
       "      <td></td>\n",
       "      <td>NaN</td>\n",
       "    </tr>\n",
       "    <tr>\n",
       "      <th>22</th>\n",
       "      <td>NaN</td>\n",
       "      <td></td>\n",
       "      <td></td>\n",
       "      <td>NaN</td>\n",
       "      <td></td>\n",
       "      <td></td>\n",
       "      <td></td>\n",
       "      <td>NaN</td>\n",
       "    </tr>\n",
       "    <tr>\n",
       "      <th>23</th>\n",
       "      <td>NaN</td>\n",
       "      <td></td>\n",
       "      <td></td>\n",
       "      <td>NaN</td>\n",
       "      <td></td>\n",
       "      <td></td>\n",
       "      <td></td>\n",
       "      <td>NaN</td>\n",
       "    </tr>\n",
       "    <tr>\n",
       "      <th>24</th>\n",
       "      <td>NaN</td>\n",
       "      <td></td>\n",
       "      <td></td>\n",
       "      <td>NaN</td>\n",
       "      <td></td>\n",
       "      <td></td>\n",
       "      <td></td>\n",
       "      <td>NaN</td>\n",
       "    </tr>\n",
       "    <tr>\n",
       "      <th>25</th>\n",
       "      <td>NaN</td>\n",
       "      <td></td>\n",
       "      <td></td>\n",
       "      <td>NaN</td>\n",
       "      <td></td>\n",
       "      <td></td>\n",
       "      <td></td>\n",
       "      <td>NaN</td>\n",
       "    </tr>\n",
       "    <tr>\n",
       "      <th>26</th>\n",
       "      <td>NaN</td>\n",
       "      <td></td>\n",
       "      <td></td>\n",
       "      <td>NaN</td>\n",
       "      <td></td>\n",
       "      <td></td>\n",
       "      <td></td>\n",
       "      <td>NaN</td>\n",
       "    </tr>\n",
       "    <tr>\n",
       "      <th>27</th>\n",
       "      <td>NaN</td>\n",
       "      <td></td>\n",
       "      <td></td>\n",
       "      <td>NaN</td>\n",
       "      <td></td>\n",
       "      <td></td>\n",
       "      <td></td>\n",
       "      <td>NaN</td>\n",
       "    </tr>\n",
       "    <tr>\n",
       "      <th>28</th>\n",
       "      <td>NaN</td>\n",
       "      <td></td>\n",
       "      <td></td>\n",
       "      <td>NaN</td>\n",
       "      <td></td>\n",
       "      <td></td>\n",
       "      <td></td>\n",
       "      <td>NaN</td>\n",
       "    </tr>\n",
       "    <tr>\n",
       "      <th>29</th>\n",
       "      <td>NaN</td>\n",
       "      <td></td>\n",
       "      <td></td>\n",
       "      <td>NaN</td>\n",
       "      <td></td>\n",
       "      <td></td>\n",
       "      <td></td>\n",
       "      <td>NaN</td>\n",
       "    </tr>\n",
       "    <tr>\n",
       "      <th>30</th>\n",
       "      <td>NaN</td>\n",
       "      <td></td>\n",
       "      <td></td>\n",
       "      <td>NaN</td>\n",
       "      <td></td>\n",
       "      <td></td>\n",
       "      <td></td>\n",
       "      <td>NaN</td>\n",
       "    </tr>\n",
       "    <tr>\n",
       "      <th>31</th>\n",
       "      <td>NaN</td>\n",
       "      <td></td>\n",
       "      <td></td>\n",
       "      <td>NaN</td>\n",
       "      <td></td>\n",
       "      <td></td>\n",
       "      <td></td>\n",
       "      <td>NaN</td>\n",
       "    </tr>\n",
       "    <tr>\n",
       "      <th>32</th>\n",
       "      <td>NaN</td>\n",
       "      <td>NaN</td>\n",
       "      <td>NaN</td>\n",
       "      <td>NaN</td>\n",
       "      <td>NaN</td>\n",
       "      <td>Invoice Subtotal</td>\n",
       "      <td>$2,014.00</td>\n",
       "      <td>NaN</td>\n",
       "    </tr>\n",
       "    <tr>\n",
       "      <th>33</th>\n",
       "      <td>NaN</td>\n",
       "      <td>NaN</td>\n",
       "      <td>NaN</td>\n",
       "      <td>NaN</td>\n",
       "      <td>NaN</td>\n",
       "      <td>Tax Rate</td>\n",
       "      <td>8.75%</td>\n",
       "      <td>NaN</td>\n",
       "    </tr>\n",
       "    <tr>\n",
       "      <th>34</th>\n",
       "      <td>NaN</td>\n",
       "      <td>NaN</td>\n",
       "      <td>NaN</td>\n",
       "      <td>NaN</td>\n",
       "      <td>NaN</td>\n",
       "      <td>Sales Tax</td>\n",
       "      <td>176.23</td>\n",
       "      <td>NaN</td>\n",
       "    </tr>\n",
       "    <tr>\n",
       "      <th>35</th>\n",
       "      <td>NaN</td>\n",
       "      <td>NaN</td>\n",
       "      <td>NaN</td>\n",
       "      <td>NaN</td>\n",
       "      <td>NaN</td>\n",
       "      <td>Other</td>\n",
       "      <td>-</td>\n",
       "      <td>NaN</td>\n",
       "    </tr>\n",
       "    <tr>\n",
       "      <th>36</th>\n",
       "      <td>NaN</td>\n",
       "      <td>Make all checks payable to company name.</td>\n",
       "      <td>NaN</td>\n",
       "      <td>NaN</td>\n",
       "      <td>NaN</td>\n",
       "      <td>Deposit Received</td>\n",
       "      <td>-</td>\n",
       "      <td>NaN</td>\n",
       "    </tr>\n",
       "    <tr>\n",
       "      <th>37</th>\n",
       "      <td>NaN</td>\n",
       "      <td>Total due in &lt;#&gt; days. Overdue accounts subjec...</td>\n",
       "      <td>NaN</td>\n",
       "      <td>NaN</td>\n",
       "      <td>NaN</td>\n",
       "      <td>TOTAL</td>\n",
       "      <td>$2,190.23</td>\n",
       "      <td>NaN</td>\n",
       "    </tr>\n",
       "  </tbody>\n",
       "</table>\n",
       "</div>"
      ],
      "text/plain": [
       "    Unnamed: 0                                       company name  \\\n",
       "0          NaN                                     Street Address   \n",
       "1          NaN                               City, State ZIP Code   \n",
       "2          NaN                                           Bill To:   \n",
       "3          NaN                                           Address:   \n",
       "4          NaN                                                NaN   \n",
       "5          NaN                             Invoice For: Project 2   \n",
       "6          NaN                                             Item #   \n",
       "7          NaN                                              Z4567   \n",
       "8          NaN                                              Z4568   \n",
       "9          NaN                                              Z4569   \n",
       "10         NaN                                              Z4570   \n",
       "11         NaN                                              Z4571   \n",
       "12         NaN                                              Z4572   \n",
       "13         NaN                                              Z4573   \n",
       "14         NaN                                              Z4574   \n",
       "15         NaN                                              Z4575   \n",
       "16         NaN                                              Z4576   \n",
       "17         NaN                                              Z4577   \n",
       "18         NaN                                              Z4578   \n",
       "19         NaN                                                      \n",
       "20         NaN                                                      \n",
       "21         NaN                                                      \n",
       "22         NaN                                                      \n",
       "23         NaN                                                      \n",
       "24         NaN                                                      \n",
       "25         NaN                                                      \n",
       "26         NaN                                                      \n",
       "27         NaN                                                      \n",
       "28         NaN                                                      \n",
       "29         NaN                                                      \n",
       "30         NaN                                                      \n",
       "31         NaN                                                      \n",
       "32         NaN                                                NaN   \n",
       "33         NaN                                                NaN   \n",
       "34         NaN                                                NaN   \n",
       "35         NaN                                                NaN   \n",
       "36         NaN           Make all checks payable to company name.   \n",
       "37         NaN  Total due in <#> days. Overdue accounts subjec...   \n",
       "\n",
       "                    Unnamed: 2                  Unnamed: 3  Unnamed: 4  \\\n",
       "0                          NaN             P: Phone Number         NaN   \n",
       "1                          NaN               F: Fax Number         NaN   \n",
       "2                 Contoso, Ltd         Phone: 432-555-0189         NaN   \n",
       "3              567 Walnut Lane       Fax:     432-555-0123         NaN   \n",
       "4            Moline, MO 098765  Email: someone@example.com         NaN   \n",
       "5                          NaN                         NaN         NaN   \n",
       "6                  Description                         Qty  Unit Price   \n",
       "7     Invoice 3-456-2 Data 1                           39       $5.00    \n",
       "8     Invoice 3-456-2 Data 2                           40        4.00    \n",
       "9     Invoice 3-456-2 Data 3                           30        6.00    \n",
       "10    Invoice 3-456-2 Data 4                           40        7.00    \n",
       "11    Invoice 3-456-2 Data 5                           10        4.00    \n",
       "12    Invoice 3-456-2 Data 6                            5        8.00    \n",
       "13    Invoice 3-456-2 Data 7                           70        6.00    \n",
       "14    Invoice 3-456-2 Data 8                           25        4.00    \n",
       "15    Invoice 3-456-2 Data 9                            5        7.00    \n",
       "16   Invoice 3-456-2 Data 10                           80        1.00    \n",
       "17   Invoice 3-456-2 Data 11                           65        7.00    \n",
       "18   Invoice 3-456-2 Data 12                           44        1.00    \n",
       "19                                                     NaN               \n",
       "20                                                     NaN               \n",
       "21                                                     NaN               \n",
       "22                                                     NaN               \n",
       "23                                                     NaN               \n",
       "24                                                     NaN               \n",
       "25                                                     NaN               \n",
       "26                                                     NaN               \n",
       "27                                                     NaN               \n",
       "28                                                     NaN               \n",
       "29                                                     NaN               \n",
       "30                                                     NaN               \n",
       "31                                                     NaN               \n",
       "32                         NaN                         NaN         NaN   \n",
       "33                         NaN                         NaN         NaN   \n",
       "34                         NaN                         NaN         NaN   \n",
       "35                         NaN                         NaN         NaN   \n",
       "36                         NaN                         NaN         NaN   \n",
       "37                         NaN                         NaN         NaN   \n",
       "\n",
       "            Unnamed: 5   Unnamed: 6  Unnamed: 7  \n",
       "0                Email          NaN         NaN  \n",
       "1              Website          NaN         NaN  \n",
       "2           Invoice #:      3-456-2         NaN  \n",
       "3        Invoice Date:    6/28/2020         NaN  \n",
       "4                  NaN          NaN         NaN  \n",
       "5                  NaN          NaN         NaN  \n",
       "6             Discount        Price         NaN  \n",
       "7                $-        $195.00          NaN  \n",
       "8                5.00       155.00          NaN  \n",
       "9                7.00       173.00          NaN  \n",
       "10                -         280.00          NaN  \n",
       "11                -          40.00          NaN  \n",
       "12                -          40.00          NaN  \n",
       "13                -         420.00          NaN  \n",
       "14                -         100.00          NaN  \n",
       "15               3.00        32.00          NaN  \n",
       "16                -          80.00          NaN  \n",
       "17                -         455.00          NaN  \n",
       "18                -          44.00          NaN  \n",
       "19                                          NaN  \n",
       "20                                          NaN  \n",
       "21                                          NaN  \n",
       "22                                          NaN  \n",
       "23                                          NaN  \n",
       "24                                          NaN  \n",
       "25                                          NaN  \n",
       "26                                          NaN  \n",
       "27                                          NaN  \n",
       "28                                          NaN  \n",
       "29                                          NaN  \n",
       "30                                          NaN  \n",
       "31                                          NaN  \n",
       "32  Invoice Subtotal     $2,014.00          NaN  \n",
       "33          Tax Rate         8.75%          NaN  \n",
       "34         Sales Tax        176.23          NaN  \n",
       "35             Other           -            NaN  \n",
       "36  Deposit Received           -            NaN  \n",
       "37             TOTAL     $2,190.23          NaN  "
      ]
     },
     "execution_count": 6,
     "metadata": {},
     "output_type": "execute_result"
    }
   ],
   "source": [
    "import pandas as pd\n",
    "pd.read_csv('Customer Invoice.txt', sep='\\t')"
   ]
  },
  {
   "cell_type": "code",
   "execution_count": null,
   "metadata": {},
   "outputs": [],
   "source": []
  }
 ],
 "metadata": {
  "kernelspec": {
   "display_name": "Python 3 (ipykernel)",
   "language": "python",
   "name": "python3"
  },
  "language_info": {
   "codemirror_mode": {
    "name": "ipython",
    "version": 3
   },
   "file_extension": ".py",
   "mimetype": "text/x-python",
   "name": "python",
   "nbconvert_exporter": "python",
   "pygments_lexer": "ipython3",
   "version": "3.9.7"
  }
 },
 "nbformat": 4,
 "nbformat_minor": 4
}
