{
 "cells": [
  {
   "cell_type": "markdown",
   "metadata": {},
   "source": [
    "## Update your course repo\n",
    "Each time, befire we start working, we want to pull from Bitbucket recent updates to out repo to make sure we work on the latest version of the files. To update the repo:\n",
    "1. From the Windows Start Menu, open Git Bash. \n",
    "2. In the Git Bash window, navigate to the folder where you want to clone the repo (using the `cd` command).\n",
    "3. In the git window, type `git pull https://tyifat@devtools.metlife.com/bitbucket/scm/~tyifat/python-for-dna.git`, using the copied address.\n",
    "4. The repo should be updated now."
   ]
  },
  {
   "cell_type": "code",
   "execution_count": 1,
   "metadata": {},
   "outputs": [],
   "source": [
    "import numpy as np\n",
    "import pandas as pd\n",
    "%matplotlib inline\n",
    "import matplotlib.pyplot as plt"
   ]
  },
  {
   "cell_type": "code",
   "execution_count": 2,
   "metadata": {
    "scrolled": true
   },
   "outputs": [
    {
     "name": "stdout",
     "output_type": "stream",
     "text": [
      "Python version\n",
      "3.7.4 (default, Aug  9 2019, 18:34:13) [MSC v.1915 64 bit (AMD64)]\n",
      "\n",
      "Pandas info\n",
      "0.25.3\n"
     ]
    }
   ],
   "source": [
    "# Which versions are installed?\n",
    "import sys\n",
    "print(\"Python version\")\n",
    "print (sys.version)\n",
    "print(\"\\nPandas info\")\n",
    "print (pd.__version__)"
   ]
  },
  {
   "cell_type": "markdown",
   "metadata": {},
   "source": [
    "## Read dataset\n",
    "The original dataset arrives divided into two parts - train and test. We will append those into a single dataset and then split it ourselves."
   ]
  },
  {
   "cell_type": "code",
   "execution_count": 3,
   "metadata": {},
   "outputs": [
    {
     "data": {
      "text/plain": [
       "(32561, 15)"
      ]
     },
     "execution_count": 3,
     "metadata": {},
     "output_type": "execute_result"
    }
   ],
   "source": [
    "# Read the training set from web \n",
    "df_1 = pd.read_csv(\"https://archive.ics.uci.edu/ml/machine-learning-databases/adult/adult.data\", \n",
    "                   names=['age', 'workclass', 'fnlwgt', 'education', 'education-num', \n",
    "                   'marital-status', 'occupation', 'relationship', 'race', 'sex', \n",
    "                   'capital-gain', 'capital-loss', 'hours-per-week', 'native-country', \n",
    "                   '<=50K'], skipinitialspace=True)\n",
    "df_1.shape"
   ]
  },
  {
   "cell_type": "code",
   "execution_count": 4,
   "metadata": {},
   "outputs": [
    {
     "data": {
      "text/plain": [
       "(16281, 15)"
      ]
     },
     "execution_count": 4,
     "metadata": {},
     "output_type": "execute_result"
    }
   ],
   "source": [
    "# Read the test set\n",
    "df_2 = pd.read_csv(\"https://archive.ics.uci.edu/ml/machine-learning-databases/adult/adult.test\", \n",
    "                   names=['age', 'workclass', 'fnlwgt', 'education', 'education-num', \n",
    "                   'marital-status', 'occupation', 'relationship', 'race', 'sex', \n",
    "                   'capital-gain', 'capital-loss', 'hours-per-week', 'native-country', \n",
    "                   '<=50K'], skipinitialspace=True, skiprows=1)\n",
    "df_2['<=50K'] = df_2['<=50K'].str.strip('.') # strip dots from the end of the target column\n",
    "df_2.shape"
   ]
  },
  {
   "cell_type": "code",
   "execution_count": 5,
   "metadata": {},
   "outputs": [
    {
     "data": {
      "text/plain": [
       "(48842, 15)"
      ]
     },
     "execution_count": 5,
     "metadata": {},
     "output_type": "execute_result"
    }
   ],
   "source": [
    "df_combined = df_1.append(df_2, ignore_index=True)\n",
    "df_combined.shape"
   ]
  },
  {
   "cell_type": "code",
   "execution_count": 6,
   "metadata": {},
   "outputs": [
    {
     "data": {
      "text/html": [
       "<div>\n",
       "<style scoped>\n",
       "    .dataframe tbody tr th:only-of-type {\n",
       "        vertical-align: middle;\n",
       "    }\n",
       "\n",
       "    .dataframe tbody tr th {\n",
       "        vertical-align: top;\n",
       "    }\n",
       "\n",
       "    .dataframe thead th {\n",
       "        text-align: right;\n",
       "    }\n",
       "</style>\n",
       "<table border=\"1\" class=\"dataframe\">\n",
       "  <thead>\n",
       "    <tr style=\"text-align: right;\">\n",
       "      <th></th>\n",
       "      <th>age</th>\n",
       "      <th>workclass</th>\n",
       "      <th>fnlwgt</th>\n",
       "      <th>education</th>\n",
       "      <th>education-num</th>\n",
       "      <th>marital-status</th>\n",
       "      <th>occupation</th>\n",
       "      <th>relationship</th>\n",
       "      <th>race</th>\n",
       "      <th>sex</th>\n",
       "      <th>capital-gain</th>\n",
       "      <th>capital-loss</th>\n",
       "      <th>hours-per-week</th>\n",
       "      <th>native-country</th>\n",
       "      <th>&lt;=50K</th>\n",
       "    </tr>\n",
       "  </thead>\n",
       "  <tbody>\n",
       "    <tr>\n",
       "      <th>0</th>\n",
       "      <td>39</td>\n",
       "      <td>State-gov</td>\n",
       "      <td>77516</td>\n",
       "      <td>Bachelors</td>\n",
       "      <td>13</td>\n",
       "      <td>Never-married</td>\n",
       "      <td>Adm-clerical</td>\n",
       "      <td>Not-in-family</td>\n",
       "      <td>White</td>\n",
       "      <td>Male</td>\n",
       "      <td>2174</td>\n",
       "      <td>0</td>\n",
       "      <td>40</td>\n",
       "      <td>United-States</td>\n",
       "      <td>&lt;=50K</td>\n",
       "    </tr>\n",
       "    <tr>\n",
       "      <th>1</th>\n",
       "      <td>50</td>\n",
       "      <td>Self-emp-not-inc</td>\n",
       "      <td>83311</td>\n",
       "      <td>Bachelors</td>\n",
       "      <td>13</td>\n",
       "      <td>Married-civ-spouse</td>\n",
       "      <td>Exec-managerial</td>\n",
       "      <td>Husband</td>\n",
       "      <td>White</td>\n",
       "      <td>Male</td>\n",
       "      <td>0</td>\n",
       "      <td>0</td>\n",
       "      <td>13</td>\n",
       "      <td>United-States</td>\n",
       "      <td>&lt;=50K</td>\n",
       "    </tr>\n",
       "    <tr>\n",
       "      <th>2</th>\n",
       "      <td>38</td>\n",
       "      <td>Private</td>\n",
       "      <td>215646</td>\n",
       "      <td>HS-grad</td>\n",
       "      <td>9</td>\n",
       "      <td>Divorced</td>\n",
       "      <td>Handlers-cleaners</td>\n",
       "      <td>Not-in-family</td>\n",
       "      <td>White</td>\n",
       "      <td>Male</td>\n",
       "      <td>0</td>\n",
       "      <td>0</td>\n",
       "      <td>40</td>\n",
       "      <td>United-States</td>\n",
       "      <td>&lt;=50K</td>\n",
       "    </tr>\n",
       "    <tr>\n",
       "      <th>3</th>\n",
       "      <td>53</td>\n",
       "      <td>Private</td>\n",
       "      <td>234721</td>\n",
       "      <td>11th</td>\n",
       "      <td>7</td>\n",
       "      <td>Married-civ-spouse</td>\n",
       "      <td>Handlers-cleaners</td>\n",
       "      <td>Husband</td>\n",
       "      <td>Black</td>\n",
       "      <td>Male</td>\n",
       "      <td>0</td>\n",
       "      <td>0</td>\n",
       "      <td>40</td>\n",
       "      <td>United-States</td>\n",
       "      <td>&lt;=50K</td>\n",
       "    </tr>\n",
       "    <tr>\n",
       "      <th>4</th>\n",
       "      <td>28</td>\n",
       "      <td>Private</td>\n",
       "      <td>338409</td>\n",
       "      <td>Bachelors</td>\n",
       "      <td>13</td>\n",
       "      <td>Married-civ-spouse</td>\n",
       "      <td>Prof-specialty</td>\n",
       "      <td>Wife</td>\n",
       "      <td>Black</td>\n",
       "      <td>Female</td>\n",
       "      <td>0</td>\n",
       "      <td>0</td>\n",
       "      <td>40</td>\n",
       "      <td>Cuba</td>\n",
       "      <td>&lt;=50K</td>\n",
       "    </tr>\n",
       "  </tbody>\n",
       "</table>\n",
       "</div>"
      ],
      "text/plain": [
       "   age         workclass  fnlwgt  education  education-num  \\\n",
       "0   39         State-gov   77516  Bachelors             13   \n",
       "1   50  Self-emp-not-inc   83311  Bachelors             13   \n",
       "2   38           Private  215646    HS-grad              9   \n",
       "3   53           Private  234721       11th              7   \n",
       "4   28           Private  338409  Bachelors             13   \n",
       "\n",
       "       marital-status         occupation   relationship   race     sex  \\\n",
       "0       Never-married       Adm-clerical  Not-in-family  White    Male   \n",
       "1  Married-civ-spouse    Exec-managerial        Husband  White    Male   \n",
       "2            Divorced  Handlers-cleaners  Not-in-family  White    Male   \n",
       "3  Married-civ-spouse  Handlers-cleaners        Husband  Black    Male   \n",
       "4  Married-civ-spouse     Prof-specialty           Wife  Black  Female   \n",
       "\n",
       "   capital-gain  capital-loss  hours-per-week native-country  <=50K  \n",
       "0          2174             0              40  United-States  <=50K  \n",
       "1             0             0              13  United-States  <=50K  \n",
       "2             0             0              40  United-States  <=50K  \n",
       "3             0             0              40  United-States  <=50K  \n",
       "4             0             0              40           Cuba  <=50K  "
      ]
     },
     "execution_count": 6,
     "metadata": {},
     "output_type": "execute_result"
    }
   ],
   "source": [
    "df_combined.head()"
   ]
  },
  {
   "cell_type": "markdown",
   "metadata": {},
   "source": [
    "# Pandas Basics\n",
    "Check out these [pandas tutorials](https://pandas.pydata.org/pandas-docs/stable/getting_started/tutorials.html).\n",
    "\n",
    "The two main data structures in pandas are:\n",
    "* **Series**: a one-dimensional labeled array capable of holding any data type.\n",
    "* **Dataframe**: a two-dimensional labeled data structure with columns of potentially different types. Each column in a dataframe is a series.\n",
    "\n",
    "## Creating series and dataframes"
   ]
  },
  {
   "cell_type": "code",
   "execution_count": 7,
   "metadata": {},
   "outputs": [
    {
     "data": {
      "text/plain": [
       "0     1.0\n",
       "1     3.0\n",
       "2     5.0\n",
       "3     NaN\n",
       "4     8.0\n",
       "5    10.0\n",
       "dtype: float64"
      ]
     },
     "execution_count": 7,
     "metadata": {},
     "output_type": "execute_result"
    }
   ],
   "source": [
    "# A simple way to create a series\n",
    "s = pd.Series([1, 3, 5, np.nan, 8, 10])\n",
    "s"
   ]
  },
  {
   "cell_type": "code",
   "execution_count": 8,
   "metadata": {},
   "outputs": [
    {
     "data": {
      "text/plain": [
       "apple            red\n",
       "orange        orange\n",
       "banana        yellow\n",
       "kiwi           green\n",
       "strawberry       red\n",
       "dtype: object"
      ]
     },
     "execution_count": 8,
     "metadata": {},
     "output_type": "execute_result"
    }
   ],
   "source": [
    "# Create a series with defined labels\n",
    "color = pd.Series(['red', 'orange', 'yellow', 'green', 'red'], index=['apple', 'orange', 'banana', 'kiwi', 'strawberry'])\n",
    "color"
   ]
  },
  {
   "cell_type": "code",
   "execution_count": 9,
   "metadata": {},
   "outputs": [
    {
     "data": {
      "text/plain": [
       "apple                         fall\n",
       "orange                      winter\n",
       "banana                    all year\n",
       "kiwi          summer, fall, winter\n",
       "strawberry                  spring\n",
       "dtype: object"
      ]
     },
     "execution_count": 9,
     "metadata": {},
     "output_type": "execute_result"
    }
   ],
   "source": [
    "# Create a series using a dictionary\n",
    "season = pd.Series({'apple':'fall', 'orange':'winter', 'banana':'all year', 'kiwi':'summer, fall, winter', \n",
    "                    'strawberry':'spring'})\n",
    "season"
   ]
  },
  {
   "cell_type": "code",
   "execution_count": 10,
   "metadata": {},
   "outputs": [
    {
     "data": {
      "text/html": [
       "<div>\n",
       "<style scoped>\n",
       "    .dataframe tbody tr th:only-of-type {\n",
       "        vertical-align: middle;\n",
       "    }\n",
       "\n",
       "    .dataframe tbody tr th {\n",
       "        vertical-align: top;\n",
       "    }\n",
       "\n",
       "    .dataframe thead th {\n",
       "        text-align: right;\n",
       "    }\n",
       "</style>\n",
       "<table border=\"1\" class=\"dataframe\">\n",
       "  <thead>\n",
       "    <tr style=\"text-align: right;\">\n",
       "      <th></th>\n",
       "      <th>color</th>\n",
       "      <th>season</th>\n",
       "      <th>quantity</th>\n",
       "    </tr>\n",
       "  </thead>\n",
       "  <tbody>\n",
       "    <tr>\n",
       "      <th>apple</th>\n",
       "      <td>red</td>\n",
       "      <td>fall</td>\n",
       "      <td>3</td>\n",
       "    </tr>\n",
       "    <tr>\n",
       "      <th>orange</th>\n",
       "      <td>orange</td>\n",
       "      <td>winter</td>\n",
       "      <td>7</td>\n",
       "    </tr>\n",
       "    <tr>\n",
       "      <th>banana</th>\n",
       "      <td>yellow</td>\n",
       "      <td>all year</td>\n",
       "      <td>2</td>\n",
       "    </tr>\n",
       "    <tr>\n",
       "      <th>kiwi</th>\n",
       "      <td>green</td>\n",
       "      <td>summer, fall, winter</td>\n",
       "      <td>6</td>\n",
       "    </tr>\n",
       "    <tr>\n",
       "      <th>strawberry</th>\n",
       "      <td>red</td>\n",
       "      <td>spring</td>\n",
       "      <td>10</td>\n",
       "    </tr>\n",
       "  </tbody>\n",
       "</table>\n",
       "</div>"
      ],
      "text/plain": [
       "             color                season  quantity\n",
       "apple          red                  fall         3\n",
       "orange      orange                winter         7\n",
       "banana      yellow              all year         2\n",
       "kiwi         green  summer, fall, winter         6\n",
       "strawberry     red                spring        10"
      ]
     },
     "execution_count": 10,
     "metadata": {},
     "output_type": "execute_result"
    }
   ],
   "source": [
    "# Creating a dataframe from series\n",
    "import random\n",
    "\n",
    "fruits = pd.DataFrame({'color': color,\n",
    "        'season': season,\n",
    "        'quantity': pd.Series([random.randint(1,10) for i in range(5)] , \n",
    "                              index=['apple', 'orange', 'banana', 'kiwi', 'strawberry'],\n",
    "                             dtype='int8')})\n",
    "fruits"
   ]
  },
  {
   "cell_type": "code",
   "execution_count": 11,
   "metadata": {},
   "outputs": [
    {
     "data": {
      "text/html": [
       "<div>\n",
       "<style scoped>\n",
       "    .dataframe tbody tr th:only-of-type {\n",
       "        vertical-align: middle;\n",
       "    }\n",
       "\n",
       "    .dataframe tbody tr th {\n",
       "        vertical-align: top;\n",
       "    }\n",
       "\n",
       "    .dataframe thead th {\n",
       "        text-align: right;\n",
       "    }\n",
       "</style>\n",
       "<table border=\"1\" class=\"dataframe\">\n",
       "  <thead>\n",
       "    <tr style=\"text-align: right;\">\n",
       "      <th></th>\n",
       "      <th>color</th>\n",
       "      <th>season</th>\n",
       "      <th>quantity</th>\n",
       "      <th>A lot?</th>\n",
       "    </tr>\n",
       "  </thead>\n",
       "  <tbody>\n",
       "    <tr>\n",
       "      <th>apple</th>\n",
       "      <td>red</td>\n",
       "      <td>fall</td>\n",
       "      <td>3</td>\n",
       "      <td>False</td>\n",
       "    </tr>\n",
       "    <tr>\n",
       "      <th>orange</th>\n",
       "      <td>orange</td>\n",
       "      <td>winter</td>\n",
       "      <td>7</td>\n",
       "      <td>True</td>\n",
       "    </tr>\n",
       "    <tr>\n",
       "      <th>banana</th>\n",
       "      <td>yellow</td>\n",
       "      <td>all year</td>\n",
       "      <td>2</td>\n",
       "      <td>False</td>\n",
       "    </tr>\n",
       "    <tr>\n",
       "      <th>kiwi</th>\n",
       "      <td>green</td>\n",
       "      <td>summer, fall, winter</td>\n",
       "      <td>6</td>\n",
       "      <td>True</td>\n",
       "    </tr>\n",
       "    <tr>\n",
       "      <th>strawberry</th>\n",
       "      <td>red</td>\n",
       "      <td>spring</td>\n",
       "      <td>10</td>\n",
       "      <td>True</td>\n",
       "    </tr>\n",
       "  </tbody>\n",
       "</table>\n",
       "</div>"
      ],
      "text/plain": [
       "             color                season  quantity  A lot?\n",
       "apple          red                  fall         3   False\n",
       "orange      orange                winter         7    True\n",
       "banana      yellow              all year         2   False\n",
       "kiwi         green  summer, fall, winter         6    True\n",
       "strawberry     red                spring        10    True"
      ]
     },
     "execution_count": 11,
     "metadata": {},
     "output_type": "execute_result"
    }
   ],
   "source": [
    "# Add a column\n",
    "fruits['A lot?'] = fruits['quantity'] > 5\n",
    "fruits"
   ]
  },
  {
   "cell_type": "markdown",
   "metadata": {},
   "source": [
    "### Creating a time series dataframe"
   ]
  },
  {
   "cell_type": "code",
   "execution_count": 12,
   "metadata": {},
   "outputs": [
    {
     "data": {
      "text/plain": [
       "DatetimeIndex(['2013-01-01', '2013-01-02', '2013-01-03', '2013-01-04',\n",
       "               '2013-01-05', '2013-01-06'],\n",
       "              dtype='datetime64[ns]', freq='D')"
      ]
     },
     "execution_count": 12,
     "metadata": {},
     "output_type": "execute_result"
    }
   ],
   "source": [
    "# First we create the index\n",
    "dates = pd.date_range(start='20130101', periods=6, freq='D')\n",
    "dates"
   ]
  },
  {
   "cell_type": "code",
   "execution_count": 13,
   "metadata": {},
   "outputs": [
    {
     "data": {
      "text/html": [
       "<div>\n",
       "<style scoped>\n",
       "    .dataframe tbody tr th:only-of-type {\n",
       "        vertical-align: middle;\n",
       "    }\n",
       "\n",
       "    .dataframe tbody tr th {\n",
       "        vertical-align: top;\n",
       "    }\n",
       "\n",
       "    .dataframe thead th {\n",
       "        text-align: right;\n",
       "    }\n",
       "</style>\n",
       "<table border=\"1\" class=\"dataframe\">\n",
       "  <thead>\n",
       "    <tr style=\"text-align: right;\">\n",
       "      <th></th>\n",
       "      <th>A</th>\n",
       "      <th>B</th>\n",
       "      <th>C</th>\n",
       "      <th>D</th>\n",
       "    </tr>\n",
       "  </thead>\n",
       "  <tbody>\n",
       "    <tr>\n",
       "      <th>2013-01-01</th>\n",
       "      <td>-0.728748</td>\n",
       "      <td>0.009059</td>\n",
       "      <td>0.168218</td>\n",
       "      <td>-1.658232</td>\n",
       "    </tr>\n",
       "    <tr>\n",
       "      <th>2013-01-02</th>\n",
       "      <td>-1.464794</td>\n",
       "      <td>-0.621520</td>\n",
       "      <td>-2.652188</td>\n",
       "      <td>-0.407315</td>\n",
       "    </tr>\n",
       "    <tr>\n",
       "      <th>2013-01-03</th>\n",
       "      <td>-0.744986</td>\n",
       "      <td>-1.927310</td>\n",
       "      <td>-2.337016</td>\n",
       "      <td>-0.113552</td>\n",
       "    </tr>\n",
       "    <tr>\n",
       "      <th>2013-01-04</th>\n",
       "      <td>-2.259340</td>\n",
       "      <td>-0.708865</td>\n",
       "      <td>-0.764090</td>\n",
       "      <td>0.741928</td>\n",
       "    </tr>\n",
       "    <tr>\n",
       "      <th>2013-01-05</th>\n",
       "      <td>0.188598</td>\n",
       "      <td>-1.201893</td>\n",
       "      <td>1.175532</td>\n",
       "      <td>1.736384</td>\n",
       "    </tr>\n",
       "    <tr>\n",
       "      <th>2013-01-06</th>\n",
       "      <td>-0.196671</td>\n",
       "      <td>-1.367981</td>\n",
       "      <td>0.994886</td>\n",
       "      <td>1.348950</td>\n",
       "    </tr>\n",
       "  </tbody>\n",
       "</table>\n",
       "</div>"
      ],
      "text/plain": [
       "                   A         B         C         D\n",
       "2013-01-01 -0.728748  0.009059  0.168218 -1.658232\n",
       "2013-01-02 -1.464794 -0.621520 -2.652188 -0.407315\n",
       "2013-01-03 -0.744986 -1.927310 -2.337016 -0.113552\n",
       "2013-01-04 -2.259340 -0.708865 -0.764090  0.741928\n",
       "2013-01-05  0.188598 -1.201893  1.175532  1.736384\n",
       "2013-01-06 -0.196671 -1.367981  0.994886  1.348950"
      ]
     },
     "execution_count": 13,
     "metadata": {},
     "output_type": "execute_result"
    }
   ],
   "source": [
    "# and then the dataframe\n",
    "df = pd.DataFrame(np.random.randn(6, 4), index=dates, columns=list('ABCD'))\n",
    "df"
   ]
  },
  {
   "cell_type": "markdown",
   "metadata": {},
   "source": [
    "## Atrributes and underlying data"
   ]
  },
  {
   "cell_type": "code",
   "execution_count": 14,
   "metadata": {},
   "outputs": [
    {
     "data": {
      "text/plain": [
       "(5, 4)"
      ]
     },
     "execution_count": 14,
     "metadata": {},
     "output_type": "execute_result"
    }
   ],
   "source": [
    "# We can see the dimensions of a dataframe\n",
    "fruits.shape"
   ]
  },
  {
   "cell_type": "code",
   "execution_count": 15,
   "metadata": {},
   "outputs": [
    {
     "data": {
      "text/html": [
       "<div>\n",
       "<style scoped>\n",
       "    .dataframe tbody tr th:only-of-type {\n",
       "        vertical-align: middle;\n",
       "    }\n",
       "\n",
       "    .dataframe tbody tr th {\n",
       "        vertical-align: top;\n",
       "    }\n",
       "\n",
       "    .dataframe thead th {\n",
       "        text-align: right;\n",
       "    }\n",
       "</style>\n",
       "<table border=\"1\" class=\"dataframe\">\n",
       "  <thead>\n",
       "    <tr style=\"text-align: right;\">\n",
       "      <th></th>\n",
       "      <th>color</th>\n",
       "      <th>season</th>\n",
       "      <th>quantity</th>\n",
       "      <th>A lot?</th>\n",
       "    </tr>\n",
       "  </thead>\n",
       "  <tbody>\n",
       "    <tr>\n",
       "      <th>apple</th>\n",
       "      <td>red</td>\n",
       "      <td>fall</td>\n",
       "      <td>3</td>\n",
       "      <td>False</td>\n",
       "    </tr>\n",
       "    <tr>\n",
       "      <th>orange</th>\n",
       "      <td>orange</td>\n",
       "      <td>winter</td>\n",
       "      <td>7</td>\n",
       "      <td>True</td>\n",
       "    </tr>\n",
       "  </tbody>\n",
       "</table>\n",
       "</div>"
      ],
      "text/plain": [
       "         color  season  quantity  A lot?\n",
       "apple      red    fall         3   False\n",
       "orange  orange  winter         7    True"
      ]
     },
     "execution_count": 15,
     "metadata": {},
     "output_type": "execute_result"
    }
   ],
   "source": [
    "# We can view the beginning or end using the .head() and .tail() methods\n",
    "fruits.head(2)"
   ]
  },
  {
   "cell_type": "code",
   "execution_count": 16,
   "metadata": {},
   "outputs": [
    {
     "data": {
      "text/plain": [
       "Index(['apple', 'orange', 'banana', 'kiwi', 'strawberry'], dtype='object')"
      ]
     },
     "execution_count": 16,
     "metadata": {},
     "output_type": "execute_result"
    }
   ],
   "source": [
    "# The index (that is, row labels)\n",
    "fruits.index"
   ]
  },
  {
   "cell_type": "code",
   "execution_count": 17,
   "metadata": {},
   "outputs": [
    {
     "data": {
      "text/html": [
       "<div>\n",
       "<style scoped>\n",
       "    .dataframe tbody tr th:only-of-type {\n",
       "        vertical-align: middle;\n",
       "    }\n",
       "\n",
       "    .dataframe tbody tr th {\n",
       "        vertical-align: top;\n",
       "    }\n",
       "\n",
       "    .dataframe thead th {\n",
       "        text-align: right;\n",
       "    }\n",
       "</style>\n",
       "<table border=\"1\" class=\"dataframe\">\n",
       "  <thead>\n",
       "    <tr style=\"text-align: right;\">\n",
       "      <th></th>\n",
       "      <th>color</th>\n",
       "      <th>season</th>\n",
       "      <th>quantity</th>\n",
       "      <th>A lot?</th>\n",
       "    </tr>\n",
       "    <tr>\n",
       "      <th>fruits</th>\n",
       "      <th></th>\n",
       "      <th></th>\n",
       "      <th></th>\n",
       "      <th></th>\n",
       "    </tr>\n",
       "  </thead>\n",
       "  <tbody>\n",
       "    <tr>\n",
       "      <th>apple</th>\n",
       "      <td>red</td>\n",
       "      <td>fall</td>\n",
       "      <td>3</td>\n",
       "      <td>False</td>\n",
       "    </tr>\n",
       "    <tr>\n",
       "      <th>orange</th>\n",
       "      <td>orange</td>\n",
       "      <td>winter</td>\n",
       "      <td>7</td>\n",
       "      <td>True</td>\n",
       "    </tr>\n",
       "    <tr>\n",
       "      <th>banana</th>\n",
       "      <td>yellow</td>\n",
       "      <td>all year</td>\n",
       "      <td>2</td>\n",
       "      <td>False</td>\n",
       "    </tr>\n",
       "    <tr>\n",
       "      <th>kiwi</th>\n",
       "      <td>green</td>\n",
       "      <td>summer, fall, winter</td>\n",
       "      <td>6</td>\n",
       "      <td>True</td>\n",
       "    </tr>\n",
       "    <tr>\n",
       "      <th>strawberry</th>\n",
       "      <td>red</td>\n",
       "      <td>spring</td>\n",
       "      <td>10</td>\n",
       "      <td>True</td>\n",
       "    </tr>\n",
       "  </tbody>\n",
       "</table>\n",
       "</div>"
      ],
      "text/plain": [
       "             color                season  quantity  A lot?\n",
       "fruits                                                    \n",
       "apple          red                  fall         3   False\n",
       "orange      orange                winter         7    True\n",
       "banana      yellow              all year         2   False\n",
       "kiwi         green  summer, fall, winter         6    True\n",
       "strawberry     red                spring        10    True"
      ]
     },
     "execution_count": 17,
     "metadata": {},
     "output_type": "execute_result"
    }
   ],
   "source": [
    "fruits.index.name = 'fruits'\n",
    "fruits"
   ]
  },
  {
   "cell_type": "code",
   "execution_count": 18,
   "metadata": {},
   "outputs": [
    {
     "data": {
      "text/plain": [
       "Index(['color', 'season', 'quantity', 'A lot?'], dtype='object')"
      ]
     },
     "execution_count": 18,
     "metadata": {},
     "output_type": "execute_result"
    }
   ],
   "source": [
    "# Column names\n",
    "fruits.columns"
   ]
  },
  {
   "cell_type": "code",
   "execution_count": 19,
   "metadata": {},
   "outputs": [
    {
     "name": "stdout",
     "output_type": "stream",
     "text": [
      "color : object\n",
      "season : object\n",
      "quantity : int8\n",
      "A lot? : bool\n"
     ]
    }
   ],
   "source": [
    "# An index is iterable\n",
    "for col in fruits.columns:\n",
    "    print(col, ':', fruits[col].dtype)"
   ]
  },
  {
   "cell_type": "code",
   "execution_count": 20,
   "metadata": {},
   "outputs": [
    {
     "data": {
      "text/plain": [
       "color       object\n",
       "season      object\n",
       "quantity      int8\n",
       "A lot?        bool\n",
       "dtype: object"
      ]
     },
     "execution_count": 20,
     "metadata": {},
     "output_type": "execute_result"
    }
   ],
   "source": [
    "# Access the data types of a dataframe\n",
    "fruits.dtypes"
   ]
  },
  {
   "cell_type": "code",
   "execution_count": 21,
   "metadata": {},
   "outputs": [
    {
     "data": {
      "text/plain": [
       "array(['red', 'orange', 'yellow', 'green', 'red'], dtype=object)"
      ]
     },
     "execution_count": 21,
     "metadata": {},
     "output_type": "execute_result"
    }
   ],
   "source": [
    "# We can access the contents of a series without the labels \n",
    "fruits['color'].values"
   ]
  },
  {
   "cell_type": "code",
   "execution_count": 22,
   "metadata": {},
   "outputs": [
    {
     "data": {
      "text/plain": [
       "array([['red', 'fall', 3, False],\n",
       "       ['orange', 'winter', 7, True],\n",
       "       ['yellow', 'all year', 2, False],\n",
       "       ['green', 'summer, fall, winter', 6, True],\n",
       "       ['red', 'spring', 10, True]], dtype=object)"
      ]
     },
     "execution_count": 22,
     "metadata": {},
     "output_type": "execute_result"
    }
   ],
   "source": [
    "# We can convert dataframes to numpy arrays\n",
    "fruits.to_numpy()"
   ]
  },
  {
   "cell_type": "code",
   "execution_count": 23,
   "metadata": {},
   "outputs": [
    {
     "name": "stdout",
     "output_type": "stream",
     "text": [
      "<class 'pandas.core.frame.DataFrame'>\n",
      "Index: 5 entries, apple to strawberry\n",
      "Data columns (total 4 columns):\n",
      "color       5 non-null object\n",
      "season      5 non-null object\n",
      "quantity    5 non-null int8\n",
      "A lot?      5 non-null bool\n",
      "dtypes: bool(1), int8(1), object(2)\n",
      "memory usage: 290.0+ bytes\n"
     ]
    }
   ],
   "source": [
    "# General dataframe info\n",
    "fruits.info()"
   ]
  },
  {
   "cell_type": "code",
   "execution_count": 24,
   "metadata": {
    "scrolled": true
   },
   "outputs": [
    {
     "data": {
      "text/html": [
       "<div>\n",
       "<style scoped>\n",
       "    .dataframe tbody tr th:only-of-type {\n",
       "        vertical-align: middle;\n",
       "    }\n",
       "\n",
       "    .dataframe tbody tr th {\n",
       "        vertical-align: top;\n",
       "    }\n",
       "\n",
       "    .dataframe thead th {\n",
       "        text-align: right;\n",
       "    }\n",
       "</style>\n",
       "<table border=\"1\" class=\"dataframe\">\n",
       "  <thead>\n",
       "    <tr style=\"text-align: right;\">\n",
       "      <th></th>\n",
       "      <th>A</th>\n",
       "      <th>B</th>\n",
       "      <th>C</th>\n",
       "      <th>D</th>\n",
       "    </tr>\n",
       "  </thead>\n",
       "  <tbody>\n",
       "    <tr>\n",
       "      <th>count</th>\n",
       "      <td>6.000000</td>\n",
       "      <td>6.000000</td>\n",
       "      <td>6.000000</td>\n",
       "      <td>6.000000</td>\n",
       "    </tr>\n",
       "    <tr>\n",
       "      <th>mean</th>\n",
       "      <td>-0.867657</td>\n",
       "      <td>-0.969752</td>\n",
       "      <td>-0.569110</td>\n",
       "      <td>0.274694</td>\n",
       "    </tr>\n",
       "    <tr>\n",
       "      <th>std</th>\n",
       "      <td>0.882451</td>\n",
       "      <td>0.674802</td>\n",
       "      <td>1.645371</td>\n",
       "      <td>1.253869</td>\n",
       "    </tr>\n",
       "    <tr>\n",
       "      <th>min</th>\n",
       "      <td>-2.259340</td>\n",
       "      <td>-1.927310</td>\n",
       "      <td>-2.652188</td>\n",
       "      <td>-1.658232</td>\n",
       "    </tr>\n",
       "    <tr>\n",
       "      <th>25%</th>\n",
       "      <td>-1.284842</td>\n",
       "      <td>-1.326459</td>\n",
       "      <td>-1.943785</td>\n",
       "      <td>-0.333874</td>\n",
       "    </tr>\n",
       "    <tr>\n",
       "      <th>50%</th>\n",
       "      <td>-0.736867</td>\n",
       "      <td>-0.955379</td>\n",
       "      <td>-0.297936</td>\n",
       "      <td>0.314188</td>\n",
       "    </tr>\n",
       "    <tr>\n",
       "      <th>75%</th>\n",
       "      <td>-0.329690</td>\n",
       "      <td>-0.643356</td>\n",
       "      <td>0.788219</td>\n",
       "      <td>1.197195</td>\n",
       "    </tr>\n",
       "    <tr>\n",
       "      <th>max</th>\n",
       "      <td>0.188598</td>\n",
       "      <td>0.009059</td>\n",
       "      <td>1.175532</td>\n",
       "      <td>1.736384</td>\n",
       "    </tr>\n",
       "  </tbody>\n",
       "</table>\n",
       "</div>"
      ],
      "text/plain": [
       "              A         B         C         D\n",
       "count  6.000000  6.000000  6.000000  6.000000\n",
       "mean  -0.867657 -0.969752 -0.569110  0.274694\n",
       "std    0.882451  0.674802  1.645371  1.253869\n",
       "min   -2.259340 -1.927310 -2.652188 -1.658232\n",
       "25%   -1.284842 -1.326459 -1.943785 -0.333874\n",
       "50%   -0.736867 -0.955379 -0.297936  0.314188\n",
       "75%   -0.329690 -0.643356  0.788219  1.197195\n",
       "max    0.188598  0.009059  1.175532  1.736384"
      ]
     },
     "execution_count": 24,
     "metadata": {},
     "output_type": "execute_result"
    }
   ],
   "source": [
    "# Descriptive statistics for a dataframe\n",
    "df.describe()"
   ]
  },
  {
   "cell_type": "code",
   "execution_count": 25,
   "metadata": {},
   "outputs": [
    {
     "data": {
      "text/html": [
       "<div>\n",
       "<style scoped>\n",
       "    .dataframe tbody tr th:only-of-type {\n",
       "        vertical-align: middle;\n",
       "    }\n",
       "\n",
       "    .dataframe tbody tr th {\n",
       "        vertical-align: top;\n",
       "    }\n",
       "\n",
       "    .dataframe thead th {\n",
       "        text-align: right;\n",
       "    }\n",
       "</style>\n",
       "<table border=\"1\" class=\"dataframe\">\n",
       "  <thead>\n",
       "    <tr style=\"text-align: right;\">\n",
       "      <th></th>\n",
       "      <th>quantity</th>\n",
       "    </tr>\n",
       "  </thead>\n",
       "  <tbody>\n",
       "    <tr>\n",
       "      <th>count</th>\n",
       "      <td>5.000000</td>\n",
       "    </tr>\n",
       "    <tr>\n",
       "      <th>mean</th>\n",
       "      <td>5.600000</td>\n",
       "    </tr>\n",
       "    <tr>\n",
       "      <th>std</th>\n",
       "      <td>3.209361</td>\n",
       "    </tr>\n",
       "    <tr>\n",
       "      <th>min</th>\n",
       "      <td>2.000000</td>\n",
       "    </tr>\n",
       "    <tr>\n",
       "      <th>25%</th>\n",
       "      <td>3.000000</td>\n",
       "    </tr>\n",
       "    <tr>\n",
       "      <th>50%</th>\n",
       "      <td>6.000000</td>\n",
       "    </tr>\n",
       "    <tr>\n",
       "      <th>75%</th>\n",
       "      <td>7.000000</td>\n",
       "    </tr>\n",
       "    <tr>\n",
       "      <th>max</th>\n",
       "      <td>10.000000</td>\n",
       "    </tr>\n",
       "  </tbody>\n",
       "</table>\n",
       "</div>"
      ],
      "text/plain": [
       "        quantity\n",
       "count   5.000000\n",
       "mean    5.600000\n",
       "std     3.209361\n",
       "min     2.000000\n",
       "25%     3.000000\n",
       "50%     6.000000\n",
       "75%     7.000000\n",
       "max    10.000000"
      ]
     },
     "execution_count": 25,
     "metadata": {},
     "output_type": "execute_result"
    }
   ],
   "source": [
    "fruits.describe()"
   ]
  },
  {
   "cell_type": "code",
   "execution_count": 26,
   "metadata": {},
   "outputs": [
    {
     "data": {
      "text/plain": [
       "red       2\n",
       "yellow    1\n",
       "green     1\n",
       "orange    1\n",
       "Name: color, dtype: int64"
      ]
     },
     "execution_count": 26,
     "metadata": {},
     "output_type": "execute_result"
    }
   ],
   "source": [
    "# Value counts for a series\n",
    "fruits['color'].value_counts()"
   ]
  },
  {
   "cell_type": "code",
   "execution_count": 27,
   "metadata": {},
   "outputs": [
    {
     "data": {
      "text/html": [
       "<div>\n",
       "<style scoped>\n",
       "    .dataframe tbody tr th:only-of-type {\n",
       "        vertical-align: middle;\n",
       "    }\n",
       "\n",
       "    .dataframe tbody tr th {\n",
       "        vertical-align: top;\n",
       "    }\n",
       "\n",
       "    .dataframe thead th {\n",
       "        text-align: right;\n",
       "    }\n",
       "</style>\n",
       "<table border=\"1\" class=\"dataframe\">\n",
       "  <thead>\n",
       "    <tr style=\"text-align: right;\">\n",
       "      <th>fruits</th>\n",
       "      <th>apple</th>\n",
       "      <th>orange</th>\n",
       "      <th>banana</th>\n",
       "      <th>kiwi</th>\n",
       "      <th>strawberry</th>\n",
       "    </tr>\n",
       "  </thead>\n",
       "  <tbody>\n",
       "    <tr>\n",
       "      <th>color</th>\n",
       "      <td>red</td>\n",
       "      <td>orange</td>\n",
       "      <td>yellow</td>\n",
       "      <td>green</td>\n",
       "      <td>red</td>\n",
       "    </tr>\n",
       "    <tr>\n",
       "      <th>season</th>\n",
       "      <td>fall</td>\n",
       "      <td>winter</td>\n",
       "      <td>all year</td>\n",
       "      <td>summer, fall, winter</td>\n",
       "      <td>spring</td>\n",
       "    </tr>\n",
       "    <tr>\n",
       "      <th>quantity</th>\n",
       "      <td>3</td>\n",
       "      <td>7</td>\n",
       "      <td>2</td>\n",
       "      <td>6</td>\n",
       "      <td>10</td>\n",
       "    </tr>\n",
       "    <tr>\n",
       "      <th>A lot?</th>\n",
       "      <td>False</td>\n",
       "      <td>True</td>\n",
       "      <td>False</td>\n",
       "      <td>True</td>\n",
       "      <td>True</td>\n",
       "    </tr>\n",
       "  </tbody>\n",
       "</table>\n",
       "</div>"
      ],
      "text/plain": [
       "fruits    apple  orange    banana                  kiwi strawberry\n",
       "color       red  orange    yellow                 green        red\n",
       "season     fall  winter  all year  summer, fall, winter     spring\n",
       "quantity      3       7         2                     6         10\n",
       "A lot?    False    True     False                  True       True"
      ]
     },
     "execution_count": 27,
     "metadata": {},
     "output_type": "execute_result"
    }
   ],
   "source": [
    "# Transpose a dataframe\n",
    "fruits.T"
   ]
  },
  {
   "cell_type": "markdown",
   "metadata": {},
   "source": [
    "## Sorting"
   ]
  },
  {
   "cell_type": "code",
   "execution_count": 28,
   "metadata": {},
   "outputs": [
    {
     "data": {
      "text/html": [
       "<div>\n",
       "<style scoped>\n",
       "    .dataframe tbody tr th:only-of-type {\n",
       "        vertical-align: middle;\n",
       "    }\n",
       "\n",
       "    .dataframe tbody tr th {\n",
       "        vertical-align: top;\n",
       "    }\n",
       "\n",
       "    .dataframe thead th {\n",
       "        text-align: right;\n",
       "    }\n",
       "</style>\n",
       "<table border=\"1\" class=\"dataframe\">\n",
       "  <thead>\n",
       "    <tr style=\"text-align: right;\">\n",
       "      <th></th>\n",
       "      <th>color</th>\n",
       "      <th>season</th>\n",
       "      <th>quantity</th>\n",
       "      <th>A lot?</th>\n",
       "    </tr>\n",
       "    <tr>\n",
       "      <th>fruits</th>\n",
       "      <th></th>\n",
       "      <th></th>\n",
       "      <th></th>\n",
       "      <th></th>\n",
       "    </tr>\n",
       "  </thead>\n",
       "  <tbody>\n",
       "    <tr>\n",
       "      <th>strawberry</th>\n",
       "      <td>red</td>\n",
       "      <td>spring</td>\n",
       "      <td>10</td>\n",
       "      <td>True</td>\n",
       "    </tr>\n",
       "    <tr>\n",
       "      <th>orange</th>\n",
       "      <td>orange</td>\n",
       "      <td>winter</td>\n",
       "      <td>7</td>\n",
       "      <td>True</td>\n",
       "    </tr>\n",
       "    <tr>\n",
       "      <th>kiwi</th>\n",
       "      <td>green</td>\n",
       "      <td>summer, fall, winter</td>\n",
       "      <td>6</td>\n",
       "      <td>True</td>\n",
       "    </tr>\n",
       "    <tr>\n",
       "      <th>banana</th>\n",
       "      <td>yellow</td>\n",
       "      <td>all year</td>\n",
       "      <td>2</td>\n",
       "      <td>False</td>\n",
       "    </tr>\n",
       "    <tr>\n",
       "      <th>apple</th>\n",
       "      <td>red</td>\n",
       "      <td>fall</td>\n",
       "      <td>3</td>\n",
       "      <td>False</td>\n",
       "    </tr>\n",
       "  </tbody>\n",
       "</table>\n",
       "</div>"
      ],
      "text/plain": [
       "             color                season  quantity  A lot?\n",
       "fruits                                                    \n",
       "strawberry     red                spring        10    True\n",
       "orange      orange                winter         7    True\n",
       "kiwi         green  summer, fall, winter         6    True\n",
       "banana      yellow              all year         2   False\n",
       "apple          red                  fall         3   False"
      ]
     },
     "execution_count": 28,
     "metadata": {},
     "output_type": "execute_result"
    }
   ],
   "source": [
    "# Sort by index\n",
    "fruits.sort_index(ascending=False)"
   ]
  },
  {
   "cell_type": "code",
   "execution_count": 29,
   "metadata": {},
   "outputs": [
    {
     "data": {
      "text/html": [
       "<div>\n",
       "<style scoped>\n",
       "    .dataframe tbody tr th:only-of-type {\n",
       "        vertical-align: middle;\n",
       "    }\n",
       "\n",
       "    .dataframe tbody tr th {\n",
       "        vertical-align: top;\n",
       "    }\n",
       "\n",
       "    .dataframe thead th {\n",
       "        text-align: right;\n",
       "    }\n",
       "</style>\n",
       "<table border=\"1\" class=\"dataframe\">\n",
       "  <thead>\n",
       "    <tr style=\"text-align: right;\">\n",
       "      <th></th>\n",
       "      <th>color</th>\n",
       "      <th>season</th>\n",
       "      <th>quantity</th>\n",
       "      <th>A lot?</th>\n",
       "    </tr>\n",
       "    <tr>\n",
       "      <th>fruits</th>\n",
       "      <th></th>\n",
       "      <th></th>\n",
       "      <th></th>\n",
       "      <th></th>\n",
       "    </tr>\n",
       "  </thead>\n",
       "  <tbody>\n",
       "    <tr>\n",
       "      <th>apple</th>\n",
       "      <td>red</td>\n",
       "      <td>fall</td>\n",
       "      <td>3</td>\n",
       "      <td>False</td>\n",
       "    </tr>\n",
       "    <tr>\n",
       "      <th>orange</th>\n",
       "      <td>orange</td>\n",
       "      <td>winter</td>\n",
       "      <td>7</td>\n",
       "      <td>True</td>\n",
       "    </tr>\n",
       "    <tr>\n",
       "      <th>banana</th>\n",
       "      <td>yellow</td>\n",
       "      <td>all year</td>\n",
       "      <td>2</td>\n",
       "      <td>False</td>\n",
       "    </tr>\n",
       "    <tr>\n",
       "      <th>kiwi</th>\n",
       "      <td>green</td>\n",
       "      <td>summer, fall, winter</td>\n",
       "      <td>6</td>\n",
       "      <td>True</td>\n",
       "    </tr>\n",
       "    <tr>\n",
       "      <th>strawberry</th>\n",
       "      <td>red</td>\n",
       "      <td>spring</td>\n",
       "      <td>10</td>\n",
       "      <td>True</td>\n",
       "    </tr>\n",
       "  </tbody>\n",
       "</table>\n",
       "</div>"
      ],
      "text/plain": [
       "             color                season  quantity  A lot?\n",
       "fruits                                                    \n",
       "apple          red                  fall         3   False\n",
       "orange      orange                winter         7    True\n",
       "banana      yellow              all year         2   False\n",
       "kiwi         green  summer, fall, winter         6    True\n",
       "strawberry     red                spring        10    True"
      ]
     },
     "execution_count": 29,
     "metadata": {},
     "output_type": "execute_result"
    }
   ],
   "source": [
    "# The original did not change - the sort method (and most pandas methods) returns a new sorted dataframe object\n",
    "fruits"
   ]
  },
  {
   "cell_type": "code",
   "execution_count": 30,
   "metadata": {},
   "outputs": [
    {
     "data": {
      "text/html": [
       "<div>\n",
       "<style scoped>\n",
       "    .dataframe tbody tr th:only-of-type {\n",
       "        vertical-align: middle;\n",
       "    }\n",
       "\n",
       "    .dataframe tbody tr th {\n",
       "        vertical-align: top;\n",
       "    }\n",
       "\n",
       "    .dataframe thead th {\n",
       "        text-align: right;\n",
       "    }\n",
       "</style>\n",
       "<table border=\"1\" class=\"dataframe\">\n",
       "  <thead>\n",
       "    <tr style=\"text-align: right;\">\n",
       "      <th></th>\n",
       "      <th>color</th>\n",
       "      <th>season</th>\n",
       "      <th>quantity</th>\n",
       "      <th>A lot?</th>\n",
       "    </tr>\n",
       "    <tr>\n",
       "      <th>fruits</th>\n",
       "      <th></th>\n",
       "      <th></th>\n",
       "      <th></th>\n",
       "      <th></th>\n",
       "    </tr>\n",
       "  </thead>\n",
       "  <tbody>\n",
       "    <tr>\n",
       "      <th>strawberry</th>\n",
       "      <td>red</td>\n",
       "      <td>spring</td>\n",
       "      <td>10</td>\n",
       "      <td>True</td>\n",
       "    </tr>\n",
       "    <tr>\n",
       "      <th>orange</th>\n",
       "      <td>orange</td>\n",
       "      <td>winter</td>\n",
       "      <td>7</td>\n",
       "      <td>True</td>\n",
       "    </tr>\n",
       "    <tr>\n",
       "      <th>kiwi</th>\n",
       "      <td>green</td>\n",
       "      <td>summer, fall, winter</td>\n",
       "      <td>6</td>\n",
       "      <td>True</td>\n",
       "    </tr>\n",
       "    <tr>\n",
       "      <th>banana</th>\n",
       "      <td>yellow</td>\n",
       "      <td>all year</td>\n",
       "      <td>2</td>\n",
       "      <td>False</td>\n",
       "    </tr>\n",
       "    <tr>\n",
       "      <th>apple</th>\n",
       "      <td>red</td>\n",
       "      <td>fall</td>\n",
       "      <td>3</td>\n",
       "      <td>False</td>\n",
       "    </tr>\n",
       "  </tbody>\n",
       "</table>\n",
       "</div>"
      ],
      "text/plain": [
       "             color                season  quantity  A lot?\n",
       "fruits                                                    \n",
       "strawberry     red                spring        10    True\n",
       "orange      orange                winter         7    True\n",
       "kiwi         green  summer, fall, winter         6    True\n",
       "banana      yellow              all year         2   False\n",
       "apple          red                  fall         3   False"
      ]
     },
     "execution_count": 30,
     "metadata": {},
     "output_type": "execute_result"
    }
   ],
   "source": [
    "# To sort the original dataframe, we need to either assign the new object to the old variable or use the inplace argument\n",
    "# In general, I would recommend assigning, which is more readable.   \n",
    "# fruits.sort_index(ascending=False, inplace=True)\n",
    "fruits = fruits.sort_index(ascending=False)\n",
    "fruits"
   ]
  },
  {
   "cell_type": "code",
   "execution_count": 31,
   "metadata": {},
   "outputs": [
    {
     "data": {
      "text/html": [
       "<div>\n",
       "<style scoped>\n",
       "    .dataframe tbody tr th:only-of-type {\n",
       "        vertical-align: middle;\n",
       "    }\n",
       "\n",
       "    .dataframe tbody tr th {\n",
       "        vertical-align: top;\n",
       "    }\n",
       "\n",
       "    .dataframe thead th {\n",
       "        text-align: right;\n",
       "    }\n",
       "</style>\n",
       "<table border=\"1\" class=\"dataframe\">\n",
       "  <thead>\n",
       "    <tr style=\"text-align: right;\">\n",
       "      <th></th>\n",
       "      <th>color</th>\n",
       "      <th>season</th>\n",
       "      <th>quantity</th>\n",
       "      <th>A lot?</th>\n",
       "    </tr>\n",
       "    <tr>\n",
       "      <th>fruits</th>\n",
       "      <th></th>\n",
       "      <th></th>\n",
       "      <th></th>\n",
       "      <th></th>\n",
       "    </tr>\n",
       "  </thead>\n",
       "  <tbody>\n",
       "    <tr>\n",
       "      <th>banana</th>\n",
       "      <td>yellow</td>\n",
       "      <td>all year</td>\n",
       "      <td>2</td>\n",
       "      <td>False</td>\n",
       "    </tr>\n",
       "    <tr>\n",
       "      <th>apple</th>\n",
       "      <td>red</td>\n",
       "      <td>fall</td>\n",
       "      <td>3</td>\n",
       "      <td>False</td>\n",
       "    </tr>\n",
       "    <tr>\n",
       "      <th>kiwi</th>\n",
       "      <td>green</td>\n",
       "      <td>summer, fall, winter</td>\n",
       "      <td>6</td>\n",
       "      <td>True</td>\n",
       "    </tr>\n",
       "    <tr>\n",
       "      <th>orange</th>\n",
       "      <td>orange</td>\n",
       "      <td>winter</td>\n",
       "      <td>7</td>\n",
       "      <td>True</td>\n",
       "    </tr>\n",
       "    <tr>\n",
       "      <th>strawberry</th>\n",
       "      <td>red</td>\n",
       "      <td>spring</td>\n",
       "      <td>10</td>\n",
       "      <td>True</td>\n",
       "    </tr>\n",
       "  </tbody>\n",
       "</table>\n",
       "</div>"
      ],
      "text/plain": [
       "             color                season  quantity  A lot?\n",
       "fruits                                                    \n",
       "banana      yellow              all year         2   False\n",
       "apple          red                  fall         3   False\n",
       "kiwi         green  summer, fall, winter         6    True\n",
       "orange      orange                winter         7    True\n",
       "strawberry     red                spring        10    True"
      ]
     },
     "execution_count": 31,
     "metadata": {},
     "output_type": "execute_result"
    }
   ],
   "source": [
    "# sort by values\n",
    "fruits.sort_values(by=['quantity', 'color'])"
   ]
  },
  {
   "cell_type": "markdown",
   "metadata": {},
   "source": [
    "## Selecting data\n",
    "### Selecting columns"
   ]
  },
  {
   "cell_type": "code",
   "execution_count": 32,
   "metadata": {},
   "outputs": [
    {
     "data": {
      "text/plain": [
       "fruits\n",
       "strawberry                  spring\n",
       "orange                      winter\n",
       "kiwi          summer, fall, winter\n",
       "banana                    all year\n",
       "apple                         fall\n",
       "Name: season, dtype: object"
      ]
     },
     "execution_count": 32,
     "metadata": {},
     "output_type": "execute_result"
    }
   ],
   "source": [
    "# Select a single column from a dataframe\n",
    "fruits['season']"
   ]
  },
  {
   "cell_type": "code",
   "execution_count": 33,
   "metadata": {},
   "outputs": [
    {
     "data": {
      "text/html": [
       "<div>\n",
       "<style scoped>\n",
       "    .dataframe tbody tr th:only-of-type {\n",
       "        vertical-align: middle;\n",
       "    }\n",
       "\n",
       "    .dataframe tbody tr th {\n",
       "        vertical-align: top;\n",
       "    }\n",
       "\n",
       "    .dataframe thead th {\n",
       "        text-align: right;\n",
       "    }\n",
       "</style>\n",
       "<table border=\"1\" class=\"dataframe\">\n",
       "  <thead>\n",
       "    <tr style=\"text-align: right;\">\n",
       "      <th></th>\n",
       "      <th>season</th>\n",
       "      <th>color</th>\n",
       "    </tr>\n",
       "    <tr>\n",
       "      <th>fruits</th>\n",
       "      <th></th>\n",
       "      <th></th>\n",
       "    </tr>\n",
       "  </thead>\n",
       "  <tbody>\n",
       "    <tr>\n",
       "      <th>strawberry</th>\n",
       "      <td>spring</td>\n",
       "      <td>red</td>\n",
       "    </tr>\n",
       "    <tr>\n",
       "      <th>orange</th>\n",
       "      <td>winter</td>\n",
       "      <td>orange</td>\n",
       "    </tr>\n",
       "    <tr>\n",
       "      <th>kiwi</th>\n",
       "      <td>summer, fall, winter</td>\n",
       "      <td>green</td>\n",
       "    </tr>\n",
       "    <tr>\n",
       "      <th>banana</th>\n",
       "      <td>all year</td>\n",
       "      <td>yellow</td>\n",
       "    </tr>\n",
       "    <tr>\n",
       "      <th>apple</th>\n",
       "      <td>fall</td>\n",
       "      <td>red</td>\n",
       "    </tr>\n",
       "  </tbody>\n",
       "</table>\n",
       "</div>"
      ],
      "text/plain": [
       "                          season   color\n",
       "fruits                                  \n",
       "strawberry                spring     red\n",
       "orange                    winter  orange\n",
       "kiwi        summer, fall, winter   green\n",
       "banana                  all year  yellow\n",
       "apple                       fall     red"
      ]
     },
     "execution_count": 33,
     "metadata": {},
     "output_type": "execute_result"
    }
   ],
   "source": [
    "# Select multiple columns from a dataframe\n",
    "fruits[['season', 'color']]"
   ]
  },
  {
   "cell_type": "markdown",
   "metadata": {},
   "source": [
    "### Selecting by label"
   ]
  },
  {
   "cell_type": "code",
   "execution_count": 34,
   "metadata": {},
   "outputs": [
    {
     "data": {
      "text/html": [
       "<div>\n",
       "<style scoped>\n",
       "    .dataframe tbody tr th:only-of-type {\n",
       "        vertical-align: middle;\n",
       "    }\n",
       "\n",
       "    .dataframe tbody tr th {\n",
       "        vertical-align: top;\n",
       "    }\n",
       "\n",
       "    .dataframe thead th {\n",
       "        text-align: right;\n",
       "    }\n",
       "</style>\n",
       "<table border=\"1\" class=\"dataframe\">\n",
       "  <thead>\n",
       "    <tr style=\"text-align: right;\">\n",
       "      <th></th>\n",
       "      <th>color</th>\n",
       "      <th>season</th>\n",
       "      <th>quantity</th>\n",
       "      <th>A lot?</th>\n",
       "    </tr>\n",
       "    <tr>\n",
       "      <th>fruits</th>\n",
       "      <th></th>\n",
       "      <th></th>\n",
       "      <th></th>\n",
       "      <th></th>\n",
       "    </tr>\n",
       "  </thead>\n",
       "  <tbody>\n",
       "    <tr>\n",
       "      <th>kiwi</th>\n",
       "      <td>green</td>\n",
       "      <td>summer, fall, winter</td>\n",
       "      <td>6</td>\n",
       "      <td>True</td>\n",
       "    </tr>\n",
       "    <tr>\n",
       "      <th>banana</th>\n",
       "      <td>yellow</td>\n",
       "      <td>all year</td>\n",
       "      <td>2</td>\n",
       "      <td>False</td>\n",
       "    </tr>\n",
       "  </tbody>\n",
       "</table>\n",
       "</div>"
      ],
      "text/plain": [
       "         color                season  quantity  A lot?\n",
       "fruits                                                \n",
       "kiwi     green  summer, fall, winter         6    True\n",
       "banana  yellow              all year         2   False"
      ]
     },
     "execution_count": 34,
     "metadata": {},
     "output_type": "execute_result"
    }
   ],
   "source": [
    "# Select rows by label\n",
    "fruits.loc[['kiwi', 'banana']]"
   ]
  },
  {
   "cell_type": "code",
   "execution_count": 35,
   "metadata": {},
   "outputs": [
    {
     "data": {
      "text/plain": [
       "fruits\n",
       "orange    orange\n",
       "kiwi       green\n",
       "Name: color, dtype: object"
      ]
     },
     "execution_count": 35,
     "metadata": {},
     "output_type": "execute_result"
    }
   ],
   "source": [
    "# Select on both axes by label\n",
    "fruits.loc['orange':'kiwi', 'color']"
   ]
  },
  {
   "cell_type": "code",
   "execution_count": 36,
   "metadata": {},
   "outputs": [
    {
     "data": {
      "text/plain": [
       "10"
      ]
     },
     "execution_count": 36,
     "metadata": {},
     "output_type": "execute_result"
    }
   ],
   "source": [
    "# Getting a scalar value\n",
    "fruits.loc['strawberry', 'quantity']"
   ]
  },
  {
   "cell_type": "markdown",
   "metadata": {},
   "source": [
    "### Selecting by position"
   ]
  },
  {
   "cell_type": "code",
   "execution_count": 37,
   "metadata": {},
   "outputs": [
    {
     "data": {
      "text/plain": [
       "color         yellow\n",
       "season      all year\n",
       "quantity           2\n",
       "A lot?         False\n",
       "Name: banana, dtype: object"
      ]
     },
     "execution_count": 37,
     "metadata": {},
     "output_type": "execute_result"
    }
   ],
   "source": [
    "# Select by position\n",
    "fruits.iloc[3]"
   ]
  },
  {
   "cell_type": "code",
   "execution_count": 38,
   "metadata": {},
   "outputs": [
    {
     "data": {
      "text/html": [
       "<div>\n",
       "<style scoped>\n",
       "    .dataframe tbody tr th:only-of-type {\n",
       "        vertical-align: middle;\n",
       "    }\n",
       "\n",
       "    .dataframe tbody tr th {\n",
       "        vertical-align: top;\n",
       "    }\n",
       "\n",
       "    .dataframe thead th {\n",
       "        text-align: right;\n",
       "    }\n",
       "</style>\n",
       "<table border=\"1\" class=\"dataframe\">\n",
       "  <thead>\n",
       "    <tr style=\"text-align: right;\">\n",
       "      <th></th>\n",
       "      <th>color</th>\n",
       "      <th>season</th>\n",
       "      <th>quantity</th>\n",
       "      <th>A lot?</th>\n",
       "    </tr>\n",
       "    <tr>\n",
       "      <th>fruits</th>\n",
       "      <th></th>\n",
       "      <th></th>\n",
       "      <th></th>\n",
       "      <th></th>\n",
       "    </tr>\n",
       "  </thead>\n",
       "  <tbody>\n",
       "    <tr>\n",
       "      <th>strawberry</th>\n",
       "      <td>red</td>\n",
       "      <td>spring</td>\n",
       "      <td>10</td>\n",
       "      <td>True</td>\n",
       "    </tr>\n",
       "    <tr>\n",
       "      <th>orange</th>\n",
       "      <td>orange</td>\n",
       "      <td>winter</td>\n",
       "      <td>7</td>\n",
       "      <td>True</td>\n",
       "    </tr>\n",
       "    <tr>\n",
       "      <th>kiwi</th>\n",
       "      <td>green</td>\n",
       "      <td>summer, fall, winter</td>\n",
       "      <td>6</td>\n",
       "      <td>True</td>\n",
       "    </tr>\n",
       "  </tbody>\n",
       "</table>\n",
       "</div>"
      ],
      "text/plain": [
       "             color                season  quantity  A lot?\n",
       "fruits                                                    \n",
       "strawberry     red                spring        10    True\n",
       "orange      orange                winter         7    True\n",
       "kiwi         green  summer, fall, winter         6    True"
      ]
     },
     "execution_count": 38,
     "metadata": {},
     "output_type": "execute_result"
    }
   ],
   "source": [
    "# Select by integer slices, similar to python lists/numpy arrays\n",
    "fruits.iloc[0:3]"
   ]
  },
  {
   "cell_type": "code",
   "execution_count": 39,
   "metadata": {},
   "outputs": [
    {
     "data": {
      "text/html": [
       "<div>\n",
       "<style scoped>\n",
       "    .dataframe tbody tr th:only-of-type {\n",
       "        vertical-align: middle;\n",
       "    }\n",
       "\n",
       "    .dataframe tbody tr th {\n",
       "        vertical-align: top;\n",
       "    }\n",
       "\n",
       "    .dataframe thead th {\n",
       "        text-align: right;\n",
       "    }\n",
       "</style>\n",
       "<table border=\"1\" class=\"dataframe\">\n",
       "  <thead>\n",
       "    <tr style=\"text-align: right;\">\n",
       "      <th></th>\n",
       "      <th>color</th>\n",
       "      <th>season</th>\n",
       "      <th>quantity</th>\n",
       "      <th>A lot?</th>\n",
       "    </tr>\n",
       "    <tr>\n",
       "      <th>fruits</th>\n",
       "      <th></th>\n",
       "      <th></th>\n",
       "      <th></th>\n",
       "      <th></th>\n",
       "    </tr>\n",
       "  </thead>\n",
       "  <tbody>\n",
       "    <tr>\n",
       "      <th>strawberry</th>\n",
       "      <td>red</td>\n",
       "      <td>spring</td>\n",
       "      <td>10</td>\n",
       "      <td>True</td>\n",
       "    </tr>\n",
       "    <tr>\n",
       "      <th>orange</th>\n",
       "      <td>orange</td>\n",
       "      <td>winter</td>\n",
       "      <td>7</td>\n",
       "      <td>True</td>\n",
       "    </tr>\n",
       "    <tr>\n",
       "      <th>kiwi</th>\n",
       "      <td>green</td>\n",
       "      <td>summer, fall, winter</td>\n",
       "      <td>6</td>\n",
       "      <td>True</td>\n",
       "    </tr>\n",
       "  </tbody>\n",
       "</table>\n",
       "</div>"
      ],
      "text/plain": [
       "             color                season  quantity  A lot?\n",
       "fruits                                                    \n",
       "strawberry     red                spring        10    True\n",
       "orange      orange                winter         7    True\n",
       "kiwi         green  summer, fall, winter         6    True"
      ]
     },
     "execution_count": 39,
     "metadata": {},
     "output_type": "execute_result"
    }
   ],
   "source": [
    "# For selecting rows on only one dimension, we can eliminate the .iloc and do the same with []\n",
    "fruits[0:3]"
   ]
  },
  {
   "cell_type": "code",
   "execution_count": 40,
   "metadata": {
    "scrolled": true
   },
   "outputs": [
    {
     "data": {
      "text/html": [
       "<div>\n",
       "<style scoped>\n",
       "    .dataframe tbody tr th:only-of-type {\n",
       "        vertical-align: middle;\n",
       "    }\n",
       "\n",
       "    .dataframe tbody tr th {\n",
       "        vertical-align: top;\n",
       "    }\n",
       "\n",
       "    .dataframe thead th {\n",
       "        text-align: right;\n",
       "    }\n",
       "</style>\n",
       "<table border=\"1\" class=\"dataframe\">\n",
       "  <thead>\n",
       "    <tr style=\"text-align: right;\">\n",
       "      <th></th>\n",
       "      <th>season</th>\n",
       "      <th>quantity</th>\n",
       "    </tr>\n",
       "    <tr>\n",
       "      <th>fruits</th>\n",
       "      <th></th>\n",
       "      <th></th>\n",
       "    </tr>\n",
       "  </thead>\n",
       "  <tbody>\n",
       "    <tr>\n",
       "      <th>strawberry</th>\n",
       "      <td>spring</td>\n",
       "      <td>10</td>\n",
       "    </tr>\n",
       "    <tr>\n",
       "      <th>orange</th>\n",
       "      <td>winter</td>\n",
       "      <td>7</td>\n",
       "    </tr>\n",
       "  </tbody>\n",
       "</table>\n",
       "</div>"
      ],
      "text/plain": [
       "            season  quantity\n",
       "fruits                      \n",
       "strawberry  spring        10\n",
       "orange      winter         7"
      ]
     },
     "execution_count": 40,
     "metadata": {},
     "output_type": "execute_result"
    }
   ],
   "source": [
    "# Select by position on both axes\n",
    "fruits.iloc[0:2, 1:3]"
   ]
  },
  {
   "cell_type": "code",
   "execution_count": 41,
   "metadata": {},
   "outputs": [
    {
     "ename": "TypeError",
     "evalue": "'(slice(0, 2, None), slice(1, 3, None))' is an invalid key",
     "output_type": "error",
     "traceback": [
      "\u001b[1;31m---------------------------------------------------------------------------\u001b[0m",
      "\u001b[1;31mTypeError\u001b[0m                                 Traceback (most recent call last)",
      "\u001b[1;32m<ipython-input-41-d18120efea10>\u001b[0m in \u001b[0;36m<module>\u001b[1;34m\u001b[0m\n\u001b[0;32m      1\u001b[0m \u001b[1;31m# You can't use [] without .iloc to select on both exes\u001b[0m\u001b[1;33m\u001b[0m\u001b[1;33m\u001b[0m\u001b[1;33m\u001b[0m\u001b[0m\n\u001b[1;32m----> 2\u001b[1;33m \u001b[0mfruits\u001b[0m\u001b[1;33m[\u001b[0m\u001b[1;36m0\u001b[0m\u001b[1;33m:\u001b[0m\u001b[1;36m2\u001b[0m\u001b[1;33m,\u001b[0m \u001b[1;36m1\u001b[0m\u001b[1;33m:\u001b[0m\u001b[1;36m3\u001b[0m\u001b[1;33m]\u001b[0m\u001b[1;33m\u001b[0m\u001b[1;33m\u001b[0m\u001b[0m\n\u001b[0m",
      "\u001b[1;32m~\\AppData\\Local\\Continuum\\anaconda3\\envs\\py4dna\\lib\\site-packages\\pandas\\core\\frame.py\u001b[0m in \u001b[0;36m__getitem__\u001b[1;34m(self, key)\u001b[0m\n\u001b[0;32m   2993\u001b[0m             \u001b[1;32mif\u001b[0m \u001b[0mself\u001b[0m\u001b[1;33m.\u001b[0m\u001b[0mcolumns\u001b[0m\u001b[1;33m.\u001b[0m\u001b[0mnlevels\u001b[0m \u001b[1;33m>\u001b[0m \u001b[1;36m1\u001b[0m\u001b[1;33m:\u001b[0m\u001b[1;33m\u001b[0m\u001b[1;33m\u001b[0m\u001b[0m\n\u001b[0;32m   2994\u001b[0m                 \u001b[1;32mreturn\u001b[0m \u001b[0mself\u001b[0m\u001b[1;33m.\u001b[0m\u001b[0m_getitem_multilevel\u001b[0m\u001b[1;33m(\u001b[0m\u001b[0mkey\u001b[0m\u001b[1;33m)\u001b[0m\u001b[1;33m\u001b[0m\u001b[1;33m\u001b[0m\u001b[0m\n\u001b[1;32m-> 2995\u001b[1;33m             \u001b[0mindexer\u001b[0m \u001b[1;33m=\u001b[0m \u001b[0mself\u001b[0m\u001b[1;33m.\u001b[0m\u001b[0mcolumns\u001b[0m\u001b[1;33m.\u001b[0m\u001b[0mget_loc\u001b[0m\u001b[1;33m(\u001b[0m\u001b[0mkey\u001b[0m\u001b[1;33m)\u001b[0m\u001b[1;33m\u001b[0m\u001b[1;33m\u001b[0m\u001b[0m\n\u001b[0m\u001b[0;32m   2996\u001b[0m             \u001b[1;32mif\u001b[0m \u001b[0mis_integer\u001b[0m\u001b[1;33m(\u001b[0m\u001b[0mindexer\u001b[0m\u001b[1;33m)\u001b[0m\u001b[1;33m:\u001b[0m\u001b[1;33m\u001b[0m\u001b[1;33m\u001b[0m\u001b[0m\n\u001b[0;32m   2997\u001b[0m                 \u001b[0mindexer\u001b[0m \u001b[1;33m=\u001b[0m \u001b[1;33m[\u001b[0m\u001b[0mindexer\u001b[0m\u001b[1;33m]\u001b[0m\u001b[1;33m\u001b[0m\u001b[1;33m\u001b[0m\u001b[0m\n",
      "\u001b[1;32m~\\AppData\\Local\\Continuum\\anaconda3\\envs\\py4dna\\lib\\site-packages\\pandas\\core\\indexes\\base.py\u001b[0m in \u001b[0;36mget_loc\u001b[1;34m(self, key, method, tolerance)\u001b[0m\n\u001b[0;32m   2895\u001b[0m                 )\n\u001b[0;32m   2896\u001b[0m             \u001b[1;32mtry\u001b[0m\u001b[1;33m:\u001b[0m\u001b[1;33m\u001b[0m\u001b[1;33m\u001b[0m\u001b[0m\n\u001b[1;32m-> 2897\u001b[1;33m                 \u001b[1;32mreturn\u001b[0m \u001b[0mself\u001b[0m\u001b[1;33m.\u001b[0m\u001b[0m_engine\u001b[0m\u001b[1;33m.\u001b[0m\u001b[0mget_loc\u001b[0m\u001b[1;33m(\u001b[0m\u001b[0mkey\u001b[0m\u001b[1;33m)\u001b[0m\u001b[1;33m\u001b[0m\u001b[1;33m\u001b[0m\u001b[0m\n\u001b[0m\u001b[0;32m   2898\u001b[0m             \u001b[1;32mexcept\u001b[0m \u001b[0mKeyError\u001b[0m\u001b[1;33m:\u001b[0m\u001b[1;33m\u001b[0m\u001b[1;33m\u001b[0m\u001b[0m\n\u001b[0;32m   2899\u001b[0m                 \u001b[1;32mreturn\u001b[0m \u001b[0mself\u001b[0m\u001b[1;33m.\u001b[0m\u001b[0m_engine\u001b[0m\u001b[1;33m.\u001b[0m\u001b[0mget_loc\u001b[0m\u001b[1;33m(\u001b[0m\u001b[0mself\u001b[0m\u001b[1;33m.\u001b[0m\u001b[0m_maybe_cast_indexer\u001b[0m\u001b[1;33m(\u001b[0m\u001b[0mkey\u001b[0m\u001b[1;33m)\u001b[0m\u001b[1;33m)\u001b[0m\u001b[1;33m\u001b[0m\u001b[1;33m\u001b[0m\u001b[0m\n",
      "\u001b[1;32mpandas/_libs/index.pyx\u001b[0m in \u001b[0;36mpandas._libs.index.IndexEngine.get_loc\u001b[1;34m()\u001b[0m\n",
      "\u001b[1;32mpandas/_libs/index.pyx\u001b[0m in \u001b[0;36mpandas._libs.index.IndexEngine.get_loc\u001b[1;34m()\u001b[0m\n",
      "\u001b[1;31mTypeError\u001b[0m: '(slice(0, 2, None), slice(1, 3, None))' is an invalid key"
     ]
    }
   ],
   "source": [
    "# You can't use [] without .iloc to select on both exes\n",
    "fruits[0:2, 1:3]"
   ]
  },
  {
   "cell_type": "markdown",
   "metadata": {},
   "source": [
    "### Filtering a dataframe using boolean indexing"
   ]
  },
  {
   "cell_type": "code",
   "execution_count": 42,
   "metadata": {},
   "outputs": [
    {
     "data": {
      "text/html": [
       "<div>\n",
       "<style scoped>\n",
       "    .dataframe tbody tr th:only-of-type {\n",
       "        vertical-align: middle;\n",
       "    }\n",
       "\n",
       "    .dataframe tbody tr th {\n",
       "        vertical-align: top;\n",
       "    }\n",
       "\n",
       "    .dataframe thead th {\n",
       "        text-align: right;\n",
       "    }\n",
       "</style>\n",
       "<table border=\"1\" class=\"dataframe\">\n",
       "  <thead>\n",
       "    <tr style=\"text-align: right;\">\n",
       "      <th></th>\n",
       "      <th>color</th>\n",
       "      <th>season</th>\n",
       "      <th>quantity</th>\n",
       "      <th>A lot?</th>\n",
       "    </tr>\n",
       "    <tr>\n",
       "      <th>fruits</th>\n",
       "      <th></th>\n",
       "      <th></th>\n",
       "      <th></th>\n",
       "      <th></th>\n",
       "    </tr>\n",
       "  </thead>\n",
       "  <tbody>\n",
       "    <tr>\n",
       "      <th>orange</th>\n",
       "      <td>orange</td>\n",
       "      <td>winter</td>\n",
       "      <td>7</td>\n",
       "      <td>True</td>\n",
       "    </tr>\n",
       "    <tr>\n",
       "      <th>banana</th>\n",
       "      <td>yellow</td>\n",
       "      <td>all year</td>\n",
       "      <td>2</td>\n",
       "      <td>False</td>\n",
       "    </tr>\n",
       "  </tbody>\n",
       "</table>\n",
       "</div>"
      ],
      "text/plain": [
       "         color    season  quantity  A lot?\n",
       "fruits                                    \n",
       "orange  orange    winter         7    True\n",
       "banana  yellow  all year         2   False"
      ]
     },
     "execution_count": 42,
     "metadata": {},
     "output_type": "execute_result"
    }
   ],
   "source": [
    "# We can index a dataframe with a boolean array\n",
    "fruits[[False, True, False, True, False]]"
   ]
  },
  {
   "cell_type": "code",
   "execution_count": 43,
   "metadata": {},
   "outputs": [
    {
     "ename": "ValueError",
     "evalue": "Item wrong length 2 instead of 5.",
     "output_type": "error",
     "traceback": [
      "\u001b[1;31m---------------------------------------------------------------------------\u001b[0m",
      "\u001b[1;31mValueError\u001b[0m                                Traceback (most recent call last)",
      "\u001b[1;32m<ipython-input-43-61b970835c08>\u001b[0m in \u001b[0;36m<module>\u001b[1;34m\u001b[0m\n\u001b[0;32m      1\u001b[0m \u001b[1;31m# The boolean array needs to have the same number of rows as the dataframe\u001b[0m\u001b[1;33m\u001b[0m\u001b[1;33m\u001b[0m\u001b[1;33m\u001b[0m\u001b[0m\n\u001b[1;32m----> 2\u001b[1;33m \u001b[0mfruits\u001b[0m\u001b[1;33m[\u001b[0m\u001b[1;33m[\u001b[0m\u001b[1;32mFalse\u001b[0m\u001b[1;33m,\u001b[0m \u001b[1;32mTrue\u001b[0m\u001b[1;33m]\u001b[0m\u001b[1;33m]\u001b[0m\u001b[1;33m\u001b[0m\u001b[1;33m\u001b[0m\u001b[0m\n\u001b[0m",
      "\u001b[1;32m~\\AppData\\Local\\Continuum\\anaconda3\\envs\\py4dna\\lib\\site-packages\\pandas\\core\\frame.py\u001b[0m in \u001b[0;36m__getitem__\u001b[1;34m(self, key)\u001b[0m\n\u001b[0;32m   2984\u001b[0m         \u001b[1;31m# Do we have a (boolean) 1d indexer?\u001b[0m\u001b[1;33m\u001b[0m\u001b[1;33m\u001b[0m\u001b[1;33m\u001b[0m\u001b[0m\n\u001b[0;32m   2985\u001b[0m         \u001b[1;32mif\u001b[0m \u001b[0mcom\u001b[0m\u001b[1;33m.\u001b[0m\u001b[0mis_bool_indexer\u001b[0m\u001b[1;33m(\u001b[0m\u001b[0mkey\u001b[0m\u001b[1;33m)\u001b[0m\u001b[1;33m:\u001b[0m\u001b[1;33m\u001b[0m\u001b[1;33m\u001b[0m\u001b[0m\n\u001b[1;32m-> 2986\u001b[1;33m             \u001b[1;32mreturn\u001b[0m \u001b[0mself\u001b[0m\u001b[1;33m.\u001b[0m\u001b[0m_getitem_bool_array\u001b[0m\u001b[1;33m(\u001b[0m\u001b[0mkey\u001b[0m\u001b[1;33m)\u001b[0m\u001b[1;33m\u001b[0m\u001b[1;33m\u001b[0m\u001b[0m\n\u001b[0m\u001b[0;32m   2987\u001b[0m \u001b[1;33m\u001b[0m\u001b[0m\n\u001b[0;32m   2988\u001b[0m         \u001b[1;31m# We are left with two options: a single key, and a collection of keys,\u001b[0m\u001b[1;33m\u001b[0m\u001b[1;33m\u001b[0m\u001b[1;33m\u001b[0m\u001b[0m\n",
      "\u001b[1;32m~\\AppData\\Local\\Continuum\\anaconda3\\envs\\py4dna\\lib\\site-packages\\pandas\\core\\frame.py\u001b[0m in \u001b[0;36m_getitem_bool_array\u001b[1;34m(self, key)\u001b[0m\n\u001b[0;32m   3031\u001b[0m         \u001b[1;32melif\u001b[0m \u001b[0mlen\u001b[0m\u001b[1;33m(\u001b[0m\u001b[0mkey\u001b[0m\u001b[1;33m)\u001b[0m \u001b[1;33m!=\u001b[0m \u001b[0mlen\u001b[0m\u001b[1;33m(\u001b[0m\u001b[0mself\u001b[0m\u001b[1;33m.\u001b[0m\u001b[0mindex\u001b[0m\u001b[1;33m)\u001b[0m\u001b[1;33m:\u001b[0m\u001b[1;33m\u001b[0m\u001b[1;33m\u001b[0m\u001b[0m\n\u001b[0;32m   3032\u001b[0m             raise ValueError(\n\u001b[1;32m-> 3033\u001b[1;33m                 \u001b[1;34m\"Item wrong length %d instead of %d.\"\u001b[0m \u001b[1;33m%\u001b[0m \u001b[1;33m(\u001b[0m\u001b[0mlen\u001b[0m\u001b[1;33m(\u001b[0m\u001b[0mkey\u001b[0m\u001b[1;33m)\u001b[0m\u001b[1;33m,\u001b[0m \u001b[0mlen\u001b[0m\u001b[1;33m(\u001b[0m\u001b[0mself\u001b[0m\u001b[1;33m.\u001b[0m\u001b[0mindex\u001b[0m\u001b[1;33m)\u001b[0m\u001b[1;33m)\u001b[0m\u001b[1;33m\u001b[0m\u001b[1;33m\u001b[0m\u001b[0m\n\u001b[0m\u001b[0;32m   3034\u001b[0m             )\n\u001b[0;32m   3035\u001b[0m \u001b[1;33m\u001b[0m\u001b[0m\n",
      "\u001b[1;31mValueError\u001b[0m: Item wrong length 2 instead of 5."
     ]
    }
   ],
   "source": [
    "# The boolean array needs to have the same number of rows as the dataframe\n",
    "fruits[[False, True]]"
   ]
  },
  {
   "cell_type": "code",
   "execution_count": 44,
   "metadata": {},
   "outputs": [
    {
     "data": {
      "text/plain": [
       "fruits\n",
       "strawberry     True\n",
       "orange         True\n",
       "kiwi           True\n",
       "banana        False\n",
       "apple         False\n",
       "Name: quantity, dtype: bool"
      ]
     },
     "execution_count": 44,
     "metadata": {},
     "output_type": "execute_result"
    }
   ],
   "source": [
    "# We can use boolean indexing for smart filltering of dataframes. In order to do it, we generate a \"boolean mask\".\n",
    "fruits['quantity'] > fruits['quantity'].mean()"
   ]
  },
  {
   "cell_type": "code",
   "execution_count": 45,
   "metadata": {},
   "outputs": [
    {
     "data": {
      "text/html": [
       "<div>\n",
       "<style scoped>\n",
       "    .dataframe tbody tr th:only-of-type {\n",
       "        vertical-align: middle;\n",
       "    }\n",
       "\n",
       "    .dataframe tbody tr th {\n",
       "        vertical-align: top;\n",
       "    }\n",
       "\n",
       "    .dataframe thead th {\n",
       "        text-align: right;\n",
       "    }\n",
       "</style>\n",
       "<table border=\"1\" class=\"dataframe\">\n",
       "  <thead>\n",
       "    <tr style=\"text-align: right;\">\n",
       "      <th></th>\n",
       "      <th>color</th>\n",
       "      <th>season</th>\n",
       "      <th>quantity</th>\n",
       "      <th>A lot?</th>\n",
       "    </tr>\n",
       "    <tr>\n",
       "      <th>fruits</th>\n",
       "      <th></th>\n",
       "      <th></th>\n",
       "      <th></th>\n",
       "      <th></th>\n",
       "    </tr>\n",
       "  </thead>\n",
       "  <tbody>\n",
       "    <tr>\n",
       "      <th>strawberry</th>\n",
       "      <td>red</td>\n",
       "      <td>spring</td>\n",
       "      <td>10</td>\n",
       "      <td>True</td>\n",
       "    </tr>\n",
       "    <tr>\n",
       "      <th>orange</th>\n",
       "      <td>orange</td>\n",
       "      <td>winter</td>\n",
       "      <td>7</td>\n",
       "      <td>True</td>\n",
       "    </tr>\n",
       "    <tr>\n",
       "      <th>kiwi</th>\n",
       "      <td>green</td>\n",
       "      <td>summer, fall, winter</td>\n",
       "      <td>6</td>\n",
       "      <td>True</td>\n",
       "    </tr>\n",
       "  </tbody>\n",
       "</table>\n",
       "</div>"
      ],
      "text/plain": [
       "             color                season  quantity  A lot?\n",
       "fruits                                                    \n",
       "strawberry     red                spring        10    True\n",
       "orange      orange                winter         7    True\n",
       "kiwi         green  summer, fall, winter         6    True"
      ]
     },
     "execution_count": 45,
     "metadata": {},
     "output_type": "execute_result"
    }
   ],
   "source": [
    "# And we use the boolean mask to index the array \n",
    "fruits[fruits['quantity'] > fruits['quantity'].mean()]"
   ]
  },
  {
   "cell_type": "code",
   "execution_count": 46,
   "metadata": {},
   "outputs": [
    {
     "data": {
      "text/html": [
       "<div>\n",
       "<style scoped>\n",
       "    .dataframe tbody tr th:only-of-type {\n",
       "        vertical-align: middle;\n",
       "    }\n",
       "\n",
       "    .dataframe tbody tr th {\n",
       "        vertical-align: top;\n",
       "    }\n",
       "\n",
       "    .dataframe thead th {\n",
       "        text-align: right;\n",
       "    }\n",
       "</style>\n",
       "<table border=\"1\" class=\"dataframe\">\n",
       "  <thead>\n",
       "    <tr style=\"text-align: right;\">\n",
       "      <th></th>\n",
       "      <th>color</th>\n",
       "      <th>season</th>\n",
       "      <th>quantity</th>\n",
       "      <th>A lot?</th>\n",
       "    </tr>\n",
       "    <tr>\n",
       "      <th>fruits</th>\n",
       "      <th></th>\n",
       "      <th></th>\n",
       "      <th></th>\n",
       "      <th></th>\n",
       "    </tr>\n",
       "  </thead>\n",
       "  <tbody>\n",
       "    <tr>\n",
       "      <th>orange</th>\n",
       "      <td>orange</td>\n",
       "      <td>winter</td>\n",
       "      <td>7</td>\n",
       "      <td>True</td>\n",
       "    </tr>\n",
       "    <tr>\n",
       "      <th>kiwi</th>\n",
       "      <td>green</td>\n",
       "      <td>summer, fall, winter</td>\n",
       "      <td>6</td>\n",
       "      <td>True</td>\n",
       "    </tr>\n",
       "  </tbody>\n",
       "</table>\n",
       "</div>"
      ],
      "text/plain": [
       "         color                season  quantity  A lot?\n",
       "fruits                                                \n",
       "orange  orange                winter         7    True\n",
       "kiwi     green  summer, fall, winter         6    True"
      ]
     },
     "execution_count": 46,
     "metadata": {},
     "output_type": "execute_result"
    }
   ],
   "source": [
    "# You can combine several conditions while filtering dataframes\n",
    "fruits[(fruits['quantity'] > 2) & (fruits['color'] != 'red')]"
   ]
  },
  {
   "cell_type": "markdown",
   "metadata": {},
   "source": [
    "When filtering dataframes using boolean indexing, there are two common errors. Remember these (not very intuitive) rules, or you may find yourself spending hours troubleshooting:\n",
    " * Use bitwise operators (`&`, `|`) instead of logical operators (`and`, `or`).\n",
    " * When listing more then one condition, each condition must be placed within parantheses. "
   ]
  },
  {
   "cell_type": "code",
   "execution_count": 47,
   "metadata": {},
   "outputs": [
    {
     "ename": "ValueError",
     "evalue": "The truth value of a Series is ambiguous. Use a.empty, a.bool(), a.item(), a.any() or a.all().",
     "output_type": "error",
     "traceback": [
      "\u001b[1;31m---------------------------------------------------------------------------\u001b[0m",
      "\u001b[1;31mValueError\u001b[0m                                Traceback (most recent call last)",
      "\u001b[1;32m<ipython-input-47-7e35fa7e9645>\u001b[0m in \u001b[0;36m<module>\u001b[1;34m\u001b[0m\n\u001b[0;32m      1\u001b[0m \u001b[1;31m# This is what happens if you don't use bitwise operators:\u001b[0m\u001b[1;33m\u001b[0m\u001b[1;33m\u001b[0m\u001b[1;33m\u001b[0m\u001b[0m\n\u001b[1;32m----> 2\u001b[1;33m \u001b[0mfruits\u001b[0m\u001b[1;33m[\u001b[0m\u001b[1;33m(\u001b[0m\u001b[0mfruits\u001b[0m\u001b[1;33m[\u001b[0m\u001b[1;34m'quantity'\u001b[0m\u001b[1;33m]\u001b[0m \u001b[1;33m>\u001b[0m \u001b[1;36m2\u001b[0m\u001b[1;33m)\u001b[0m \u001b[1;32mand\u001b[0m \u001b[1;33m(\u001b[0m\u001b[0mfruits\u001b[0m\u001b[1;33m[\u001b[0m\u001b[1;34m'color'\u001b[0m\u001b[1;33m]\u001b[0m \u001b[1;33m!=\u001b[0m \u001b[1;34m'red'\u001b[0m\u001b[1;33m)\u001b[0m\u001b[1;33m]\u001b[0m\u001b[1;33m\u001b[0m\u001b[1;33m\u001b[0m\u001b[0m\n\u001b[0m",
      "\u001b[1;32m~\\AppData\\Local\\Continuum\\anaconda3\\envs\\py4dna\\lib\\site-packages\\pandas\\core\\generic.py\u001b[0m in \u001b[0;36m__nonzero__\u001b[1;34m(self)\u001b[0m\n\u001b[0;32m   1553\u001b[0m             \u001b[1;34m\"The truth value of a {0} is ambiguous. \"\u001b[0m\u001b[1;33m\u001b[0m\u001b[1;33m\u001b[0m\u001b[0m\n\u001b[0;32m   1554\u001b[0m             \"Use a.empty, a.bool(), a.item(), a.any() or a.all().\".format(\n\u001b[1;32m-> 1555\u001b[1;33m                 \u001b[0mself\u001b[0m\u001b[1;33m.\u001b[0m\u001b[0m__class__\u001b[0m\u001b[1;33m.\u001b[0m\u001b[0m__name__\u001b[0m\u001b[1;33m\u001b[0m\u001b[1;33m\u001b[0m\u001b[0m\n\u001b[0m\u001b[0;32m   1556\u001b[0m             )\n\u001b[0;32m   1557\u001b[0m         )\n",
      "\u001b[1;31mValueError\u001b[0m: The truth value of a Series is ambiguous. Use a.empty, a.bool(), a.item(), a.any() or a.all()."
     ]
    }
   ],
   "source": [
    "# This is what happens if you don't use bitwise operators:\n",
    "fruits[(fruits['quantity'] > 2) and (fruits['color'] != 'red')]"
   ]
  },
  {
   "cell_type": "code",
   "execution_count": 48,
   "metadata": {
    "scrolled": true
   },
   "outputs": [
    {
     "ename": "TypeError",
     "evalue": "cannot compare a dtyped [object] array with a scalar of type [bool]",
     "output_type": "error",
     "traceback": [
      "\u001b[1;31m---------------------------------------------------------------------------\u001b[0m",
      "\u001b[1;31mTypeError\u001b[0m                                 Traceback (most recent call last)",
      "\u001b[1;32m~\\AppData\\Local\\Continuum\\anaconda3\\envs\\py4dna\\lib\\site-packages\\pandas\\core\\ops\\__init__.py\u001b[0m in \u001b[0;36mna_op\u001b[1;34m(x, y)\u001b[0m\n\u001b[0;32m   1253\u001b[0m         \u001b[1;32mtry\u001b[0m\u001b[1;33m:\u001b[0m\u001b[1;33m\u001b[0m\u001b[1;33m\u001b[0m\u001b[0m\n\u001b[1;32m-> 1254\u001b[1;33m             \u001b[0mresult\u001b[0m \u001b[1;33m=\u001b[0m \u001b[0mop\u001b[0m\u001b[1;33m(\u001b[0m\u001b[0mx\u001b[0m\u001b[1;33m,\u001b[0m \u001b[0my\u001b[0m\u001b[1;33m)\u001b[0m\u001b[1;33m\u001b[0m\u001b[1;33m\u001b[0m\u001b[0m\n\u001b[0m\u001b[0;32m   1255\u001b[0m         \u001b[1;32mexcept\u001b[0m \u001b[0mTypeError\u001b[0m\u001b[1;33m:\u001b[0m\u001b[1;33m\u001b[0m\u001b[1;33m\u001b[0m\u001b[0m\n",
      "\u001b[1;32m~\\AppData\\Local\\Continuum\\anaconda3\\envs\\py4dna\\lib\\site-packages\\pandas\\core\\ops\\roperator.py\u001b[0m in \u001b[0;36mrand_\u001b[1;34m(left, right)\u001b[0m\n\u001b[0;32m     52\u001b[0m \u001b[1;32mdef\u001b[0m \u001b[0mrand_\u001b[0m\u001b[1;33m(\u001b[0m\u001b[0mleft\u001b[0m\u001b[1;33m,\u001b[0m \u001b[0mright\u001b[0m\u001b[1;33m)\u001b[0m\u001b[1;33m:\u001b[0m\u001b[1;33m\u001b[0m\u001b[1;33m\u001b[0m\u001b[0m\n\u001b[1;32m---> 53\u001b[1;33m     \u001b[1;32mreturn\u001b[0m \u001b[0moperator\u001b[0m\u001b[1;33m.\u001b[0m\u001b[0mand_\u001b[0m\u001b[1;33m(\u001b[0m\u001b[0mright\u001b[0m\u001b[1;33m,\u001b[0m \u001b[0mleft\u001b[0m\u001b[1;33m)\u001b[0m\u001b[1;33m\u001b[0m\u001b[1;33m\u001b[0m\u001b[0m\n\u001b[0m\u001b[0;32m     54\u001b[0m \u001b[1;33m\u001b[0m\u001b[0m\n",
      "\u001b[1;31mTypeError\u001b[0m: unsupported operand type(s) for &: 'int' and 'str'",
      "\nDuring handling of the above exception, another exception occurred:\n",
      "\u001b[1;31mTypeError\u001b[0m                                 Traceback (most recent call last)",
      "\u001b[1;32m~\\AppData\\Local\\Continuum\\anaconda3\\envs\\py4dna\\lib\\site-packages\\pandas\\core\\ops\\__init__.py\u001b[0m in \u001b[0;36mna_op\u001b[1;34m(x, y)\u001b[0m\n\u001b[0;32m   1268\u001b[0m                 \u001b[1;32mtry\u001b[0m\u001b[1;33m:\u001b[0m\u001b[1;33m\u001b[0m\u001b[1;33m\u001b[0m\u001b[0m\n\u001b[1;32m-> 1269\u001b[1;33m                     \u001b[0mresult\u001b[0m \u001b[1;33m=\u001b[0m \u001b[0mlibops\u001b[0m\u001b[1;33m.\u001b[0m\u001b[0mscalar_binop\u001b[0m\u001b[1;33m(\u001b[0m\u001b[0mx\u001b[0m\u001b[1;33m,\u001b[0m \u001b[0my\u001b[0m\u001b[1;33m,\u001b[0m \u001b[0mop\u001b[0m\u001b[1;33m)\u001b[0m\u001b[1;33m\u001b[0m\u001b[1;33m\u001b[0m\u001b[0m\n\u001b[0m\u001b[0;32m   1270\u001b[0m                 except (\n",
      "\u001b[1;32mpandas/_libs/ops.pyx\u001b[0m in \u001b[0;36mpandas._libs.ops.scalar_binop\u001b[1;34m()\u001b[0m\n",
      "\u001b[1;32m~\\AppData\\Local\\Continuum\\anaconda3\\envs\\py4dna\\lib\\site-packages\\pandas\\core\\ops\\roperator.py\u001b[0m in \u001b[0;36mrand_\u001b[1;34m(left, right)\u001b[0m\n\u001b[0;32m     52\u001b[0m \u001b[1;32mdef\u001b[0m \u001b[0mrand_\u001b[0m\u001b[1;33m(\u001b[0m\u001b[0mleft\u001b[0m\u001b[1;33m,\u001b[0m \u001b[0mright\u001b[0m\u001b[1;33m)\u001b[0m\u001b[1;33m:\u001b[0m\u001b[1;33m\u001b[0m\u001b[1;33m\u001b[0m\u001b[0m\n\u001b[1;32m---> 53\u001b[1;33m     \u001b[1;32mreturn\u001b[0m \u001b[0moperator\u001b[0m\u001b[1;33m.\u001b[0m\u001b[0mand_\u001b[0m\u001b[1;33m(\u001b[0m\u001b[0mright\u001b[0m\u001b[1;33m,\u001b[0m \u001b[0mleft\u001b[0m\u001b[1;33m)\u001b[0m\u001b[1;33m\u001b[0m\u001b[1;33m\u001b[0m\u001b[0m\n\u001b[0m\u001b[0;32m     54\u001b[0m \u001b[1;33m\u001b[0m\u001b[0m\n",
      "\u001b[1;31mTypeError\u001b[0m: unsupported operand type(s) for &: 'bool' and 'str'",
      "\nDuring handling of the above exception, another exception occurred:\n",
      "\u001b[1;31mTypeError\u001b[0m                                 Traceback (most recent call last)",
      "\u001b[1;32m<ipython-input-48-67ee44fedba3>\u001b[0m in \u001b[0;36m<module>\u001b[1;34m\u001b[0m\n\u001b[0;32m      1\u001b[0m \u001b[1;31m# This is what happens if you don't use parentheses:\u001b[0m\u001b[1;33m\u001b[0m\u001b[1;33m\u001b[0m\u001b[1;33m\u001b[0m\u001b[0m\n\u001b[1;32m----> 2\u001b[1;33m \u001b[0mfruits\u001b[0m\u001b[1;33m[\u001b[0m\u001b[0mfruits\u001b[0m\u001b[1;33m[\u001b[0m\u001b[1;34m'quantity'\u001b[0m\u001b[1;33m]\u001b[0m \u001b[1;33m>\u001b[0m \u001b[1;36m2\u001b[0m \u001b[1;33m&\u001b[0m \u001b[0mfruits\u001b[0m\u001b[1;33m[\u001b[0m\u001b[1;34m'color'\u001b[0m\u001b[1;33m]\u001b[0m \u001b[1;33m!=\u001b[0m \u001b[1;34m'red'\u001b[0m\u001b[1;33m]\u001b[0m\u001b[1;33m\u001b[0m\u001b[1;33m\u001b[0m\u001b[0m\n\u001b[0m",
      "\u001b[1;32m~\\AppData\\Local\\Continuum\\anaconda3\\envs\\py4dna\\lib\\site-packages\\pandas\\core\\ops\\__init__.py\u001b[0m in \u001b[0;36mwrapper\u001b[1;34m(self, other)\u001b[0m\n\u001b[0;32m   1319\u001b[0m         \u001b[1;31m#   integer dtypes.  Otherwise these are boolean ops\u001b[0m\u001b[1;33m\u001b[0m\u001b[1;33m\u001b[0m\u001b[1;33m\u001b[0m\u001b[0m\n\u001b[0;32m   1320\u001b[0m         \u001b[0mfiller\u001b[0m \u001b[1;33m=\u001b[0m \u001b[0mfill_int\u001b[0m \u001b[1;32mif\u001b[0m \u001b[0mis_self_int_dtype\u001b[0m \u001b[1;32mand\u001b[0m \u001b[0mis_other_int_dtype\u001b[0m \u001b[1;32melse\u001b[0m \u001b[0mfill_bool\u001b[0m\u001b[1;33m\u001b[0m\u001b[1;33m\u001b[0m\u001b[0m\n\u001b[1;32m-> 1321\u001b[1;33m         \u001b[0mres_values\u001b[0m \u001b[1;33m=\u001b[0m \u001b[0mna_op\u001b[0m\u001b[1;33m(\u001b[0m\u001b[0mself\u001b[0m\u001b[1;33m.\u001b[0m\u001b[0mvalues\u001b[0m\u001b[1;33m,\u001b[0m \u001b[0movalues\u001b[0m\u001b[1;33m)\u001b[0m\u001b[1;33m\u001b[0m\u001b[1;33m\u001b[0m\u001b[0m\n\u001b[0m\u001b[0;32m   1322\u001b[0m         \u001b[0munfilled\u001b[0m \u001b[1;33m=\u001b[0m \u001b[0mself\u001b[0m\u001b[1;33m.\u001b[0m\u001b[0m_constructor\u001b[0m\u001b[1;33m(\u001b[0m\u001b[0mres_values\u001b[0m\u001b[1;33m,\u001b[0m \u001b[0mindex\u001b[0m\u001b[1;33m=\u001b[0m\u001b[0mself\u001b[0m\u001b[1;33m.\u001b[0m\u001b[0mindex\u001b[0m\u001b[1;33m,\u001b[0m \u001b[0mname\u001b[0m\u001b[1;33m=\u001b[0m\u001b[0mres_name\u001b[0m\u001b[1;33m)\u001b[0m\u001b[1;33m\u001b[0m\u001b[1;33m\u001b[0m\u001b[0m\n\u001b[0;32m   1323\u001b[0m         \u001b[0mfilled\u001b[0m \u001b[1;33m=\u001b[0m \u001b[0mfiller\u001b[0m\u001b[1;33m(\u001b[0m\u001b[0munfilled\u001b[0m\u001b[1;33m)\u001b[0m\u001b[1;33m\u001b[0m\u001b[1;33m\u001b[0m\u001b[0m\n",
      "\u001b[1;32m~\\AppData\\Local\\Continuum\\anaconda3\\envs\\py4dna\\lib\\site-packages\\pandas\\core\\ops\\__init__.py\u001b[0m in \u001b[0;36mna_op\u001b[1;34m(x, y)\u001b[0m\n\u001b[0;32m   1278\u001b[0m                         \u001b[1;34m\"cannot compare a dtyped [{dtype}] array \"\u001b[0m\u001b[1;33m\u001b[0m\u001b[1;33m\u001b[0m\u001b[0m\n\u001b[0;32m   1279\u001b[0m                         \"with a scalar of type [{typ}]\".format(\n\u001b[1;32m-> 1280\u001b[1;33m                             \u001b[0mdtype\u001b[0m\u001b[1;33m=\u001b[0m\u001b[0mx\u001b[0m\u001b[1;33m.\u001b[0m\u001b[0mdtype\u001b[0m\u001b[1;33m,\u001b[0m \u001b[0mtyp\u001b[0m\u001b[1;33m=\u001b[0m\u001b[0mtype\u001b[0m\u001b[1;33m(\u001b[0m\u001b[0my\u001b[0m\u001b[1;33m)\u001b[0m\u001b[1;33m.\u001b[0m\u001b[0m__name__\u001b[0m\u001b[1;33m\u001b[0m\u001b[1;33m\u001b[0m\u001b[0m\n\u001b[0m\u001b[0;32m   1281\u001b[0m                         )\n\u001b[0;32m   1282\u001b[0m                     )\n",
      "\u001b[1;31mTypeError\u001b[0m: cannot compare a dtyped [object] array with a scalar of type [bool]"
     ]
    }
   ],
   "source": [
    "# This is what happens if you don't use parentheses:\n",
    "fruits[fruits['quantity'] > 2 & fruits['color'] != 'red']"
   ]
  },
  {
   "cell_type": "markdown",
   "metadata": {},
   "source": [
    "# Exploratory Data Analysis"
   ]
  },
  {
   "cell_type": "code",
   "execution_count": 49,
   "metadata": {},
   "outputs": [
    {
     "data": {
      "text/plain": [
       "((36631, 15), (12211, 15))"
      ]
     },
     "execution_count": 49,
     "metadata": {},
     "output_type": "execute_result"
    }
   ],
   "source": [
    "# First, let's divide the dataset to train and test sets. \n",
    "df_combined = df_combined.sample(frac=1, random_state=0) \n",
    "# We are setting a random state so that our datasets are replicable and we can all work on the same sets. \n",
    "\n",
    "df_train = df_combined.iloc[:int(df_combined.shape[0] * .75)].copy()\n",
    "df_test = df_combined.iloc[int(df_combined.shape[0] * .75):].copy()\n",
    "df_train.shape, df_test.shape"
   ]
  },
  {
   "cell_type": "markdown",
   "metadata": {},
   "source": [
    "## Exploring the target"
   ]
  },
  {
   "cell_type": "code",
   "execution_count": 50,
   "metadata": {},
   "outputs": [
    {
     "data": {
      "text/plain": [
       "<=50K    27824\n",
       ">50K      8807\n",
       "Name: <=50K, dtype: int64"
      ]
     },
     "execution_count": 50,
     "metadata": {},
     "output_type": "execute_result"
    }
   ],
   "source": [
    "# Let's see the distribution of values in our taget column\n",
    "df_train['<=50K'].value_counts()"
   ]
  },
  {
   "cell_type": "code",
   "execution_count": 51,
   "metadata": {
    "scrolled": true
   },
   "outputs": [
    {
     "data": {
      "text/plain": [
       "<=50K    0.759575\n",
       ">50K     0.240425\n",
       "Name: <=50K, dtype: float64"
      ]
     },
     "execution_count": 51,
     "metadata": {},
     "output_type": "execute_result"
    }
   ],
   "source": [
    "# Let's look at it as ratios. \n",
    "df_train['<=50K'].value_counts() / df_train.shape[0]"
   ]
  },
  {
   "cell_type": "code",
   "execution_count": 52,
   "metadata": {},
   "outputs": [
    {
     "data": {
      "text/plain": [
       "36631"
      ]
     },
     "execution_count": 52,
     "metadata": {},
     "output_type": "execute_result"
    }
   ],
   "source": [
    "# Note that in the previous cell we divided a series by a scalar. When we do this, the scalar is \"broadcasted\" - that is, \n",
    "# extended to a higher dimension to fit the series. \n",
    "df_train.shape[0]"
   ]
  },
  {
   "cell_type": "code",
   "execution_count": 53,
   "metadata": {},
   "outputs": [
    {
     "data": {
      "text/html": [
       "<div>\n",
       "<style scoped>\n",
       "    .dataframe tbody tr th:only-of-type {\n",
       "        vertical-align: middle;\n",
       "    }\n",
       "\n",
       "    .dataframe tbody tr th {\n",
       "        vertical-align: top;\n",
       "    }\n",
       "\n",
       "    .dataframe thead th {\n",
       "        text-align: right;\n",
       "    }\n",
       "</style>\n",
       "<table border=\"1\" class=\"dataframe\">\n",
       "  <thead>\n",
       "    <tr style=\"text-align: right;\">\n",
       "      <th></th>\n",
       "      <th>age</th>\n",
       "      <th>workclass</th>\n",
       "      <th>fnlwgt</th>\n",
       "      <th>education</th>\n",
       "      <th>education-num</th>\n",
       "      <th>marital-status</th>\n",
       "      <th>occupation</th>\n",
       "      <th>relationship</th>\n",
       "      <th>race</th>\n",
       "      <th>sex</th>\n",
       "      <th>capital-gain</th>\n",
       "      <th>capital-loss</th>\n",
       "      <th>hours-per-week</th>\n",
       "      <th>native-country</th>\n",
       "      <th>&lt;=50K</th>\n",
       "    </tr>\n",
       "  </thead>\n",
       "  <tbody>\n",
       "    <tr>\n",
       "      <th>38113</th>\n",
       "      <td>41</td>\n",
       "      <td>Private</td>\n",
       "      <td>151856</td>\n",
       "      <td>HS-grad</td>\n",
       "      <td>9</td>\n",
       "      <td>Married-civ-spouse</td>\n",
       "      <td>Protective-serv</td>\n",
       "      <td>Husband</td>\n",
       "      <td>White</td>\n",
       "      <td>Male</td>\n",
       "      <td>0</td>\n",
       "      <td>0</td>\n",
       "      <td>40</td>\n",
       "      <td>United-States</td>\n",
       "      <td>&lt;=50K</td>\n",
       "    </tr>\n",
       "    <tr>\n",
       "      <th>39214</th>\n",
       "      <td>57</td>\n",
       "      <td>Self-emp-not-inc</td>\n",
       "      <td>87584</td>\n",
       "      <td>Doctorate</td>\n",
       "      <td>16</td>\n",
       "      <td>Divorced</td>\n",
       "      <td>Prof-specialty</td>\n",
       "      <td>Not-in-family</td>\n",
       "      <td>White</td>\n",
       "      <td>Female</td>\n",
       "      <td>0</td>\n",
       "      <td>0</td>\n",
       "      <td>25</td>\n",
       "      <td>United-States</td>\n",
       "      <td>&lt;=50K</td>\n",
       "    </tr>\n",
       "    <tr>\n",
       "      <th>44248</th>\n",
       "      <td>31</td>\n",
       "      <td>Local-gov</td>\n",
       "      <td>220669</td>\n",
       "      <td>Bachelors</td>\n",
       "      <td>13</td>\n",
       "      <td>Never-married</td>\n",
       "      <td>Prof-specialty</td>\n",
       "      <td>Own-child</td>\n",
       "      <td>White</td>\n",
       "      <td>Female</td>\n",
       "      <td>6849</td>\n",
       "      <td>0</td>\n",
       "      <td>40</td>\n",
       "      <td>United-States</td>\n",
       "      <td>&lt;=50K</td>\n",
       "    </tr>\n",
       "    <tr>\n",
       "      <th>10283</th>\n",
       "      <td>55</td>\n",
       "      <td>Private</td>\n",
       "      <td>171355</td>\n",
       "      <td>Assoc-voc</td>\n",
       "      <td>11</td>\n",
       "      <td>Married-civ-spouse</td>\n",
       "      <td>Machine-op-inspct</td>\n",
       "      <td>Husband</td>\n",
       "      <td>White</td>\n",
       "      <td>Male</td>\n",
       "      <td>0</td>\n",
       "      <td>0</td>\n",
       "      <td>20</td>\n",
       "      <td>United-States</td>\n",
       "      <td>&lt;=50K</td>\n",
       "    </tr>\n",
       "    <tr>\n",
       "      <th>26724</th>\n",
       "      <td>59</td>\n",
       "      <td>Self-emp-not-inc</td>\n",
       "      <td>148626</td>\n",
       "      <td>10th</td>\n",
       "      <td>6</td>\n",
       "      <td>Married-civ-spouse</td>\n",
       "      <td>Farming-fishing</td>\n",
       "      <td>Husband</td>\n",
       "      <td>White</td>\n",
       "      <td>Male</td>\n",
       "      <td>0</td>\n",
       "      <td>0</td>\n",
       "      <td>40</td>\n",
       "      <td>United-States</td>\n",
       "      <td>&lt;=50K</td>\n",
       "    </tr>\n",
       "  </tbody>\n",
       "</table>\n",
       "</div>"
      ],
      "text/plain": [
       "       age         workclass  fnlwgt  education  education-num  \\\n",
       "38113   41           Private  151856    HS-grad              9   \n",
       "39214   57  Self-emp-not-inc   87584  Doctorate             16   \n",
       "44248   31         Local-gov  220669  Bachelors             13   \n",
       "10283   55           Private  171355  Assoc-voc             11   \n",
       "26724   59  Self-emp-not-inc  148626       10th              6   \n",
       "\n",
       "           marital-status         occupation   relationship   race     sex  \\\n",
       "38113  Married-civ-spouse    Protective-serv        Husband  White    Male   \n",
       "39214            Divorced     Prof-specialty  Not-in-family  White  Female   \n",
       "44248       Never-married     Prof-specialty      Own-child  White  Female   \n",
       "10283  Married-civ-spouse  Machine-op-inspct        Husband  White    Male   \n",
       "26724  Married-civ-spouse    Farming-fishing        Husband  White    Male   \n",
       "\n",
       "       capital-gain  capital-loss  hours-per-week native-country  <=50K  \n",
       "38113             0             0              40  United-States  <=50K  \n",
       "39214             0             0              25  United-States  <=50K  \n",
       "44248          6849             0              40  United-States  <=50K  \n",
       "10283             0             0              20  United-States  <=50K  \n",
       "26724             0             0              40  United-States  <=50K  "
      ]
     },
     "execution_count": 53,
     "metadata": {},
     "output_type": "execute_result"
    }
   ],
   "source": [
    "df_train.head()"
   ]
  },
  {
   "cell_type": "code",
   "execution_count": 54,
   "metadata": {},
   "outputs": [
    {
     "data": {
      "text/plain": [
       "<=50K   0.760\n",
       ">50K    0.240\n",
       "Name: <=50K, dtype: float64"
      ]
     },
     "execution_count": 54,
     "metadata": {},
     "output_type": "execute_result"
    }
   ],
   "source": [
    "# Let's make it more readable\n",
    "pd.options.display.float_format = '{:.3f}'.format\n",
    "df_train['<=50K'].value_counts() / df_train.shape[0]"
   ]
  },
  {
   "cell_type": "markdown",
   "metadata": {},
   "source": [
    "## Exploring numeric features"
   ]
  },
  {
   "cell_type": "code",
   "execution_count": 55,
   "metadata": {},
   "outputs": [
    {
     "data": {
      "text/html": [
       "<div>\n",
       "<style scoped>\n",
       "    .dataframe tbody tr th:only-of-type {\n",
       "        vertical-align: middle;\n",
       "    }\n",
       "\n",
       "    .dataframe tbody tr th {\n",
       "        vertical-align: top;\n",
       "    }\n",
       "\n",
       "    .dataframe thead th {\n",
       "        text-align: right;\n",
       "    }\n",
       "</style>\n",
       "<table border=\"1\" class=\"dataframe\">\n",
       "  <thead>\n",
       "    <tr style=\"text-align: right;\">\n",
       "      <th></th>\n",
       "      <th>age</th>\n",
       "      <th>fnlwgt</th>\n",
       "      <th>education-num</th>\n",
       "      <th>capital-gain</th>\n",
       "      <th>capital-loss</th>\n",
       "      <th>hours-per-week</th>\n",
       "    </tr>\n",
       "  </thead>\n",
       "  <tbody>\n",
       "    <tr>\n",
       "      <th>count</th>\n",
       "      <td>36631.000</td>\n",
       "      <td>36631.000</td>\n",
       "      <td>36631.000</td>\n",
       "      <td>36631.000</td>\n",
       "      <td>36631.000</td>\n",
       "      <td>36631.000</td>\n",
       "    </tr>\n",
       "    <tr>\n",
       "      <th>mean</th>\n",
       "      <td>38.671</td>\n",
       "      <td>189813.810</td>\n",
       "      <td>10.078</td>\n",
       "      <td>1104.701</td>\n",
       "      <td>85.181</td>\n",
       "      <td>40.433</td>\n",
       "    </tr>\n",
       "    <tr>\n",
       "      <th>std</th>\n",
       "      <td>13.709</td>\n",
       "      <td>105882.287</td>\n",
       "      <td>2.581</td>\n",
       "      <td>7576.635</td>\n",
       "      <td>397.339</td>\n",
       "      <td>12.362</td>\n",
       "    </tr>\n",
       "    <tr>\n",
       "      <th>min</th>\n",
       "      <td>17.000</td>\n",
       "      <td>12285.000</td>\n",
       "      <td>1.000</td>\n",
       "      <td>0.000</td>\n",
       "      <td>0.000</td>\n",
       "      <td>1.000</td>\n",
       "    </tr>\n",
       "    <tr>\n",
       "      <th>25%</th>\n",
       "      <td>28.000</td>\n",
       "      <td>117622.500</td>\n",
       "      <td>9.000</td>\n",
       "      <td>0.000</td>\n",
       "      <td>0.000</td>\n",
       "      <td>40.000</td>\n",
       "    </tr>\n",
       "    <tr>\n",
       "      <th>50%</th>\n",
       "      <td>37.000</td>\n",
       "      <td>178312.000</td>\n",
       "      <td>10.000</td>\n",
       "      <td>0.000</td>\n",
       "      <td>0.000</td>\n",
       "      <td>40.000</td>\n",
       "    </tr>\n",
       "    <tr>\n",
       "      <th>75%</th>\n",
       "      <td>48.000</td>\n",
       "      <td>237868.000</td>\n",
       "      <td>12.000</td>\n",
       "      <td>0.000</td>\n",
       "      <td>0.000</td>\n",
       "      <td>45.000</td>\n",
       "    </tr>\n",
       "    <tr>\n",
       "      <th>max</th>\n",
       "      <td>90.000</td>\n",
       "      <td>1490400.000</td>\n",
       "      <td>16.000</td>\n",
       "      <td>99999.000</td>\n",
       "      <td>4356.000</td>\n",
       "      <td>99.000</td>\n",
       "    </tr>\n",
       "  </tbody>\n",
       "</table>\n",
       "</div>"
      ],
      "text/plain": [
       "            age      fnlwgt  education-num  capital-gain  capital-loss  \\\n",
       "count 36631.000   36631.000      36631.000     36631.000     36631.000   \n",
       "mean     38.671  189813.810         10.078      1104.701        85.181   \n",
       "std      13.709  105882.287          2.581      7576.635       397.339   \n",
       "min      17.000   12285.000          1.000         0.000         0.000   \n",
       "25%      28.000  117622.500          9.000         0.000         0.000   \n",
       "50%      37.000  178312.000         10.000         0.000         0.000   \n",
       "75%      48.000  237868.000         12.000         0.000         0.000   \n",
       "max      90.000 1490400.000         16.000     99999.000      4356.000   \n",
       "\n",
       "       hours-per-week  \n",
       "count       36631.000  \n",
       "mean           40.433  \n",
       "std            12.362  \n",
       "min             1.000  \n",
       "25%            40.000  \n",
       "50%            40.000  \n",
       "75%            45.000  \n",
       "max            99.000  "
      ]
     },
     "execution_count": 55,
     "metadata": {},
     "output_type": "execute_result"
    }
   ],
   "source": [
    "# Get some descriptive stats on numeric features\n",
    "df_train.describe()"
   ]
  },
  {
   "cell_type": "code",
   "execution_count": 56,
   "metadata": {},
   "outputs": [
    {
     "data": {
      "image/png": "[encoded data removed]",
      "text/plain": [
       "<Figure size 1440x1080 with 6 Axes>"
      ]
     },
     "metadata": {
      "needs_background": "light"
     },
     "output_type": "display_data"
    }
   ],
   "source": [
    "# Histograms of numeric features (tip:you can optimize the number of bins to match the number of values of a feature)\n",
    "df_train.hist(figsize=(20,15), bins=74)\n",
    "plt.show()"
   ]
  },
  {
   "cell_type": "code",
   "execution_count": 57,
   "metadata": {},
   "outputs": [
    {
     "data": {
      "text/plain": [
       "0    27824\n",
       "1     8807\n",
       "Name: <=50K Numeric, dtype: int64"
      ]
     },
     "execution_count": 57,
     "metadata": {},
     "output_type": "execute_result"
    }
   ],
   "source": [
    "# Create a numeric version of our target so we can explore it quantitatively\n",
    "df_train['<=50K Numeric'] = df_train['<=50K'].replace({'<=50K':0, '>50K':1}) \n",
    "df_train['<=50K Numeric'].value_counts()"
   ]
  },
  {
   "cell_type": "code",
   "execution_count": 58,
   "metadata": {},
   "outputs": [
    {
     "data": {
      "text/html": [
       "<style  type=\"text/css\" >\n",
       "    #T_3cea91d8_4949_11ec_92ff_a0a4c5a2658drow0_col0 {\n",
       "            background-color:  #023858;\n",
       "            color:  #f1f1f1;\n",
       "        }    #T_3cea91d8_4949_11ec_92ff_a0a4c5a2658drow0_col1 {\n",
       "            background-color:  #fff7fb;\n",
       "            color:  #000000;\n",
       "        }    #T_3cea91d8_4949_11ec_92ff_a0a4c5a2658drow0_col2 {\n",
       "            background-color:  #f6eff7;\n",
       "            color:  #000000;\n",
       "        }    #T_3cea91d8_4949_11ec_92ff_a0a4c5a2658drow0_col3 {\n",
       "            background-color:  #efe9f3;\n",
       "            color:  #000000;\n",
       "        }    #T_3cea91d8_4949_11ec_92ff_a0a4c5a2658drow0_col4 {\n",
       "            background-color:  #f2ecf5;\n",
       "            color:  #000000;\n",
       "        }    #T_3cea91d8_4949_11ec_92ff_a0a4c5a2658drow0_col5 {\n",
       "            background-color:  #f4edf6;\n",
       "            color:  #000000;\n",
       "        }    #T_3cea91d8_4949_11ec_92ff_a0a4c5a2658drow0_col6 {\n",
       "            background-color:  #d3d4e7;\n",
       "            color:  #000000;\n",
       "        }    #T_3cea91d8_4949_11ec_92ff_a0a4c5a2658drow1_col0 {\n",
       "            background-color:  #fff7fb;\n",
       "            color:  #000000;\n",
       "        }    #T_3cea91d8_4949_11ec_92ff_a0a4c5a2658drow1_col1 {\n",
       "            background-color:  #023858;\n",
       "            color:  #f1f1f1;\n",
       "        }    #T_3cea91d8_4949_11ec_92ff_a0a4c5a2658drow1_col2 {\n",
       "            background-color:  #fff7fb;\n",
       "            color:  #000000;\n",
       "        }    #T_3cea91d8_4949_11ec_92ff_a0a4c5a2658drow1_col3 {\n",
       "            background-color:  #fbf3f9;\n",
       "            color:  #000000;\n",
       "        }    #T_3cea91d8_4949_11ec_92ff_a0a4c5a2658drow1_col4 {\n",
       "            background-color:  #fbf3f9;\n",
       "            color:  #000000;\n",
       "        }    #T_3cea91d8_4949_11ec_92ff_a0a4c5a2658drow1_col5 {\n",
       "            background-color:  #fff7fb;\n",
       "            color:  #000000;\n",
       "        }    #T_3cea91d8_4949_11ec_92ff_a0a4c5a2658drow1_col6 {\n",
       "            background-color:  #fff7fb;\n",
       "            color:  #000000;\n",
       "        }    #T_3cea91d8_4949_11ec_92ff_a0a4c5a2658drow2_col0 {\n",
       "            background-color:  #f0eaf4;\n",
       "            color:  #000000;\n",
       "        }    #T_3cea91d8_4949_11ec_92ff_a0a4c5a2658drow2_col1 {\n",
       "            background-color:  #f9f2f8;\n",
       "            color:  #000000;\n",
       "        }    #T_3cea91d8_4949_11ec_92ff_a0a4c5a2658drow2_col2 {\n",
       "            background-color:  #023858;\n",
       "            color:  #f1f1f1;\n",
       "        }    #T_3cea91d8_4949_11ec_92ff_a0a4c5a2658drow2_col3 {\n",
       "            background-color:  #e7e3f0;\n",
       "            color:  #000000;\n",
       "        }    #T_3cea91d8_4949_11ec_92ff_a0a4c5a2658drow2_col4 {\n",
       "            background-color:  #eee9f3;\n",
       "            color:  #000000;\n",
       "        }    #T_3cea91d8_4949_11ec_92ff_a0a4c5a2658drow2_col5 {\n",
       "            background-color:  #e6e2ef;\n",
       "            color:  #000000;\n",
       "        }    #T_3cea91d8_4949_11ec_92ff_a0a4c5a2658drow2_col6 {\n",
       "            background-color:  #b3c3de;\n",
       "            color:  #000000;\n",
       "        }    #T_3cea91d8_4949_11ec_92ff_a0a4c5a2658drow3_col0 {\n",
       "            background-color:  #e7e3f0;\n",
       "            color:  #000000;\n",
       "        }    #T_3cea91d8_4949_11ec_92ff_a0a4c5a2658drow3_col1 {\n",
       "            background-color:  #f4eef6;\n",
       "            color:  #000000;\n",
       "        }    #T_3cea91d8_4949_11ec_92ff_a0a4c5a2658drow3_col2 {\n",
       "            background-color:  #e6e2ef;\n",
       "            color:  #000000;\n",
       "        }    #T_3cea91d8_4949_11ec_92ff_a0a4c5a2658drow3_col3 {\n",
       "            background-color:  #023858;\n",
       "            color:  #f1f1f1;\n",
       "        }    #T_3cea91d8_4949_11ec_92ff_a0a4c5a2658drow3_col4 {\n",
       "            background-color:  #fff7fb;\n",
       "            color:  #000000;\n",
       "        }    #T_3cea91d8_4949_11ec_92ff_a0a4c5a2658drow3_col5 {\n",
       "            background-color:  #f1ebf5;\n",
       "            color:  #000000;\n",
       "        }    #T_3cea91d8_4949_11ec_92ff_a0a4c5a2658drow3_col6 {\n",
       "            background-color:  #d4d4e8;\n",
       "            color:  #000000;\n",
       "        }    #T_3cea91d8_4949_11ec_92ff_a0a4c5a2658drow4_col0 {\n",
       "            background-color:  #ede7f2;\n",
       "            color:  #000000;\n",
       "        }    #T_3cea91d8_4949_11ec_92ff_a0a4c5a2658drow4_col1 {\n",
       "            background-color:  #f4eef6;\n",
       "            color:  #000000;\n",
       "        }    #T_3cea91d8_4949_11ec_92ff_a0a4c5a2658drow4_col2 {\n",
       "            background-color:  #eee8f3;\n",
       "            color:  #000000;\n",
       "        }    #T_3cea91d8_4949_11ec_92ff_a0a4c5a2658drow4_col3 {\n",
       "            background-color:  #fff7fb;\n",
       "            color:  #000000;\n",
       "        }    #T_3cea91d8_4949_11ec_92ff_a0a4c5a2658drow4_col4 {\n",
       "            background-color:  #023858;\n",
       "            color:  #f1f1f1;\n",
       "        }    #T_3cea91d8_4949_11ec_92ff_a0a4c5a2658drow4_col5 {\n",
       "            background-color:  #f6eff7;\n",
       "            color:  #000000;\n",
       "        }    #T_3cea91d8_4949_11ec_92ff_a0a4c5a2658drow4_col6 {\n",
       "            background-color:  #e6e2ef;\n",
       "            color:  #000000;\n",
       "        }    #T_3cea91d8_4949_11ec_92ff_a0a4c5a2658drow5_col0 {\n",
       "            background-color:  #eae6f1;\n",
       "            color:  #000000;\n",
       "        }    #T_3cea91d8_4949_11ec_92ff_a0a4c5a2658drow5_col1 {\n",
       "            background-color:  #f5eff6;\n",
       "            color:  #000000;\n",
       "        }    #T_3cea91d8_4949_11ec_92ff_a0a4c5a2658drow5_col2 {\n",
       "            background-color:  #e1dfed;\n",
       "            color:  #000000;\n",
       "        }    #T_3cea91d8_4949_11ec_92ff_a0a4c5a2658drow5_col3 {\n",
       "            background-color:  #eee9f3;\n",
       "            color:  #000000;\n",
       "        }    #T_3cea91d8_4949_11ec_92ff_a0a4c5a2658drow5_col4 {\n",
       "            background-color:  #f3edf5;\n",
       "            color:  #000000;\n",
       "        }    #T_3cea91d8_4949_11ec_92ff_a0a4c5a2658drow5_col5 {\n",
       "            background-color:  #023858;\n",
       "            color:  #f1f1f1;\n",
       "        }    #T_3cea91d8_4949_11ec_92ff_a0a4c5a2658drow5_col6 {\n",
       "            background-color:  #d3d4e7;\n",
       "            color:  #000000;\n",
       "        }    #T_3cea91d8_4949_11ec_92ff_a0a4c5a2658drow6_col0 {\n",
       "            background-color:  #c4cbe3;\n",
       "            color:  #000000;\n",
       "        }    #T_3cea91d8_4949_11ec_92ff_a0a4c5a2658drow6_col1 {\n",
       "            background-color:  #f5eff6;\n",
       "            color:  #000000;\n",
       "        }    #T_3cea91d8_4949_11ec_92ff_a0a4c5a2658drow6_col2 {\n",
       "            background-color:  #adc1dd;\n",
       "            color:  #000000;\n",
       "        }    #T_3cea91d8_4949_11ec_92ff_a0a4c5a2658drow6_col3 {\n",
       "            background-color:  #d1d2e6;\n",
       "            color:  #000000;\n",
       "        }    #T_3cea91d8_4949_11ec_92ff_a0a4c5a2658drow6_col4 {\n",
       "            background-color:  #e2dfee;\n",
       "            color:  #000000;\n",
       "        }    #T_3cea91d8_4949_11ec_92ff_a0a4c5a2658drow6_col5 {\n",
       "            background-color:  #d3d4e7;\n",
       "            color:  #000000;\n",
       "        }    #T_3cea91d8_4949_11ec_92ff_a0a4c5a2658drow6_col6 {\n",
       "            background-color:  #023858;\n",
       "            color:  #f1f1f1;\n",
       "        }</style><table id=\"T_3cea91d8_4949_11ec_92ff_a0a4c5a2658d\" ><thead>    <tr>        <th class=\"blank level0\" ></th>        <th class=\"col_heading level0 col0\" >age</th>        <th class=\"col_heading level0 col1\" >fnlwgt</th>        <th class=\"col_heading level0 col2\" >education-num</th>        <th class=\"col_heading level0 col3\" >capital-gain</th>        <th class=\"col_heading level0 col4\" >capital-loss</th>        <th class=\"col_heading level0 col5\" >hours-per-week</th>        <th class=\"col_heading level0 col6\" ><=50K Numeric</th>    </tr></thead><tbody>\n",
       "                <tr>\n",
       "                        <th id=\"T_3cea91d8_4949_11ec_92ff_a0a4c5a2658dlevel0_row0\" class=\"row_heading level0 row0\" >age</th>\n",
       "                        <td id=\"T_3cea91d8_4949_11ec_92ff_a0a4c5a2658drow0_col0\" class=\"data row0 col0\" >1</td>\n",
       "                        <td id=\"T_3cea91d8_4949_11ec_92ff_a0a4c5a2658drow0_col1\" class=\"data row0 col1\" >-0.078</td>\n",
       "                        <td id=\"T_3cea91d8_4949_11ec_92ff_a0a4c5a2658drow0_col2\" class=\"data row0 col2\" >0.031</td>\n",
       "                        <td id=\"T_3cea91d8_4949_11ec_92ff_a0a4c5a2658drow0_col3\" class=\"data row0 col3\" >0.079</td>\n",
       "                        <td id=\"T_3cea91d8_4949_11ec_92ff_a0a4c5a2658drow0_col4\" class=\"data row0 col4\" >0.055</td>\n",
       "                        <td id=\"T_3cea91d8_4949_11ec_92ff_a0a4c5a2658drow0_col5\" class=\"data row0 col5\" >0.068</td>\n",
       "                        <td id=\"T_3cea91d8_4949_11ec_92ff_a0a4c5a2658drow0_col6\" class=\"data row0 col6\" >0.23</td>\n",
       "            </tr>\n",
       "            <tr>\n",
       "                        <th id=\"T_3cea91d8_4949_11ec_92ff_a0a4c5a2658dlevel0_row1\" class=\"row_heading level0 row1\" >fnlwgt</th>\n",
       "                        <td id=\"T_3cea91d8_4949_11ec_92ff_a0a4c5a2658drow1_col0\" class=\"data row1 col0\" >-0.078</td>\n",
       "                        <td id=\"T_3cea91d8_4949_11ec_92ff_a0a4c5a2658drow1_col1\" class=\"data row1 col1\" >1</td>\n",
       "                        <td id=\"T_3cea91d8_4949_11ec_92ff_a0a4c5a2658drow1_col2\" class=\"data row1 col2\" >-0.034</td>\n",
       "                        <td id=\"T_3cea91d8_4949_11ec_92ff_a0a4c5a2658drow1_col3\" class=\"data row1 col3\" >-0.0012</td>\n",
       "                        <td id=\"T_3cea91d8_4949_11ec_92ff_a0a4c5a2658drow1_col4\" class=\"data row1 col4\" >-0.0019</td>\n",
       "                        <td id=\"T_3cea91d8_4949_11ec_92ff_a0a4c5a2658drow1_col5\" class=\"data row1 col5\" >-0.009</td>\n",
       "                        <td id=\"T_3cea91d8_4949_11ec_92ff_a0a4c5a2658drow1_col6\" class=\"data row1 col6\" >-0.0081</td>\n",
       "            </tr>\n",
       "            <tr>\n",
       "                        <th id=\"T_3cea91d8_4949_11ec_92ff_a0a4c5a2658dlevel0_row2\" class=\"row_heading level0 row2\" >education-num</th>\n",
       "                        <td id=\"T_3cea91d8_4949_11ec_92ff_a0a4c5a2658drow2_col0\" class=\"data row2 col0\" >0.031</td>\n",
       "                        <td id=\"T_3cea91d8_4949_11ec_92ff_a0a4c5a2658drow2_col1\" class=\"data row2 col1\" >-0.034</td>\n",
       "                        <td id=\"T_3cea91d8_4949_11ec_92ff_a0a4c5a2658drow2_col2\" class=\"data row2 col2\" >1</td>\n",
       "                        <td id=\"T_3cea91d8_4949_11ec_92ff_a0a4c5a2658drow2_col3\" class=\"data row2 col3\" >0.13</td>\n",
       "                        <td id=\"T_3cea91d8_4949_11ec_92ff_a0a4c5a2658drow2_col4\" class=\"data row2 col4\" >0.084</td>\n",
       "                        <td id=\"T_3cea91d8_4949_11ec_92ff_a0a4c5a2658drow2_col5\" class=\"data row2 col5\" >0.15</td>\n",
       "                        <td id=\"T_3cea91d8_4949_11ec_92ff_a0a4c5a2658drow2_col6\" class=\"data row2 col6\" >0.33</td>\n",
       "            </tr>\n",
       "            <tr>\n",
       "                        <th id=\"T_3cea91d8_4949_11ec_92ff_a0a4c5a2658dlevel0_row3\" class=\"row_heading level0 row3\" >capital-gain</th>\n",
       "                        <td id=\"T_3cea91d8_4949_11ec_92ff_a0a4c5a2658drow3_col0\" class=\"data row3 col0\" >0.079</td>\n",
       "                        <td id=\"T_3cea91d8_4949_11ec_92ff_a0a4c5a2658drow3_col1\" class=\"data row3 col1\" >-0.0012</td>\n",
       "                        <td id=\"T_3cea91d8_4949_11ec_92ff_a0a4c5a2658drow3_col2\" class=\"data row3 col2\" >0.13</td>\n",
       "                        <td id=\"T_3cea91d8_4949_11ec_92ff_a0a4c5a2658drow3_col3\" class=\"data row3 col3\" >1</td>\n",
       "                        <td id=\"T_3cea91d8_4949_11ec_92ff_a0a4c5a2658drow3_col4\" class=\"data row3 col4\" >-0.031</td>\n",
       "                        <td id=\"T_3cea91d8_4949_11ec_92ff_a0a4c5a2658drow3_col5\" class=\"data row3 col5\" >0.084</td>\n",
       "                        <td id=\"T_3cea91d8_4949_11ec_92ff_a0a4c5a2658drow3_col6\" class=\"data row3 col6\" >0.23</td>\n",
       "            </tr>\n",
       "            <tr>\n",
       "                        <th id=\"T_3cea91d8_4949_11ec_92ff_a0a4c5a2658dlevel0_row4\" class=\"row_heading level0 row4\" >capital-loss</th>\n",
       "                        <td id=\"T_3cea91d8_4949_11ec_92ff_a0a4c5a2658drow4_col0\" class=\"data row4 col0\" >0.055</td>\n",
       "                        <td id=\"T_3cea91d8_4949_11ec_92ff_a0a4c5a2658drow4_col1\" class=\"data row4 col1\" >-0.0019</td>\n",
       "                        <td id=\"T_3cea91d8_4949_11ec_92ff_a0a4c5a2658drow4_col2\" class=\"data row4 col2\" >0.084</td>\n",
       "                        <td id=\"T_3cea91d8_4949_11ec_92ff_a0a4c5a2658drow4_col3\" class=\"data row4 col3\" >-0.031</td>\n",
       "                        <td id=\"T_3cea91d8_4949_11ec_92ff_a0a4c5a2658drow4_col4\" class=\"data row4 col4\" >1</td>\n",
       "                        <td id=\"T_3cea91d8_4949_11ec_92ff_a0a4c5a2658drow4_col5\" class=\"data row4 col5\" >0.053</td>\n",
       "                        <td id=\"T_3cea91d8_4949_11ec_92ff_a0a4c5a2658drow4_col6\" class=\"data row4 col6\" >0.15</td>\n",
       "            </tr>\n",
       "            <tr>\n",
       "                        <th id=\"T_3cea91d8_4949_11ec_92ff_a0a4c5a2658dlevel0_row5\" class=\"row_heading level0 row5\" >hours-per-week</th>\n",
       "                        <td id=\"T_3cea91d8_4949_11ec_92ff_a0a4c5a2658drow5_col0\" class=\"data row5 col0\" >0.068</td>\n",
       "                        <td id=\"T_3cea91d8_4949_11ec_92ff_a0a4c5a2658drow5_col1\" class=\"data row5 col1\" >-0.009</td>\n",
       "                        <td id=\"T_3cea91d8_4949_11ec_92ff_a0a4c5a2658drow5_col2\" class=\"data row5 col2\" >0.15</td>\n",
       "                        <td id=\"T_3cea91d8_4949_11ec_92ff_a0a4c5a2658drow5_col3\" class=\"data row5 col3\" >0.084</td>\n",
       "                        <td id=\"T_3cea91d8_4949_11ec_92ff_a0a4c5a2658drow5_col4\" class=\"data row5 col4\" >0.053</td>\n",
       "                        <td id=\"T_3cea91d8_4949_11ec_92ff_a0a4c5a2658drow5_col5\" class=\"data row5 col5\" >1</td>\n",
       "                        <td id=\"T_3cea91d8_4949_11ec_92ff_a0a4c5a2658drow5_col6\" class=\"data row5 col6\" >0.23</td>\n",
       "            </tr>\n",
       "            <tr>\n",
       "                        <th id=\"T_3cea91d8_4949_11ec_92ff_a0a4c5a2658dlevel0_row6\" class=\"row_heading level0 row6\" ><=50K Numeric</th>\n",
       "                        <td id=\"T_3cea91d8_4949_11ec_92ff_a0a4c5a2658drow6_col0\" class=\"data row6 col0\" >0.23</td>\n",
       "                        <td id=\"T_3cea91d8_4949_11ec_92ff_a0a4c5a2658drow6_col1\" class=\"data row6 col1\" >-0.0081</td>\n",
       "                        <td id=\"T_3cea91d8_4949_11ec_92ff_a0a4c5a2658drow6_col2\" class=\"data row6 col2\" >0.33</td>\n",
       "                        <td id=\"T_3cea91d8_4949_11ec_92ff_a0a4c5a2658drow6_col3\" class=\"data row6 col3\" >0.23</td>\n",
       "                        <td id=\"T_3cea91d8_4949_11ec_92ff_a0a4c5a2658drow6_col4\" class=\"data row6 col4\" >0.15</td>\n",
       "                        <td id=\"T_3cea91d8_4949_11ec_92ff_a0a4c5a2658drow6_col5\" class=\"data row6 col5\" >0.23</td>\n",
       "                        <td id=\"T_3cea91d8_4949_11ec_92ff_a0a4c5a2658drow6_col6\" class=\"data row6 col6\" >1</td>\n",
       "            </tr>\n",
       "    </tbody></table>"
      ],
      "text/plain": [
       "<pandas.io.formats.style.Styler at 0x232a76faa48>"
      ]
     },
     "execution_count": 58,
     "metadata": {},
     "output_type": "execute_result"
    }
   ],
   "source": [
    "# Correlation matrix\n",
    "corr = df_train.corr()\n",
    "corr.style.background_gradient().set_precision(2)"
   ]
  },
  {
   "cell_type": "code",
   "execution_count": 59,
   "metadata": {},
   "outputs": [
    {
     "data": {
      "image/png": "[encoded data removed]",
      "text/plain": [
       "<Figure size 1440x864 with 9 Axes>"
      ]
     },
     "metadata": {
      "needs_background": "light"
     },
     "output_type": "display_data"
    }
   ],
   "source": [
    "# Scatter matrix\n",
    "_ = pd.plotting.scatter_matrix(df_train[['hours-per-week', 'age', 'education-num']], \n",
    "                   alpha = 0.01, figsize = (20, 12), diagonal = 'kde', s = 80, linewidth = 3)"
   ]
  },
  {
   "cell_type": "markdown",
   "metadata": {},
   "source": [
    "## Exploring categorical features"
   ]
  },
  {
   "cell_type": "code",
   "execution_count": 60,
   "metadata": {},
   "outputs": [
    {
     "data": {
      "text/plain": [
       "Married-civ-spouse       16843\n",
       "Never-married            12074\n",
       "Divorced                  4960\n",
       "Separated                 1135\n",
       "Widowed                   1117\n",
       "Married-spouse-absent      470\n",
       "Married-AF-spouse           32\n",
       "Name: marital-status, dtype: int64"
      ]
     },
     "execution_count": 60,
     "metadata": {},
     "output_type": "execute_result"
    }
   ],
   "source": [
    "# Check the ditribution of values for marital status \n",
    "df_train['marital-status'].value_counts()"
   ]
  },
  {
   "cell_type": "code",
   "execution_count": 61,
   "metadata": {},
   "outputs": [
    {
     "data": {
      "text/plain": [
       "Married-civ-spouse      0.460\n",
       "Never-married           0.330\n",
       "Divorced                0.135\n",
       "Separated               0.031\n",
       "Widowed                 0.030\n",
       "Married-spouse-absent   0.013\n",
       "Married-AF-spouse       0.001\n",
       "Name: marital-status, dtype: float64"
      ]
     },
     "execution_count": 61,
     "metadata": {},
     "output_type": "execute_result"
    }
   ],
   "source": [
    "# Display distribution as share in population\n",
    "df_train['marital-status'].value_counts() / df_train.shape[0]"
   ]
  },
  {
   "cell_type": "code",
   "execution_count": 62,
   "metadata": {},
   "outputs": [
    {
     "data": {
      "text/plain": [
       "marital-status\n",
       "Divorced                0.101\n",
       "Married-AF-spouse       0.375\n",
       "Married-civ-spouse      0.447\n",
       "Married-spouse-absent   0.096\n",
       "Never-married           0.045\n",
       "Separated               0.065\n",
       "Widowed                 0.088\n",
       "Name: <=50K Numeric, dtype: float64"
      ]
     },
     "execution_count": 62,
     "metadata": {},
     "output_type": "execute_result"
    }
   ],
   "source": [
    "# Show the rate of positives for each value\n",
    "df_train.groupby('marital-status')['<=50K Numeric'].mean()"
   ]
  },
  {
   "cell_type": "code",
   "execution_count": 63,
   "metadata": {},
   "outputs": [],
   "source": [
    "# Now let's define a function that does it all for us\n",
    "\n",
    "def explore_categorical_feature(var, df = df_train, target = '<=50K Numeric'):\n",
    "    '''\n",
    "    This function performs EDA of categorical features.\n",
    "    '''\n",
    "    cat_explore = pd.concat([df[var].value_counts(), df[var].value_counts()/df.shape[0], df.groupby(var)[target].mean()], \n",
    "                            axis=1, sort=False, \n",
    "                            keys=['Count', 'Share', 'Positive Rate'])\n",
    "    cat_explore.index.name = var    \n",
    "    return cat_explore\n",
    "\n",
    "# Display results in a user friendly format\n",
    "return_dtaframe = explore_categorical_feature('marital-status').style.format({\n",
    "        'Count': '{:,d}'.format, \n",
    "        'Share': '{:,.1%}'.format, \n",
    "        'Positive Rate': '{:,.1%}'.format})"
   ]
  },
  {
   "cell_type": "code",
   "execution_count": 64,
   "metadata": {},
   "outputs": [
    {
     "data": {
      "text/html": [
       "<style  type=\"text/css\" >\n",
       "</style><table id=\"T_40e3e65c_4949_11ec_b93b_a0a4c5a2658d\" ><thead>    <tr>        <th class=\"blank level0\" ></th>        <th class=\"col_heading level0 col0\" >Count</th>        <th class=\"col_heading level0 col1\" >Share</th>        <th class=\"col_heading level0 col2\" >Positive Rate</th>    </tr>    <tr>        <th class=\"index_name level0\" >workclass</th>        <th class=\"blank\" ></th>        <th class=\"blank\" ></th>        <th class=\"blank\" ></th>    </tr></thead><tbody>\n",
       "                <tr>\n",
       "                        <th id=\"T_40e3e65c_4949_11ec_b93b_a0a4c5a2658dlevel0_row0\" class=\"row_heading level0 row0\" >Private</th>\n",
       "                        <td id=\"T_40e3e65c_4949_11ec_b93b_a0a4c5a2658drow0_col0\" class=\"data row0 col0\" >25,366</td>\n",
       "                        <td id=\"T_40e3e65c_4949_11ec_b93b_a0a4c5a2658drow0_col1\" class=\"data row0 col1\" >69.2%</td>\n",
       "                        <td id=\"T_40e3e65c_4949_11ec_b93b_a0a4c5a2658drow0_col2\" class=\"data row0 col2\" >21.9%</td>\n",
       "            </tr>\n",
       "            <tr>\n",
       "                        <th id=\"T_40e3e65c_4949_11ec_b93b_a0a4c5a2658dlevel0_row1\" class=\"row_heading level0 row1\" >Self-emp-not-inc</th>\n",
       "                        <td id=\"T_40e3e65c_4949_11ec_b93b_a0a4c5a2658drow1_col0\" class=\"data row1 col0\" >2,916</td>\n",
       "                        <td id=\"T_40e3e65c_4949_11ec_b93b_a0a4c5a2658drow1_col1\" class=\"data row1 col1\" >8.0%</td>\n",
       "                        <td id=\"T_40e3e65c_4949_11ec_b93b_a0a4c5a2658drow1_col2\" class=\"data row1 col2\" >27.4%</td>\n",
       "            </tr>\n",
       "            <tr>\n",
       "                        <th id=\"T_40e3e65c_4949_11ec_b93b_a0a4c5a2658dlevel0_row2\" class=\"row_heading level0 row2\" >Local-gov</th>\n",
       "                        <td id=\"T_40e3e65c_4949_11ec_b93b_a0a4c5a2658drow2_col0\" class=\"data row2 col0\" >2,358</td>\n",
       "                        <td id=\"T_40e3e65c_4949_11ec_b93b_a0a4c5a2658drow2_col1\" class=\"data row2 col1\" >6.4%</td>\n",
       "                        <td id=\"T_40e3e65c_4949_11ec_b93b_a0a4c5a2658drow2_col2\" class=\"data row2 col2\" >29.6%</td>\n",
       "            </tr>\n",
       "            <tr>\n",
       "                        <th id=\"T_40e3e65c_4949_11ec_b93b_a0a4c5a2658dlevel0_row3\" class=\"row_heading level0 row3\" >?</th>\n",
       "                        <td id=\"T_40e3e65c_4949_11ec_b93b_a0a4c5a2658drow3_col0\" class=\"data row3 col0\" >2,108</td>\n",
       "                        <td id=\"T_40e3e65c_4949_11ec_b93b_a0a4c5a2658drow3_col1\" class=\"data row3 col1\" >5.8%</td>\n",
       "                        <td id=\"T_40e3e65c_4949_11ec_b93b_a0a4c5a2658drow3_col2\" class=\"data row3 col2\" >9.6%</td>\n",
       "            </tr>\n",
       "            <tr>\n",
       "                        <th id=\"T_40e3e65c_4949_11ec_b93b_a0a4c5a2658dlevel0_row4\" class=\"row_heading level0 row4\" >State-gov</th>\n",
       "                        <td id=\"T_40e3e65c_4949_11ec_b93b_a0a4c5a2658drow4_col0\" class=\"data row4 col0\" >1,520</td>\n",
       "                        <td id=\"T_40e3e65c_4949_11ec_b93b_a0a4c5a2658drow4_col1\" class=\"data row4 col1\" >4.1%</td>\n",
       "                        <td id=\"T_40e3e65c_4949_11ec_b93b_a0a4c5a2658drow4_col2\" class=\"data row4 col2\" >26.8%</td>\n",
       "            </tr>\n",
       "            <tr>\n",
       "                        <th id=\"T_40e3e65c_4949_11ec_b93b_a0a4c5a2658dlevel0_row5\" class=\"row_heading level0 row5\" >Self-emp-inc</th>\n",
       "                        <td id=\"T_40e3e65c_4949_11ec_b93b_a0a4c5a2658drow5_col0\" class=\"data row5 col0\" >1,268</td>\n",
       "                        <td id=\"T_40e3e65c_4949_11ec_b93b_a0a4c5a2658drow5_col1\" class=\"data row5 col1\" >3.5%</td>\n",
       "                        <td id=\"T_40e3e65c_4949_11ec_b93b_a0a4c5a2658drow5_col2\" class=\"data row5 col2\" >56.3%</td>\n",
       "            </tr>\n",
       "            <tr>\n",
       "                        <th id=\"T_40e3e65c_4949_11ec_b93b_a0a4c5a2658dlevel0_row6\" class=\"row_heading level0 row6\" >Federal-gov</th>\n",
       "                        <td id=\"T_40e3e65c_4949_11ec_b93b_a0a4c5a2658drow6_col0\" class=\"data row6 col0\" >1,073</td>\n",
       "                        <td id=\"T_40e3e65c_4949_11ec_b93b_a0a4c5a2658drow6_col1\" class=\"data row6 col1\" >2.9%</td>\n",
       "                        <td id=\"T_40e3e65c_4949_11ec_b93b_a0a4c5a2658drow6_col2\" class=\"data row6 col2\" >39.0%</td>\n",
       "            </tr>\n",
       "            <tr>\n",
       "                        <th id=\"T_40e3e65c_4949_11ec_b93b_a0a4c5a2658dlevel0_row7\" class=\"row_heading level0 row7\" >Without-pay</th>\n",
       "                        <td id=\"T_40e3e65c_4949_11ec_b93b_a0a4c5a2658drow7_col0\" class=\"data row7 col0\" >14</td>\n",
       "                        <td id=\"T_40e3e65c_4949_11ec_b93b_a0a4c5a2658drow7_col1\" class=\"data row7 col1\" >0.0%</td>\n",
       "                        <td id=\"T_40e3e65c_4949_11ec_b93b_a0a4c5a2658drow7_col2\" class=\"data row7 col2\" >14.3%</td>\n",
       "            </tr>\n",
       "            <tr>\n",
       "                        <th id=\"T_40e3e65c_4949_11ec_b93b_a0a4c5a2658dlevel0_row8\" class=\"row_heading level0 row8\" >Never-worked</th>\n",
       "                        <td id=\"T_40e3e65c_4949_11ec_b93b_a0a4c5a2658drow8_col0\" class=\"data row8 col0\" >8</td>\n",
       "                        <td id=\"T_40e3e65c_4949_11ec_b93b_a0a4c5a2658drow8_col1\" class=\"data row8 col1\" >0.0%</td>\n",
       "                        <td id=\"T_40e3e65c_4949_11ec_b93b_a0a4c5a2658drow8_col2\" class=\"data row8 col2\" >0.0%</td>\n",
       "            </tr>\n",
       "    </tbody></table>"
      ],
      "text/plain": [
       "<pandas.io.formats.style.Styler at 0x232a8f4ac08>"
      ]
     },
     "execution_count": 64,
     "metadata": {},
     "output_type": "execute_result"
    }
   ],
   "source": [
    "explore_categorical_feature('workclass').style.format({\n",
    "        'Count': '{:,d}'.format, \n",
    "        'Share': '{:,.1%}'.format, \n",
    "        'Positive Rate': '{:,.1%}'.format})"
   ]
  },
  {
   "cell_type": "code",
   "execution_count": 65,
   "metadata": {},
   "outputs": [
    {
     "data": {
      "text/html": [
       "<style  type=\"text/css\" >\n",
       "</style><table id=\"T_40e89e00_4949_11ec_9474_a0a4c5a2658d\" ><thead>    <tr>        <th class=\"blank level0\" ></th>        <th class=\"col_heading level0 col0\" >Count</th>        <th class=\"col_heading level0 col1\" >Share</th>        <th class=\"col_heading level0 col2\" >Positive Rate</th>    </tr>    <tr>        <th class=\"index_name level0\" >education</th>        <th class=\"blank\" ></th>        <th class=\"blank\" ></th>        <th class=\"blank\" ></th>    </tr></thead><tbody>\n",
       "                <tr>\n",
       "                        <th id=\"T_40e89e00_4949_11ec_9474_a0a4c5a2658dlevel0_row0\" class=\"row_heading level0 row0\" >HS-grad</th>\n",
       "                        <td id=\"T_40e89e00_4949_11ec_9474_a0a4c5a2658drow0_col0\" class=\"data row0 col0\" >11,776</td>\n",
       "                        <td id=\"T_40e89e00_4949_11ec_9474_a0a4c5a2658drow0_col1\" class=\"data row0 col1\" >32.1%</td>\n",
       "                        <td id=\"T_40e89e00_4949_11ec_9474_a0a4c5a2658drow0_col2\" class=\"data row0 col2\" >16.1%</td>\n",
       "            </tr>\n",
       "            <tr>\n",
       "                        <th id=\"T_40e89e00_4949_11ec_9474_a0a4c5a2658dlevel0_row1\" class=\"row_heading level0 row1\" >Some-college</th>\n",
       "                        <td id=\"T_40e89e00_4949_11ec_9474_a0a4c5a2658drow1_col0\" class=\"data row1 col0\" >8,147</td>\n",
       "                        <td id=\"T_40e89e00_4949_11ec_9474_a0a4c5a2658drow1_col1\" class=\"data row1 col1\" >22.2%</td>\n",
       "                        <td id=\"T_40e89e00_4949_11ec_9474_a0a4c5a2658drow1_col2\" class=\"data row1 col2\" >18.9%</td>\n",
       "            </tr>\n",
       "            <tr>\n",
       "                        <th id=\"T_40e89e00_4949_11ec_9474_a0a4c5a2658dlevel0_row2\" class=\"row_heading level0 row2\" >Bachelors</th>\n",
       "                        <td id=\"T_40e89e00_4949_11ec_9474_a0a4c5a2658drow2_col0\" class=\"data row2 col0\" >6,043</td>\n",
       "                        <td id=\"T_40e89e00_4949_11ec_9474_a0a4c5a2658drow2_col1\" class=\"data row2 col1\" >16.5%</td>\n",
       "                        <td id=\"T_40e89e00_4949_11ec_9474_a0a4c5a2658drow2_col2\" class=\"data row2 col2\" >41.3%</td>\n",
       "            </tr>\n",
       "            <tr>\n",
       "                        <th id=\"T_40e89e00_4949_11ec_9474_a0a4c5a2658dlevel0_row3\" class=\"row_heading level0 row3\" >Masters</th>\n",
       "                        <td id=\"T_40e89e00_4949_11ec_9474_a0a4c5a2658drow3_col0\" class=\"data row3 col0\" >1,991</td>\n",
       "                        <td id=\"T_40e89e00_4949_11ec_9474_a0a4c5a2658drow3_col1\" class=\"data row3 col1\" >5.4%</td>\n",
       "                        <td id=\"T_40e89e00_4949_11ec_9474_a0a4c5a2658drow3_col2\" class=\"data row3 col2\" >54.4%</td>\n",
       "            </tr>\n",
       "            <tr>\n",
       "                        <th id=\"T_40e89e00_4949_11ec_9474_a0a4c5a2658dlevel0_row4\" class=\"row_heading level0 row4\" >Assoc-voc</th>\n",
       "                        <td id=\"T_40e89e00_4949_11ec_9474_a0a4c5a2658drow4_col0\" class=\"data row4 col0\" >1,542</td>\n",
       "                        <td id=\"T_40e89e00_4949_11ec_9474_a0a4c5a2658drow4_col1\" class=\"data row4 col1\" >4.2%</td>\n",
       "                        <td id=\"T_40e89e00_4949_11ec_9474_a0a4c5a2658drow4_col2\" class=\"data row4 col2\" >25.3%</td>\n",
       "            </tr>\n",
       "            <tr>\n",
       "                        <th id=\"T_40e89e00_4949_11ec_9474_a0a4c5a2658dlevel0_row5\" class=\"row_heading level0 row5\" >11th</th>\n",
       "                        <td id=\"T_40e89e00_4949_11ec_9474_a0a4c5a2658drow5_col0\" class=\"data row5 col0\" >1,371</td>\n",
       "                        <td id=\"T_40e89e00_4949_11ec_9474_a0a4c5a2658drow5_col1\" class=\"data row5 col1\" >3.7%</td>\n",
       "                        <td id=\"T_40e89e00_4949_11ec_9474_a0a4c5a2658drow5_col2\" class=\"data row5 col2\" >5.3%</td>\n",
       "            </tr>\n",
       "            <tr>\n",
       "                        <th id=\"T_40e89e00_4949_11ec_9474_a0a4c5a2658dlevel0_row6\" class=\"row_heading level0 row6\" >Assoc-acdm</th>\n",
       "                        <td id=\"T_40e89e00_4949_11ec_9474_a0a4c5a2658drow6_col0\" class=\"data row6 col0\" >1,212</td>\n",
       "                        <td id=\"T_40e89e00_4949_11ec_9474_a0a4c5a2658drow6_col1\" class=\"data row6 col1\" >3.3%</td>\n",
       "                        <td id=\"T_40e89e00_4949_11ec_9474_a0a4c5a2658drow6_col2\" class=\"data row6 col2\" >26.2%</td>\n",
       "            </tr>\n",
       "            <tr>\n",
       "                        <th id=\"T_40e89e00_4949_11ec_9474_a0a4c5a2658dlevel0_row7\" class=\"row_heading level0 row7\" >10th</th>\n",
       "                        <td id=\"T_40e89e00_4949_11ec_9474_a0a4c5a2658drow7_col0\" class=\"data row7 col0\" >1,018</td>\n",
       "                        <td id=\"T_40e89e00_4949_11ec_9474_a0a4c5a2658drow7_col1\" class=\"data row7 col1\" >2.8%</td>\n",
       "                        <td id=\"T_40e89e00_4949_11ec_9474_a0a4c5a2658drow7_col2\" class=\"data row7 col2\" >6.8%</td>\n",
       "            </tr>\n",
       "            <tr>\n",
       "                        <th id=\"T_40e89e00_4949_11ec_9474_a0a4c5a2658dlevel0_row8\" class=\"row_heading level0 row8\" >7th-8th</th>\n",
       "                        <td id=\"T_40e89e00_4949_11ec_9474_a0a4c5a2658drow8_col0\" class=\"data row8 col0\" >725</td>\n",
       "                        <td id=\"T_40e89e00_4949_11ec_9474_a0a4c5a2658drow8_col1\" class=\"data row8 col1\" >2.0%</td>\n",
       "                        <td id=\"T_40e89e00_4949_11ec_9474_a0a4c5a2658drow8_col2\" class=\"data row8 col2\" >6.5%</td>\n",
       "            </tr>\n",
       "            <tr>\n",
       "                        <th id=\"T_40e89e00_4949_11ec_9474_a0a4c5a2658dlevel0_row9\" class=\"row_heading level0 row9\" >Prof-school</th>\n",
       "                        <td id=\"T_40e89e00_4949_11ec_9474_a0a4c5a2658drow9_col0\" class=\"data row9 col0\" >622</td>\n",
       "                        <td id=\"T_40e89e00_4949_11ec_9474_a0a4c5a2658drow9_col1\" class=\"data row9 col1\" >1.7%</td>\n",
       "                        <td id=\"T_40e89e00_4949_11ec_9474_a0a4c5a2658drow9_col2\" class=\"data row9 col2\" >74.9%</td>\n",
       "            </tr>\n",
       "            <tr>\n",
       "                        <th id=\"T_40e89e00_4949_11ec_9474_a0a4c5a2658dlevel0_row10\" class=\"row_heading level0 row10\" >9th</th>\n",
       "                        <td id=\"T_40e89e00_4949_11ec_9474_a0a4c5a2658drow10_col0\" class=\"data row10 col0\" >568</td>\n",
       "                        <td id=\"T_40e89e00_4949_11ec_9474_a0a4c5a2658drow10_col1\" class=\"data row10 col1\" >1.6%</td>\n",
       "                        <td id=\"T_40e89e00_4949_11ec_9474_a0a4c5a2658drow10_col2\" class=\"data row10 col2\" >4.9%</td>\n",
       "            </tr>\n",
       "            <tr>\n",
       "                        <th id=\"T_40e89e00_4949_11ec_9474_a0a4c5a2658dlevel0_row11\" class=\"row_heading level0 row11\" >12th</th>\n",
       "                        <td id=\"T_40e89e00_4949_11ec_9474_a0a4c5a2658drow11_col0\" class=\"data row11 col0\" >510</td>\n",
       "                        <td id=\"T_40e89e00_4949_11ec_9474_a0a4c5a2658drow11_col1\" class=\"data row11 col1\" >1.4%</td>\n",
       "                        <td id=\"T_40e89e00_4949_11ec_9474_a0a4c5a2658drow11_col2\" class=\"data row11 col2\" >7.3%</td>\n",
       "            </tr>\n",
       "            <tr>\n",
       "                        <th id=\"T_40e89e00_4949_11ec_9474_a0a4c5a2658dlevel0_row12\" class=\"row_heading level0 row12\" >Doctorate</th>\n",
       "                        <td id=\"T_40e89e00_4949_11ec_9474_a0a4c5a2658drow12_col0\" class=\"data row12 col0\" >455</td>\n",
       "                        <td id=\"T_40e89e00_4949_11ec_9474_a0a4c5a2658drow12_col1\" class=\"data row12 col1\" >1.2%</td>\n",
       "                        <td id=\"T_40e89e00_4949_11ec_9474_a0a4c5a2658drow12_col2\" class=\"data row12 col2\" >72.7%</td>\n",
       "            </tr>\n",
       "            <tr>\n",
       "                        <th id=\"T_40e89e00_4949_11ec_9474_a0a4c5a2658dlevel0_row13\" class=\"row_heading level0 row13\" >5th-6th</th>\n",
       "                        <td id=\"T_40e89e00_4949_11ec_9474_a0a4c5a2658drow13_col0\" class=\"data row13 col0\" >390</td>\n",
       "                        <td id=\"T_40e89e00_4949_11ec_9474_a0a4c5a2658drow13_col1\" class=\"data row13 col1\" >1.1%</td>\n",
       "                        <td id=\"T_40e89e00_4949_11ec_9474_a0a4c5a2658drow13_col2\" class=\"data row13 col2\" >5.6%</td>\n",
       "            </tr>\n",
       "            <tr>\n",
       "                        <th id=\"T_40e89e00_4949_11ec_9474_a0a4c5a2658dlevel0_row14\" class=\"row_heading level0 row14\" >1st-4th</th>\n",
       "                        <td id=\"T_40e89e00_4949_11ec_9474_a0a4c5a2658drow14_col0\" class=\"data row14 col0\" >196</td>\n",
       "                        <td id=\"T_40e89e00_4949_11ec_9474_a0a4c5a2658drow14_col1\" class=\"data row14 col1\" >0.5%</td>\n",
       "                        <td id=\"T_40e89e00_4949_11ec_9474_a0a4c5a2658drow14_col2\" class=\"data row14 col2\" >3.6%</td>\n",
       "            </tr>\n",
       "            <tr>\n",
       "                        <th id=\"T_40e89e00_4949_11ec_9474_a0a4c5a2658dlevel0_row15\" class=\"row_heading level0 row15\" >Preschool</th>\n",
       "                        <td id=\"T_40e89e00_4949_11ec_9474_a0a4c5a2658drow15_col0\" class=\"data row15 col0\" >65</td>\n",
       "                        <td id=\"T_40e89e00_4949_11ec_9474_a0a4c5a2658drow15_col1\" class=\"data row15 col1\" >0.2%</td>\n",
       "                        <td id=\"T_40e89e00_4949_11ec_9474_a0a4c5a2658drow15_col2\" class=\"data row15 col2\" >1.5%</td>\n",
       "            </tr>\n",
       "    </tbody></table>"
      ],
      "text/plain": [
       "<pandas.io.formats.style.Styler at 0x232a8f01a08>"
      ]
     },
     "execution_count": 65,
     "metadata": {},
     "output_type": "execute_result"
    }
   ],
   "source": [
    "explore_categorical_feature('education').style.format({\n",
    "        'Count': '{:,d}'.format, \n",
    "        'Share': '{:,.1%}'.format, \n",
    "        'Positive Rate': '{:,.1%}'.format})"
   ]
  },
  {
   "cell_type": "code",
   "execution_count": 66,
   "metadata": {},
   "outputs": [
    {
     "data": {
      "text/html": [
       "<style  type=\"text/css\" >\n",
       "</style><table id=\"T_40ec92e8_4949_11ec_ae54_a0a4c5a2658d\" ><thead>    <tr>        <th class=\"blank level0\" ></th>        <th class=\"col_heading level0 col0\" >Count</th>        <th class=\"col_heading level0 col1\" >Share</th>        <th class=\"col_heading level0 col2\" >Positive Rate</th>    </tr>    <tr>        <th class=\"index_name level0\" >education-num</th>        <th class=\"blank\" ></th>        <th class=\"blank\" ></th>        <th class=\"blank\" ></th>    </tr></thead><tbody>\n",
       "                <tr>\n",
       "                        <th id=\"T_40ec92e8_4949_11ec_ae54_a0a4c5a2658dlevel0_row0\" class=\"row_heading level0 row0\" >1</th>\n",
       "                        <td id=\"T_40ec92e8_4949_11ec_ae54_a0a4c5a2658drow0_col0\" class=\"data row0 col0\" >65</td>\n",
       "                        <td id=\"T_40ec92e8_4949_11ec_ae54_a0a4c5a2658drow0_col1\" class=\"data row0 col1\" >0.2%</td>\n",
       "                        <td id=\"T_40ec92e8_4949_11ec_ae54_a0a4c5a2658drow0_col2\" class=\"data row0 col2\" >1.5%</td>\n",
       "            </tr>\n",
       "            <tr>\n",
       "                        <th id=\"T_40ec92e8_4949_11ec_ae54_a0a4c5a2658dlevel0_row1\" class=\"row_heading level0 row1\" >2</th>\n",
       "                        <td id=\"T_40ec92e8_4949_11ec_ae54_a0a4c5a2658drow1_col0\" class=\"data row1 col0\" >196</td>\n",
       "                        <td id=\"T_40ec92e8_4949_11ec_ae54_a0a4c5a2658drow1_col1\" class=\"data row1 col1\" >0.5%</td>\n",
       "                        <td id=\"T_40ec92e8_4949_11ec_ae54_a0a4c5a2658drow1_col2\" class=\"data row1 col2\" >3.6%</td>\n",
       "            </tr>\n",
       "            <tr>\n",
       "                        <th id=\"T_40ec92e8_4949_11ec_ae54_a0a4c5a2658dlevel0_row2\" class=\"row_heading level0 row2\" >3</th>\n",
       "                        <td id=\"T_40ec92e8_4949_11ec_ae54_a0a4c5a2658drow2_col0\" class=\"data row2 col0\" >390</td>\n",
       "                        <td id=\"T_40ec92e8_4949_11ec_ae54_a0a4c5a2658drow2_col1\" class=\"data row2 col1\" >1.1%</td>\n",
       "                        <td id=\"T_40ec92e8_4949_11ec_ae54_a0a4c5a2658drow2_col2\" class=\"data row2 col2\" >5.6%</td>\n",
       "            </tr>\n",
       "            <tr>\n",
       "                        <th id=\"T_40ec92e8_4949_11ec_ae54_a0a4c5a2658dlevel0_row3\" class=\"row_heading level0 row3\" >4</th>\n",
       "                        <td id=\"T_40ec92e8_4949_11ec_ae54_a0a4c5a2658drow3_col0\" class=\"data row3 col0\" >725</td>\n",
       "                        <td id=\"T_40ec92e8_4949_11ec_ae54_a0a4c5a2658drow3_col1\" class=\"data row3 col1\" >2.0%</td>\n",
       "                        <td id=\"T_40ec92e8_4949_11ec_ae54_a0a4c5a2658drow3_col2\" class=\"data row3 col2\" >6.5%</td>\n",
       "            </tr>\n",
       "            <tr>\n",
       "                        <th id=\"T_40ec92e8_4949_11ec_ae54_a0a4c5a2658dlevel0_row4\" class=\"row_heading level0 row4\" >5</th>\n",
       "                        <td id=\"T_40ec92e8_4949_11ec_ae54_a0a4c5a2658drow4_col0\" class=\"data row4 col0\" >568</td>\n",
       "                        <td id=\"T_40ec92e8_4949_11ec_ae54_a0a4c5a2658drow4_col1\" class=\"data row4 col1\" >1.6%</td>\n",
       "                        <td id=\"T_40ec92e8_4949_11ec_ae54_a0a4c5a2658drow4_col2\" class=\"data row4 col2\" >4.9%</td>\n",
       "            </tr>\n",
       "            <tr>\n",
       "                        <th id=\"T_40ec92e8_4949_11ec_ae54_a0a4c5a2658dlevel0_row5\" class=\"row_heading level0 row5\" >6</th>\n",
       "                        <td id=\"T_40ec92e8_4949_11ec_ae54_a0a4c5a2658drow5_col0\" class=\"data row5 col0\" >1,018</td>\n",
       "                        <td id=\"T_40ec92e8_4949_11ec_ae54_a0a4c5a2658drow5_col1\" class=\"data row5 col1\" >2.8%</td>\n",
       "                        <td id=\"T_40ec92e8_4949_11ec_ae54_a0a4c5a2658drow5_col2\" class=\"data row5 col2\" >6.8%</td>\n",
       "            </tr>\n",
       "            <tr>\n",
       "                        <th id=\"T_40ec92e8_4949_11ec_ae54_a0a4c5a2658dlevel0_row6\" class=\"row_heading level0 row6\" >7</th>\n",
       "                        <td id=\"T_40ec92e8_4949_11ec_ae54_a0a4c5a2658drow6_col0\" class=\"data row6 col0\" >1,371</td>\n",
       "                        <td id=\"T_40ec92e8_4949_11ec_ae54_a0a4c5a2658drow6_col1\" class=\"data row6 col1\" >3.7%</td>\n",
       "                        <td id=\"T_40ec92e8_4949_11ec_ae54_a0a4c5a2658drow6_col2\" class=\"data row6 col2\" >5.3%</td>\n",
       "            </tr>\n",
       "            <tr>\n",
       "                        <th id=\"T_40ec92e8_4949_11ec_ae54_a0a4c5a2658dlevel0_row7\" class=\"row_heading level0 row7\" >8</th>\n",
       "                        <td id=\"T_40ec92e8_4949_11ec_ae54_a0a4c5a2658drow7_col0\" class=\"data row7 col0\" >510</td>\n",
       "                        <td id=\"T_40ec92e8_4949_11ec_ae54_a0a4c5a2658drow7_col1\" class=\"data row7 col1\" >1.4%</td>\n",
       "                        <td id=\"T_40ec92e8_4949_11ec_ae54_a0a4c5a2658drow7_col2\" class=\"data row7 col2\" >7.3%</td>\n",
       "            </tr>\n",
       "            <tr>\n",
       "                        <th id=\"T_40ec92e8_4949_11ec_ae54_a0a4c5a2658dlevel0_row8\" class=\"row_heading level0 row8\" >9</th>\n",
       "                        <td id=\"T_40ec92e8_4949_11ec_ae54_a0a4c5a2658drow8_col0\" class=\"data row8 col0\" >11,776</td>\n",
       "                        <td id=\"T_40ec92e8_4949_11ec_ae54_a0a4c5a2658drow8_col1\" class=\"data row8 col1\" >32.1%</td>\n",
       "                        <td id=\"T_40ec92e8_4949_11ec_ae54_a0a4c5a2658drow8_col2\" class=\"data row8 col2\" >16.1%</td>\n",
       "            </tr>\n",
       "            <tr>\n",
       "                        <th id=\"T_40ec92e8_4949_11ec_ae54_a0a4c5a2658dlevel0_row9\" class=\"row_heading level0 row9\" >10</th>\n",
       "                        <td id=\"T_40ec92e8_4949_11ec_ae54_a0a4c5a2658drow9_col0\" class=\"data row9 col0\" >8,147</td>\n",
       "                        <td id=\"T_40ec92e8_4949_11ec_ae54_a0a4c5a2658drow9_col1\" class=\"data row9 col1\" >22.2%</td>\n",
       "                        <td id=\"T_40ec92e8_4949_11ec_ae54_a0a4c5a2658drow9_col2\" class=\"data row9 col2\" >18.9%</td>\n",
       "            </tr>\n",
       "            <tr>\n",
       "                        <th id=\"T_40ec92e8_4949_11ec_ae54_a0a4c5a2658dlevel0_row10\" class=\"row_heading level0 row10\" >11</th>\n",
       "                        <td id=\"T_40ec92e8_4949_11ec_ae54_a0a4c5a2658drow10_col0\" class=\"data row10 col0\" >1,542</td>\n",
       "                        <td id=\"T_40ec92e8_4949_11ec_ae54_a0a4c5a2658drow10_col1\" class=\"data row10 col1\" >4.2%</td>\n",
       "                        <td id=\"T_40ec92e8_4949_11ec_ae54_a0a4c5a2658drow10_col2\" class=\"data row10 col2\" >25.3%</td>\n",
       "            </tr>\n",
       "            <tr>\n",
       "                        <th id=\"T_40ec92e8_4949_11ec_ae54_a0a4c5a2658dlevel0_row11\" class=\"row_heading level0 row11\" >12</th>\n",
       "                        <td id=\"T_40ec92e8_4949_11ec_ae54_a0a4c5a2658drow11_col0\" class=\"data row11 col0\" >1,212</td>\n",
       "                        <td id=\"T_40ec92e8_4949_11ec_ae54_a0a4c5a2658drow11_col1\" class=\"data row11 col1\" >3.3%</td>\n",
       "                        <td id=\"T_40ec92e8_4949_11ec_ae54_a0a4c5a2658drow11_col2\" class=\"data row11 col2\" >26.2%</td>\n",
       "            </tr>\n",
       "            <tr>\n",
       "                        <th id=\"T_40ec92e8_4949_11ec_ae54_a0a4c5a2658dlevel0_row12\" class=\"row_heading level0 row12\" >13</th>\n",
       "                        <td id=\"T_40ec92e8_4949_11ec_ae54_a0a4c5a2658drow12_col0\" class=\"data row12 col0\" >6,043</td>\n",
       "                        <td id=\"T_40ec92e8_4949_11ec_ae54_a0a4c5a2658drow12_col1\" class=\"data row12 col1\" >16.5%</td>\n",
       "                        <td id=\"T_40ec92e8_4949_11ec_ae54_a0a4c5a2658drow12_col2\" class=\"data row12 col2\" >41.3%</td>\n",
       "            </tr>\n",
       "            <tr>\n",
       "                        <th id=\"T_40ec92e8_4949_11ec_ae54_a0a4c5a2658dlevel0_row13\" class=\"row_heading level0 row13\" >14</th>\n",
       "                        <td id=\"T_40ec92e8_4949_11ec_ae54_a0a4c5a2658drow13_col0\" class=\"data row13 col0\" >1,991</td>\n",
       "                        <td id=\"T_40ec92e8_4949_11ec_ae54_a0a4c5a2658drow13_col1\" class=\"data row13 col1\" >5.4%</td>\n",
       "                        <td id=\"T_40ec92e8_4949_11ec_ae54_a0a4c5a2658drow13_col2\" class=\"data row13 col2\" >54.4%</td>\n",
       "            </tr>\n",
       "            <tr>\n",
       "                        <th id=\"T_40ec92e8_4949_11ec_ae54_a0a4c5a2658dlevel0_row14\" class=\"row_heading level0 row14\" >15</th>\n",
       "                        <td id=\"T_40ec92e8_4949_11ec_ae54_a0a4c5a2658drow14_col0\" class=\"data row14 col0\" >622</td>\n",
       "                        <td id=\"T_40ec92e8_4949_11ec_ae54_a0a4c5a2658drow14_col1\" class=\"data row14 col1\" >1.7%</td>\n",
       "                        <td id=\"T_40ec92e8_4949_11ec_ae54_a0a4c5a2658drow14_col2\" class=\"data row14 col2\" >74.9%</td>\n",
       "            </tr>\n",
       "            <tr>\n",
       "                        <th id=\"T_40ec92e8_4949_11ec_ae54_a0a4c5a2658dlevel0_row15\" class=\"row_heading level0 row15\" >16</th>\n",
       "                        <td id=\"T_40ec92e8_4949_11ec_ae54_a0a4c5a2658drow15_col0\" class=\"data row15 col0\" >455</td>\n",
       "                        <td id=\"T_40ec92e8_4949_11ec_ae54_a0a4c5a2658drow15_col1\" class=\"data row15 col1\" >1.2%</td>\n",
       "                        <td id=\"T_40ec92e8_4949_11ec_ae54_a0a4c5a2658drow15_col2\" class=\"data row15 col2\" >72.7%</td>\n",
       "            </tr>\n",
       "    </tbody></table>"
      ],
      "text/plain": [
       "<pandas.io.formats.style.Styler at 0x232a9024a48>"
      ]
     },
     "execution_count": 66,
     "metadata": {},
     "output_type": "execute_result"
    }
   ],
   "source": [
    "explore_categorical_feature('education-num').style.format({\n",
    "        'Count': '{:,d}'.format, \n",
    "        'Share': '{:,.1%}'.format, \n",
    "        'Positive Rate': '{:,.1%}'.format})"
   ]
  },
  {
   "cell_type": "code",
   "execution_count": 67,
   "metadata": {},
   "outputs": [
    {
     "data": {
      "text/plain": [
       "education-num  education   \n",
       "1              Preschool          65\n",
       "2              1st-4th           196\n",
       "3              5th-6th           390\n",
       "4              7th-8th           725\n",
       "5              9th               568\n",
       "6              10th             1018\n",
       "7              11th             1371\n",
       "8              12th              510\n",
       "9              HS-grad         11776\n",
       "10             Some-college     8147\n",
       "11             Assoc-voc        1542\n",
       "12             Assoc-acdm       1212\n",
       "13             Bachelors        6043\n",
       "14             Masters          1991\n",
       "15             Prof-school       622\n",
       "16             Doctorate         455\n",
       "Name: education, dtype: int64"
      ]
     },
     "execution_count": 67,
     "metadata": {},
     "output_type": "execute_result"
    }
   ],
   "source": [
    "# Show all combinations of values in 'education-num' and 'education'.\n",
    "# Not that there is a one-to-one match between these columns\n",
    "df_train.groupby(['education-num'])['education'].value_counts()"
   ]
  },
  {
   "cell_type": "code",
   "execution_count": 68,
   "metadata": {},
   "outputs": [
    {
     "data": {
      "text/html": [
       "<style  type=\"text/css\" >\n",
       "</style><table id=\"T_40f58d90_4949_11ec_a99d_a0a4c5a2658d\" ><thead>    <tr>        <th class=\"blank level0\" ></th>        <th class=\"col_heading level0 col0\" >Education</th>        <th class=\"col_heading level0 col1\" >Count</th>        <th class=\"col_heading level0 col2\" >Share</th>        <th class=\"col_heading level0 col3\" >Positive Rate</th>    </tr>    <tr>        <th class=\"index_name level0\" >education-num</th>        <th class=\"blank\" ></th>        <th class=\"blank\" ></th>        <th class=\"blank\" ></th>        <th class=\"blank\" ></th>    </tr></thead><tbody>\n",
       "                <tr>\n",
       "                        <th id=\"T_40f58d90_4949_11ec_a99d_a0a4c5a2658dlevel0_row0\" class=\"row_heading level0 row0\" >1</th>\n",
       "                        <td id=\"T_40f58d90_4949_11ec_a99d_a0a4c5a2658drow0_col0\" class=\"data row0 col0\" >Preschool</td>\n",
       "                        <td id=\"T_40f58d90_4949_11ec_a99d_a0a4c5a2658drow0_col1\" class=\"data row0 col1\" >65</td>\n",
       "                        <td id=\"T_40f58d90_4949_11ec_a99d_a0a4c5a2658drow0_col2\" class=\"data row0 col2\" >0.2%</td>\n",
       "                        <td id=\"T_40f58d90_4949_11ec_a99d_a0a4c5a2658drow0_col3\" class=\"data row0 col3\" >1.5%</td>\n",
       "            </tr>\n",
       "            <tr>\n",
       "                        <th id=\"T_40f58d90_4949_11ec_a99d_a0a4c5a2658dlevel0_row1\" class=\"row_heading level0 row1\" >2</th>\n",
       "                        <td id=\"T_40f58d90_4949_11ec_a99d_a0a4c5a2658drow1_col0\" class=\"data row1 col0\" >1st-4th</td>\n",
       "                        <td id=\"T_40f58d90_4949_11ec_a99d_a0a4c5a2658drow1_col1\" class=\"data row1 col1\" >196</td>\n",
       "                        <td id=\"T_40f58d90_4949_11ec_a99d_a0a4c5a2658drow1_col2\" class=\"data row1 col2\" >0.5%</td>\n",
       "                        <td id=\"T_40f58d90_4949_11ec_a99d_a0a4c5a2658drow1_col3\" class=\"data row1 col3\" >3.6%</td>\n",
       "            </tr>\n",
       "            <tr>\n",
       "                        <th id=\"T_40f58d90_4949_11ec_a99d_a0a4c5a2658dlevel0_row2\" class=\"row_heading level0 row2\" >3</th>\n",
       "                        <td id=\"T_40f58d90_4949_11ec_a99d_a0a4c5a2658drow2_col0\" class=\"data row2 col0\" >5th-6th</td>\n",
       "                        <td id=\"T_40f58d90_4949_11ec_a99d_a0a4c5a2658drow2_col1\" class=\"data row2 col1\" >390</td>\n",
       "                        <td id=\"T_40f58d90_4949_11ec_a99d_a0a4c5a2658drow2_col2\" class=\"data row2 col2\" >1.1%</td>\n",
       "                        <td id=\"T_40f58d90_4949_11ec_a99d_a0a4c5a2658drow2_col3\" class=\"data row2 col3\" >5.6%</td>\n",
       "            </tr>\n",
       "            <tr>\n",
       "                        <th id=\"T_40f58d90_4949_11ec_a99d_a0a4c5a2658dlevel0_row3\" class=\"row_heading level0 row3\" >4</th>\n",
       "                        <td id=\"T_40f58d90_4949_11ec_a99d_a0a4c5a2658drow3_col0\" class=\"data row3 col0\" >7th-8th</td>\n",
       "                        <td id=\"T_40f58d90_4949_11ec_a99d_a0a4c5a2658drow3_col1\" class=\"data row3 col1\" >725</td>\n",
       "                        <td id=\"T_40f58d90_4949_11ec_a99d_a0a4c5a2658drow3_col2\" class=\"data row3 col2\" >2.0%</td>\n",
       "                        <td id=\"T_40f58d90_4949_11ec_a99d_a0a4c5a2658drow3_col3\" class=\"data row3 col3\" >6.5%</td>\n",
       "            </tr>\n",
       "            <tr>\n",
       "                        <th id=\"T_40f58d90_4949_11ec_a99d_a0a4c5a2658dlevel0_row4\" class=\"row_heading level0 row4\" >5</th>\n",
       "                        <td id=\"T_40f58d90_4949_11ec_a99d_a0a4c5a2658drow4_col0\" class=\"data row4 col0\" >9th</td>\n",
       "                        <td id=\"T_40f58d90_4949_11ec_a99d_a0a4c5a2658drow4_col1\" class=\"data row4 col1\" >568</td>\n",
       "                        <td id=\"T_40f58d90_4949_11ec_a99d_a0a4c5a2658drow4_col2\" class=\"data row4 col2\" >1.6%</td>\n",
       "                        <td id=\"T_40f58d90_4949_11ec_a99d_a0a4c5a2658drow4_col3\" class=\"data row4 col3\" >4.9%</td>\n",
       "            </tr>\n",
       "            <tr>\n",
       "                        <th id=\"T_40f58d90_4949_11ec_a99d_a0a4c5a2658dlevel0_row5\" class=\"row_heading level0 row5\" >6</th>\n",
       "                        <td id=\"T_40f58d90_4949_11ec_a99d_a0a4c5a2658drow5_col0\" class=\"data row5 col0\" >10th</td>\n",
       "                        <td id=\"T_40f58d90_4949_11ec_a99d_a0a4c5a2658drow5_col1\" class=\"data row5 col1\" >1,018</td>\n",
       "                        <td id=\"T_40f58d90_4949_11ec_a99d_a0a4c5a2658drow5_col2\" class=\"data row5 col2\" >2.8%</td>\n",
       "                        <td id=\"T_40f58d90_4949_11ec_a99d_a0a4c5a2658drow5_col3\" class=\"data row5 col3\" >6.8%</td>\n",
       "            </tr>\n",
       "            <tr>\n",
       "                        <th id=\"T_40f58d90_4949_11ec_a99d_a0a4c5a2658dlevel0_row6\" class=\"row_heading level0 row6\" >7</th>\n",
       "                        <td id=\"T_40f58d90_4949_11ec_a99d_a0a4c5a2658drow6_col0\" class=\"data row6 col0\" >11th</td>\n",
       "                        <td id=\"T_40f58d90_4949_11ec_a99d_a0a4c5a2658drow6_col1\" class=\"data row6 col1\" >1,371</td>\n",
       "                        <td id=\"T_40f58d90_4949_11ec_a99d_a0a4c5a2658drow6_col2\" class=\"data row6 col2\" >3.7%</td>\n",
       "                        <td id=\"T_40f58d90_4949_11ec_a99d_a0a4c5a2658drow6_col3\" class=\"data row6 col3\" >5.3%</td>\n",
       "            </tr>\n",
       "            <tr>\n",
       "                        <th id=\"T_40f58d90_4949_11ec_a99d_a0a4c5a2658dlevel0_row7\" class=\"row_heading level0 row7\" >8</th>\n",
       "                        <td id=\"T_40f58d90_4949_11ec_a99d_a0a4c5a2658drow7_col0\" class=\"data row7 col0\" >12th</td>\n",
       "                        <td id=\"T_40f58d90_4949_11ec_a99d_a0a4c5a2658drow7_col1\" class=\"data row7 col1\" >510</td>\n",
       "                        <td id=\"T_40f58d90_4949_11ec_a99d_a0a4c5a2658drow7_col2\" class=\"data row7 col2\" >1.4%</td>\n",
       "                        <td id=\"T_40f58d90_4949_11ec_a99d_a0a4c5a2658drow7_col3\" class=\"data row7 col3\" >7.3%</td>\n",
       "            </tr>\n",
       "            <tr>\n",
       "                        <th id=\"T_40f58d90_4949_11ec_a99d_a0a4c5a2658dlevel0_row8\" class=\"row_heading level0 row8\" >9</th>\n",
       "                        <td id=\"T_40f58d90_4949_11ec_a99d_a0a4c5a2658drow8_col0\" class=\"data row8 col0\" >HS-grad</td>\n",
       "                        <td id=\"T_40f58d90_4949_11ec_a99d_a0a4c5a2658drow8_col1\" class=\"data row8 col1\" >11,776</td>\n",
       "                        <td id=\"T_40f58d90_4949_11ec_a99d_a0a4c5a2658drow8_col2\" class=\"data row8 col2\" >32.1%</td>\n",
       "                        <td id=\"T_40f58d90_4949_11ec_a99d_a0a4c5a2658drow8_col3\" class=\"data row8 col3\" >16.1%</td>\n",
       "            </tr>\n",
       "            <tr>\n",
       "                        <th id=\"T_40f58d90_4949_11ec_a99d_a0a4c5a2658dlevel0_row9\" class=\"row_heading level0 row9\" >10</th>\n",
       "                        <td id=\"T_40f58d90_4949_11ec_a99d_a0a4c5a2658drow9_col0\" class=\"data row9 col0\" >Some-college</td>\n",
       "                        <td id=\"T_40f58d90_4949_11ec_a99d_a0a4c5a2658drow9_col1\" class=\"data row9 col1\" >8,147</td>\n",
       "                        <td id=\"T_40f58d90_4949_11ec_a99d_a0a4c5a2658drow9_col2\" class=\"data row9 col2\" >22.2%</td>\n",
       "                        <td id=\"T_40f58d90_4949_11ec_a99d_a0a4c5a2658drow9_col3\" class=\"data row9 col3\" >18.9%</td>\n",
       "            </tr>\n",
       "            <tr>\n",
       "                        <th id=\"T_40f58d90_4949_11ec_a99d_a0a4c5a2658dlevel0_row10\" class=\"row_heading level0 row10\" >11</th>\n",
       "                        <td id=\"T_40f58d90_4949_11ec_a99d_a0a4c5a2658drow10_col0\" class=\"data row10 col0\" >Assoc-voc</td>\n",
       "                        <td id=\"T_40f58d90_4949_11ec_a99d_a0a4c5a2658drow10_col1\" class=\"data row10 col1\" >1,542</td>\n",
       "                        <td id=\"T_40f58d90_4949_11ec_a99d_a0a4c5a2658drow10_col2\" class=\"data row10 col2\" >4.2%</td>\n",
       "                        <td id=\"T_40f58d90_4949_11ec_a99d_a0a4c5a2658drow10_col3\" class=\"data row10 col3\" >25.3%</td>\n",
       "            </tr>\n",
       "            <tr>\n",
       "                        <th id=\"T_40f58d90_4949_11ec_a99d_a0a4c5a2658dlevel0_row11\" class=\"row_heading level0 row11\" >12</th>\n",
       "                        <td id=\"T_40f58d90_4949_11ec_a99d_a0a4c5a2658drow11_col0\" class=\"data row11 col0\" >Assoc-acdm</td>\n",
       "                        <td id=\"T_40f58d90_4949_11ec_a99d_a0a4c5a2658drow11_col1\" class=\"data row11 col1\" >1,212</td>\n",
       "                        <td id=\"T_40f58d90_4949_11ec_a99d_a0a4c5a2658drow11_col2\" class=\"data row11 col2\" >3.3%</td>\n",
       "                        <td id=\"T_40f58d90_4949_11ec_a99d_a0a4c5a2658drow11_col3\" class=\"data row11 col3\" >26.2%</td>\n",
       "            </tr>\n",
       "            <tr>\n",
       "                        <th id=\"T_40f58d90_4949_11ec_a99d_a0a4c5a2658dlevel0_row12\" class=\"row_heading level0 row12\" >13</th>\n",
       "                        <td id=\"T_40f58d90_4949_11ec_a99d_a0a4c5a2658drow12_col0\" class=\"data row12 col0\" >Bachelors</td>\n",
       "                        <td id=\"T_40f58d90_4949_11ec_a99d_a0a4c5a2658drow12_col1\" class=\"data row12 col1\" >6,043</td>\n",
       "                        <td id=\"T_40f58d90_4949_11ec_a99d_a0a4c5a2658drow12_col2\" class=\"data row12 col2\" >16.5%</td>\n",
       "                        <td id=\"T_40f58d90_4949_11ec_a99d_a0a4c5a2658drow12_col3\" class=\"data row12 col3\" >41.3%</td>\n",
       "            </tr>\n",
       "            <tr>\n",
       "                        <th id=\"T_40f58d90_4949_11ec_a99d_a0a4c5a2658dlevel0_row13\" class=\"row_heading level0 row13\" >14</th>\n",
       "                        <td id=\"T_40f58d90_4949_11ec_a99d_a0a4c5a2658drow13_col0\" class=\"data row13 col0\" >Masters</td>\n",
       "                        <td id=\"T_40f58d90_4949_11ec_a99d_a0a4c5a2658drow13_col1\" class=\"data row13 col1\" >1,991</td>\n",
       "                        <td id=\"T_40f58d90_4949_11ec_a99d_a0a4c5a2658drow13_col2\" class=\"data row13 col2\" >5.4%</td>\n",
       "                        <td id=\"T_40f58d90_4949_11ec_a99d_a0a4c5a2658drow13_col3\" class=\"data row13 col3\" >54.4%</td>\n",
       "            </tr>\n",
       "            <tr>\n",
       "                        <th id=\"T_40f58d90_4949_11ec_a99d_a0a4c5a2658dlevel0_row14\" class=\"row_heading level0 row14\" >15</th>\n",
       "                        <td id=\"T_40f58d90_4949_11ec_a99d_a0a4c5a2658drow14_col0\" class=\"data row14 col0\" >Prof-school</td>\n",
       "                        <td id=\"T_40f58d90_4949_11ec_a99d_a0a4c5a2658drow14_col1\" class=\"data row14 col1\" >622</td>\n",
       "                        <td id=\"T_40f58d90_4949_11ec_a99d_a0a4c5a2658drow14_col2\" class=\"data row14 col2\" >1.7%</td>\n",
       "                        <td id=\"T_40f58d90_4949_11ec_a99d_a0a4c5a2658drow14_col3\" class=\"data row14 col3\" >74.9%</td>\n",
       "            </tr>\n",
       "            <tr>\n",
       "                        <th id=\"T_40f58d90_4949_11ec_a99d_a0a4c5a2658dlevel0_row15\" class=\"row_heading level0 row15\" >16</th>\n",
       "                        <td id=\"T_40f58d90_4949_11ec_a99d_a0a4c5a2658drow15_col0\" class=\"data row15 col0\" >Doctorate</td>\n",
       "                        <td id=\"T_40f58d90_4949_11ec_a99d_a0a4c5a2658drow15_col1\" class=\"data row15 col1\" >455</td>\n",
       "                        <td id=\"T_40f58d90_4949_11ec_a99d_a0a4c5a2658drow15_col2\" class=\"data row15 col2\" >1.2%</td>\n",
       "                        <td id=\"T_40f58d90_4949_11ec_a99d_a0a4c5a2658drow15_col3\" class=\"data row15 col3\" >72.7%</td>\n",
       "            </tr>\n",
       "    </tbody></table>"
      ],
      "text/plain": [
       "<pandas.io.formats.style.Styler at 0x232a86dee88>"
      ]
     },
     "execution_count": 68,
     "metadata": {},
     "output_type": "execute_result"
    }
   ],
   "source": [
    "# Build a dataframe with exploratory analysis that shows both columns\n",
    "education_explore = explore_categorical_feature('education-num').sort_index()\n",
    "education_explore['Education'] = df_train.groupby(['education-num'])['education'].max()\n",
    "education_explore[['Education', 'Count', 'Share', 'Positive Rate']].style.format({\n",
    "        'Education': '{}'.format, \n",
    "        'Count': '{:,d}'.format, \n",
    "        'Share': '{:,.1%}'.format, \n",
    "        'Positive Rate': '{:,.1%}'.format})"
   ]
  },
  {
   "cell_type": "code",
   "execution_count": 69,
   "metadata": {},
   "outputs": [
    {
     "data": {
      "text/html": [
       "<style  type=\"text/css\" >\n",
       "</style><table id=\"T_40fa452c_4949_11ec_8ef1_a0a4c5a2658d\" ><thead>    <tr>        <th class=\"blank level0\" ></th>        <th class=\"col_heading level0 col0\" >Count</th>        <th class=\"col_heading level0 col1\" >Share</th>        <th class=\"col_heading level0 col2\" >Positive Rate</th>    </tr>    <tr>        <th class=\"index_name level0\" >occupation</th>        <th class=\"blank\" ></th>        <th class=\"blank\" ></th>        <th class=\"blank\" ></th>    </tr></thead><tbody>\n",
       "                <tr>\n",
       "                        <th id=\"T_40fa452c_4949_11ec_8ef1_a0a4c5a2658dlevel0_row0\" class=\"row_heading level0 row0\" >Prof-specialty</th>\n",
       "                        <td id=\"T_40fa452c_4949_11ec_8ef1_a0a4c5a2658drow0_col0\" class=\"data row0 col0\" >4,674</td>\n",
       "                        <td id=\"T_40fa452c_4949_11ec_8ef1_a0a4c5a2658drow0_col1\" class=\"data row0 col1\" >12.8%</td>\n",
       "                        <td id=\"T_40fa452c_4949_11ec_8ef1_a0a4c5a2658drow0_col2\" class=\"data row0 col2\" >44.9%</td>\n",
       "            </tr>\n",
       "            <tr>\n",
       "                        <th id=\"T_40fa452c_4949_11ec_8ef1_a0a4c5a2658dlevel0_row1\" class=\"row_heading level0 row1\" >Craft-repair</th>\n",
       "                        <td id=\"T_40fa452c_4949_11ec_8ef1_a0a4c5a2658drow1_col0\" class=\"data row1 col0\" >4,632</td>\n",
       "                        <td id=\"T_40fa452c_4949_11ec_8ef1_a0a4c5a2658drow1_col1\" class=\"data row1 col1\" >12.6%</td>\n",
       "                        <td id=\"T_40fa452c_4949_11ec_8ef1_a0a4c5a2658drow1_col2\" class=\"data row1 col2\" >23.2%</td>\n",
       "            </tr>\n",
       "            <tr>\n",
       "                        <th id=\"T_40fa452c_4949_11ec_8ef1_a0a4c5a2658dlevel0_row2\" class=\"row_heading level0 row2\" >Exec-managerial</th>\n",
       "                        <td id=\"T_40fa452c_4949_11ec_8ef1_a0a4c5a2658drow2_col0\" class=\"data row2 col0\" >4,561</td>\n",
       "                        <td id=\"T_40fa452c_4949_11ec_8ef1_a0a4c5a2658drow2_col1\" class=\"data row2 col1\" >12.5%</td>\n",
       "                        <td id=\"T_40fa452c_4949_11ec_8ef1_a0a4c5a2658drow2_col2\" class=\"data row2 col2\" >47.6%</td>\n",
       "            </tr>\n",
       "            <tr>\n",
       "                        <th id=\"T_40fa452c_4949_11ec_8ef1_a0a4c5a2658dlevel0_row3\" class=\"row_heading level0 row3\" >Adm-clerical</th>\n",
       "                        <td id=\"T_40fa452c_4949_11ec_8ef1_a0a4c5a2658drow3_col0\" class=\"data row3 col0\" >4,177</td>\n",
       "                        <td id=\"T_40fa452c_4949_11ec_8ef1_a0a4c5a2658drow3_col1\" class=\"data row3 col1\" >11.4%</td>\n",
       "                        <td id=\"T_40fa452c_4949_11ec_8ef1_a0a4c5a2658drow3_col2\" class=\"data row3 col2\" >13.7%</td>\n",
       "            </tr>\n",
       "            <tr>\n",
       "                        <th id=\"T_40fa452c_4949_11ec_8ef1_a0a4c5a2658dlevel0_row4\" class=\"row_heading level0 row4\" >Sales</th>\n",
       "                        <td id=\"T_40fa452c_4949_11ec_8ef1_a0a4c5a2658drow4_col0\" class=\"data row4 col0\" >4,116</td>\n",
       "                        <td id=\"T_40fa452c_4949_11ec_8ef1_a0a4c5a2658drow4_col1\" class=\"data row4 col1\" >11.2%</td>\n",
       "                        <td id=\"T_40fa452c_4949_11ec_8ef1_a0a4c5a2658drow4_col2\" class=\"data row4 col2\" >26.8%</td>\n",
       "            </tr>\n",
       "            <tr>\n",
       "                        <th id=\"T_40fa452c_4949_11ec_8ef1_a0a4c5a2658dlevel0_row5\" class=\"row_heading level0 row5\" >Other-service</th>\n",
       "                        <td id=\"T_40fa452c_4949_11ec_8ef1_a0a4c5a2658drow5_col0\" class=\"data row5 col0\" >3,625</td>\n",
       "                        <td id=\"T_40fa452c_4949_11ec_8ef1_a0a4c5a2658drow5_col1\" class=\"data row5 col1\" >9.9%</td>\n",
       "                        <td id=\"T_40fa452c_4949_11ec_8ef1_a0a4c5a2658drow5_col2\" class=\"data row5 col2\" >4.3%</td>\n",
       "            </tr>\n",
       "            <tr>\n",
       "                        <th id=\"T_40fa452c_4949_11ec_8ef1_a0a4c5a2658dlevel0_row6\" class=\"row_heading level0 row6\" >Machine-op-inspct</th>\n",
       "                        <td id=\"T_40fa452c_4949_11ec_8ef1_a0a4c5a2658drow6_col0\" class=\"data row6 col0\" >2,255</td>\n",
       "                        <td id=\"T_40fa452c_4949_11ec_8ef1_a0a4c5a2658drow6_col1\" class=\"data row6 col1\" >6.2%</td>\n",
       "                        <td id=\"T_40fa452c_4949_11ec_8ef1_a0a4c5a2658drow6_col2\" class=\"data row6 col2\" >12.1%</td>\n",
       "            </tr>\n",
       "            <tr>\n",
       "                        <th id=\"T_40fa452c_4949_11ec_8ef1_a0a4c5a2658dlevel0_row7\" class=\"row_heading level0 row7\" >?</th>\n",
       "                        <td id=\"T_40fa452c_4949_11ec_8ef1_a0a4c5a2658drow7_col0\" class=\"data row7 col0\" >2,116</td>\n",
       "                        <td id=\"T_40fa452c_4949_11ec_8ef1_a0a4c5a2658drow7_col1\" class=\"data row7 col1\" >5.8%</td>\n",
       "                        <td id=\"T_40fa452c_4949_11ec_8ef1_a0a4c5a2658drow7_col2\" class=\"data row7 col2\" >9.6%</td>\n",
       "            </tr>\n",
       "            <tr>\n",
       "                        <th id=\"T_40fa452c_4949_11ec_8ef1_a0a4c5a2658dlevel0_row8\" class=\"row_heading level0 row8\" >Transport-moving</th>\n",
       "                        <td id=\"T_40fa452c_4949_11ec_8ef1_a0a4c5a2658drow8_col0\" class=\"data row8 col0\" >1,771</td>\n",
       "                        <td id=\"T_40fa452c_4949_11ec_8ef1_a0a4c5a2658drow8_col1\" class=\"data row8 col1\" >4.8%</td>\n",
       "                        <td id=\"T_40fa452c_4949_11ec_8ef1_a0a4c5a2658drow8_col2\" class=\"data row8 col2\" >20.9%</td>\n",
       "            </tr>\n",
       "            <tr>\n",
       "                        <th id=\"T_40fa452c_4949_11ec_8ef1_a0a4c5a2658dlevel0_row9\" class=\"row_heading level0 row9\" >Handlers-cleaners</th>\n",
       "                        <td id=\"T_40fa452c_4949_11ec_8ef1_a0a4c5a2658drow9_col0\" class=\"data row9 col0\" >1,583</td>\n",
       "                        <td id=\"T_40fa452c_4949_11ec_8ef1_a0a4c5a2658drow9_col1\" class=\"data row9 col1\" >4.3%</td>\n",
       "                        <td id=\"T_40fa452c_4949_11ec_8ef1_a0a4c5a2658drow9_col2\" class=\"data row9 col2\" >6.9%</td>\n",
       "            </tr>\n",
       "            <tr>\n",
       "                        <th id=\"T_40fa452c_4949_11ec_8ef1_a0a4c5a2658dlevel0_row10\" class=\"row_heading level0 row10\" >Farming-fishing</th>\n",
       "                        <td id=\"T_40fa452c_4949_11ec_8ef1_a0a4c5a2658drow10_col0\" class=\"data row10 col0\" >1,096</td>\n",
       "                        <td id=\"T_40fa452c_4949_11ec_8ef1_a0a4c5a2658drow10_col1\" class=\"data row10 col1\" >3.0%</td>\n",
       "                        <td id=\"T_40fa452c_4949_11ec_8ef1_a0a4c5a2658drow10_col2\" class=\"data row10 col2\" >11.1%</td>\n",
       "            </tr>\n",
       "            <tr>\n",
       "                        <th id=\"T_40fa452c_4949_11ec_8ef1_a0a4c5a2658dlevel0_row11\" class=\"row_heading level0 row11\" >Tech-support</th>\n",
       "                        <td id=\"T_40fa452c_4949_11ec_8ef1_a0a4c5a2658drow11_col0\" class=\"data row11 col0\" >1,089</td>\n",
       "                        <td id=\"T_40fa452c_4949_11ec_8ef1_a0a4c5a2658drow11_col1\" class=\"data row11 col1\" >3.0%</td>\n",
       "                        <td id=\"T_40fa452c_4949_11ec_8ef1_a0a4c5a2658drow11_col2\" class=\"data row11 col2\" >28.6%</td>\n",
       "            </tr>\n",
       "            <tr>\n",
       "                        <th id=\"T_40fa452c_4949_11ec_8ef1_a0a4c5a2658dlevel0_row12\" class=\"row_heading level0 row12\" >Protective-serv</th>\n",
       "                        <td id=\"T_40fa452c_4949_11ec_8ef1_a0a4c5a2658drow12_col0\" class=\"data row12 col0\" >738</td>\n",
       "                        <td id=\"T_40fa452c_4949_11ec_8ef1_a0a4c5a2658drow12_col1\" class=\"data row12 col1\" >2.0%</td>\n",
       "                        <td id=\"T_40fa452c_4949_11ec_8ef1_a0a4c5a2658drow12_col2\" class=\"data row12 col2\" >32.2%</td>\n",
       "            </tr>\n",
       "            <tr>\n",
       "                        <th id=\"T_40fa452c_4949_11ec_8ef1_a0a4c5a2658dlevel0_row13\" class=\"row_heading level0 row13\" >Priv-house-serv</th>\n",
       "                        <td id=\"T_40fa452c_4949_11ec_8ef1_a0a4c5a2658drow13_col0\" class=\"data row13 col0\" >187</td>\n",
       "                        <td id=\"T_40fa452c_4949_11ec_8ef1_a0a4c5a2658drow13_col1\" class=\"data row13 col1\" >0.5%</td>\n",
       "                        <td id=\"T_40fa452c_4949_11ec_8ef1_a0a4c5a2658drow13_col2\" class=\"data row13 col2\" >1.1%</td>\n",
       "            </tr>\n",
       "            <tr>\n",
       "                        <th id=\"T_40fa452c_4949_11ec_8ef1_a0a4c5a2658dlevel0_row14\" class=\"row_heading level0 row14\" >Armed-Forces</th>\n",
       "                        <td id=\"T_40fa452c_4949_11ec_8ef1_a0a4c5a2658drow14_col0\" class=\"data row14 col0\" >11</td>\n",
       "                        <td id=\"T_40fa452c_4949_11ec_8ef1_a0a4c5a2658drow14_col1\" class=\"data row14 col1\" >0.0%</td>\n",
       "                        <td id=\"T_40fa452c_4949_11ec_8ef1_a0a4c5a2658drow14_col2\" class=\"data row14 col2\" >45.5%</td>\n",
       "            </tr>\n",
       "    </tbody></table>"
      ],
      "text/plain": [
       "<pandas.io.formats.style.Styler at 0x232a76f4788>"
      ]
     },
     "execution_count": 69,
     "metadata": {},
     "output_type": "execute_result"
    }
   ],
   "source": [
    "explore_categorical_feature('occupation').style.format({\n",
    "        'Count': '{:,d}'.format, \n",
    "        'Share': '{:,.1%}'.format, \n",
    "        'Positive Rate': '{:,.1%}'.format})"
   ]
  },
  {
   "cell_type": "code",
   "execution_count": 70,
   "metadata": {},
   "outputs": [
    {
     "data": {
      "text/html": [
       "<style  type=\"text/css\" >\n",
       "</style><table id=\"T_40fed5f6_4949_11ec_875e_a0a4c5a2658d\" ><thead>    <tr>        <th class=\"blank level0\" ></th>        <th class=\"col_heading level0 col0\" >Count</th>        <th class=\"col_heading level0 col1\" >Share</th>        <th class=\"col_heading level0 col2\" >Positive Rate</th>    </tr>    <tr>        <th class=\"index_name level0\" >relationship</th>        <th class=\"blank\" ></th>        <th class=\"blank\" ></th>        <th class=\"blank\" ></th>    </tr></thead><tbody>\n",
       "                <tr>\n",
       "                        <th id=\"T_40fed5f6_4949_11ec_875e_a0a4c5a2658dlevel0_row0\" class=\"row_heading level0 row0\" >Husband</th>\n",
       "                        <td id=\"T_40fed5f6_4949_11ec_875e_a0a4c5a2658drow0_col0\" class=\"data row0 col0\" >14,841</td>\n",
       "                        <td id=\"T_40fed5f6_4949_11ec_875e_a0a4c5a2658drow0_col1\" class=\"data row0 col1\" >40.5%</td>\n",
       "                        <td id=\"T_40fed5f6_4949_11ec_875e_a0a4c5a2658drow0_col2\" class=\"data row0 col2\" >44.9%</td>\n",
       "            </tr>\n",
       "            <tr>\n",
       "                        <th id=\"T_40fed5f6_4949_11ec_875e_a0a4c5a2658dlevel0_row1\" class=\"row_heading level0 row1\" >Not-in-family</th>\n",
       "                        <td id=\"T_40fed5f6_4949_11ec_875e_a0a4c5a2658drow1_col0\" class=\"data row1 col0\" >9,479</td>\n",
       "                        <td id=\"T_40fed5f6_4949_11ec_875e_a0a4c5a2658drow1_col1\" class=\"data row1 col1\" >25.9%</td>\n",
       "                        <td id=\"T_40fed5f6_4949_11ec_875e_a0a4c5a2658drow1_col2\" class=\"data row1 col2\" >10.2%</td>\n",
       "            </tr>\n",
       "            <tr>\n",
       "                        <th id=\"T_40fed5f6_4949_11ec_875e_a0a4c5a2658dlevel0_row2\" class=\"row_heading level0 row2\" >Own-child</th>\n",
       "                        <td id=\"T_40fed5f6_4949_11ec_875e_a0a4c5a2658drow2_col0\" class=\"data row2 col0\" >5,639</td>\n",
       "                        <td id=\"T_40fed5f6_4949_11ec_875e_a0a4c5a2658drow2_col1\" class=\"data row2 col1\" >15.4%</td>\n",
       "                        <td id=\"T_40fed5f6_4949_11ec_875e_a0a4c5a2658drow2_col2\" class=\"data row2 col2\" >1.6%</td>\n",
       "            </tr>\n",
       "            <tr>\n",
       "                        <th id=\"T_40fed5f6_4949_11ec_875e_a0a4c5a2658dlevel0_row3\" class=\"row_heading level0 row3\" >Unmarried</th>\n",
       "                        <td id=\"T_40fed5f6_4949_11ec_875e_a0a4c5a2658drow3_col0\" class=\"data row3 col0\" >3,777</td>\n",
       "                        <td id=\"T_40fed5f6_4949_11ec_875e_a0a4c5a2658drow3_col1\" class=\"data row3 col1\" >10.3%</td>\n",
       "                        <td id=\"T_40fed5f6_4949_11ec_875e_a0a4c5a2658drow3_col2\" class=\"data row3 col2\" >5.9%</td>\n",
       "            </tr>\n",
       "            <tr>\n",
       "                        <th id=\"T_40fed5f6_4949_11ec_875e_a0a4c5a2658dlevel0_row4\" class=\"row_heading level0 row4\" >Wife</th>\n",
       "                        <td id=\"T_40fed5f6_4949_11ec_875e_a0a4c5a2658drow4_col0\" class=\"data row4 col0\" >1,761</td>\n",
       "                        <td id=\"T_40fed5f6_4949_11ec_875e_a0a4c5a2658drow4_col1\" class=\"data row4 col1\" >4.8%</td>\n",
       "                        <td id=\"T_40fed5f6_4949_11ec_875e_a0a4c5a2658drow4_col2\" class=\"data row4 col2\" >47.2%</td>\n",
       "            </tr>\n",
       "            <tr>\n",
       "                        <th id=\"T_40fed5f6_4949_11ec_875e_a0a4c5a2658dlevel0_row5\" class=\"row_heading level0 row5\" >Other-relative</th>\n",
       "                        <td id=\"T_40fed5f6_4949_11ec_875e_a0a4c5a2658drow5_col0\" class=\"data row5 col0\" >1,134</td>\n",
       "                        <td id=\"T_40fed5f6_4949_11ec_875e_a0a4c5a2658drow5_col1\" class=\"data row5 col1\" >3.1%</td>\n",
       "                        <td id=\"T_40fed5f6_4949_11ec_875e_a0a4c5a2658drow5_col2\" class=\"data row5 col2\" >3.4%</td>\n",
       "            </tr>\n",
       "    </tbody></table>"
      ],
      "text/plain": [
       "<pandas.io.formats.style.Styler at 0x232a8530048>"
      ]
     },
     "execution_count": 70,
     "metadata": {},
     "output_type": "execute_result"
    }
   ],
   "source": [
    "explore_categorical_feature('relationship').style.format({\n",
    "        'Count': '{:,d}'.format, \n",
    "        'Share': '{:,.1%}'.format, \n",
    "        'Positive Rate': '{:,.1%}'.format})"
   ]
  },
  {
   "cell_type": "code",
   "execution_count": 71,
   "metadata": {},
   "outputs": [
    {
     "data": {
      "text/html": [
       "<style  type=\"text/css\" >\n",
       "</style><table id=\"T_410366ac_4949_11ec_b0b0_a0a4c5a2658d\" ><thead>    <tr>        <th class=\"blank level0\" ></th>        <th class=\"col_heading level0 col0\" >Count</th>        <th class=\"col_heading level0 col1\" >Share</th>        <th class=\"col_heading level0 col2\" >Positive Rate</th>    </tr>    <tr>        <th class=\"index_name level0\" >race</th>        <th class=\"blank\" ></th>        <th class=\"blank\" ></th>        <th class=\"blank\" ></th>    </tr></thead><tbody>\n",
       "                <tr>\n",
       "                        <th id=\"T_410366ac_4949_11ec_b0b0_a0a4c5a2658dlevel0_row0\" class=\"row_heading level0 row0\" >White</th>\n",
       "                        <td id=\"T_410366ac_4949_11ec_b0b0_a0a4c5a2658drow0_col0\" class=\"data row0 col0\" >31,323</td>\n",
       "                        <td id=\"T_410366ac_4949_11ec_b0b0_a0a4c5a2658drow0_col1\" class=\"data row0 col1\" >85.5%</td>\n",
       "                        <td id=\"T_410366ac_4949_11ec_b0b0_a0a4c5a2658drow0_col2\" class=\"data row0 col2\" >25.5%</td>\n",
       "            </tr>\n",
       "            <tr>\n",
       "                        <th id=\"T_410366ac_4949_11ec_b0b0_a0a4c5a2658dlevel0_row1\" class=\"row_heading level0 row1\" >Black</th>\n",
       "                        <td id=\"T_410366ac_4949_11ec_b0b0_a0a4c5a2658drow1_col0\" class=\"data row1 col0\" >3,496</td>\n",
       "                        <td id=\"T_410366ac_4949_11ec_b0b0_a0a4c5a2658drow1_col1\" class=\"data row1 col1\" >9.5%</td>\n",
       "                        <td id=\"T_410366ac_4949_11ec_b0b0_a0a4c5a2658drow1_col2\" class=\"data row1 col2\" >12.5%</td>\n",
       "            </tr>\n",
       "            <tr>\n",
       "                        <th id=\"T_410366ac_4949_11ec_b0b0_a0a4c5a2658dlevel0_row2\" class=\"row_heading level0 row2\" >Asian-Pac-Islander</th>\n",
       "                        <td id=\"T_410366ac_4949_11ec_b0b0_a0a4c5a2658drow2_col0\" class=\"data row2 col0\" >1,152</td>\n",
       "                        <td id=\"T_410366ac_4949_11ec_b0b0_a0a4c5a2658drow2_col1\" class=\"data row2 col1\" >3.1%</td>\n",
       "                        <td id=\"T_410366ac_4949_11ec_b0b0_a0a4c5a2658drow2_col2\" class=\"data row2 col2\" >27.0%</td>\n",
       "            </tr>\n",
       "            <tr>\n",
       "                        <th id=\"T_410366ac_4949_11ec_b0b0_a0a4c5a2658dlevel0_row3\" class=\"row_heading level0 row3\" >Amer-Indian-Eskimo</th>\n",
       "                        <td id=\"T_410366ac_4949_11ec_b0b0_a0a4c5a2658drow3_col0\" class=\"data row3 col0\" >354</td>\n",
       "                        <td id=\"T_410366ac_4949_11ec_b0b0_a0a4c5a2658drow3_col1\" class=\"data row3 col1\" >1.0%</td>\n",
       "                        <td id=\"T_410366ac_4949_11ec_b0b0_a0a4c5a2658drow3_col2\" class=\"data row3 col2\" >10.5%</td>\n",
       "            </tr>\n",
       "            <tr>\n",
       "                        <th id=\"T_410366ac_4949_11ec_b0b0_a0a4c5a2658dlevel0_row4\" class=\"row_heading level0 row4\" >Other</th>\n",
       "                        <td id=\"T_410366ac_4949_11ec_b0b0_a0a4c5a2658drow4_col0\" class=\"data row4 col0\" >306</td>\n",
       "                        <td id=\"T_410366ac_4949_11ec_b0b0_a0a4c5a2658drow4_col1\" class=\"data row4 col1\" >0.8%</td>\n",
       "                        <td id=\"T_410366ac_4949_11ec_b0b0_a0a4c5a2658drow4_col2\" class=\"data row4 col2\" >11.8%</td>\n",
       "            </tr>\n",
       "    </tbody></table>"
      ],
      "text/plain": [
       "<pandas.io.formats.style.Styler at 0x232a86cabc8>"
      ]
     },
     "execution_count": 71,
     "metadata": {},
     "output_type": "execute_result"
    }
   ],
   "source": [
    "explore_categorical_feature('race').style.format({\n",
    "        'Count': '{:,d}'.format, \n",
    "        'Share': '{:,.1%}'.format, \n",
    "        'Positive Rate': '{:,.1%}'.format})"
   ]
  },
  {
   "cell_type": "code",
   "execution_count": 72,
   "metadata": {},
   "outputs": [
    {
     "data": {
      "text/html": [
       "<style  type=\"text/css\" >\n",
       "</style><table id=\"T_4107f7e2_4949_11ec_b939_a0a4c5a2658d\" ><thead>    <tr>        <th class=\"blank level0\" ></th>        <th class=\"col_heading level0 col0\" >Count</th>        <th class=\"col_heading level0 col1\" >Share</th>        <th class=\"col_heading level0 col2\" >Positive Rate</th>    </tr>    <tr>        <th class=\"index_name level0\" >sex</th>        <th class=\"blank\" ></th>        <th class=\"blank\" ></th>        <th class=\"blank\" ></th>    </tr></thead><tbody>\n",
       "                <tr>\n",
       "                        <th id=\"T_4107f7e2_4949_11ec_b939_a0a4c5a2658dlevel0_row0\" class=\"row_heading level0 row0\" >Male</th>\n",
       "                        <td id=\"T_4107f7e2_4949_11ec_b939_a0a4c5a2658drow0_col0\" class=\"data row0 col0\" >24,569</td>\n",
       "                        <td id=\"T_4107f7e2_4949_11ec_b939_a0a4c5a2658drow0_col1\" class=\"data row0 col1\" >67.1%</td>\n",
       "                        <td id=\"T_4107f7e2_4949_11ec_b939_a0a4c5a2658drow0_col2\" class=\"data row0 col2\" >30.4%</td>\n",
       "            </tr>\n",
       "            <tr>\n",
       "                        <th id=\"T_4107f7e2_4949_11ec_b939_a0a4c5a2658dlevel0_row1\" class=\"row_heading level0 row1\" >Female</th>\n",
       "                        <td id=\"T_4107f7e2_4949_11ec_b939_a0a4c5a2658drow1_col0\" class=\"data row1 col0\" >12,062</td>\n",
       "                        <td id=\"T_4107f7e2_4949_11ec_b939_a0a4c5a2658drow1_col1\" class=\"data row1 col1\" >32.9%</td>\n",
       "                        <td id=\"T_4107f7e2_4949_11ec_b939_a0a4c5a2658drow1_col2\" class=\"data row1 col2\" >11.0%</td>\n",
       "            </tr>\n",
       "    </tbody></table>"
      ],
      "text/plain": [
       "<pandas.io.formats.style.Styler at 0x232a86bb988>"
      ]
     },
     "execution_count": 72,
     "metadata": {},
     "output_type": "execute_result"
    }
   ],
   "source": [
    "explore_categorical_feature('sex').style.format({\n",
    "        'Count': '{:,d}'.format, \n",
    "        'Share': '{:,.1%}'.format, \n",
    "        'Positive Rate': '{:,.1%}'.format})"
   ]
  },
  {
   "cell_type": "code",
   "execution_count": 73,
   "metadata": {},
   "outputs": [
    {
     "data": {
      "text/html": [
       "<style  type=\"text/css\" >\n",
       "</style><table id=\"T_410c6198_4949_11ec_8244_a0a4c5a2658d\" ><thead>    <tr>        <th class=\"blank level0\" ></th>        <th class=\"col_heading level0 col0\" >Count</th>        <th class=\"col_heading level0 col1\" >Share</th>        <th class=\"col_heading level0 col2\" >Positive Rate</th>    </tr>    <tr>        <th class=\"index_name level0\" >native-country</th>        <th class=\"blank\" ></th>        <th class=\"blank\" ></th>        <th class=\"blank\" ></th>    </tr></thead><tbody>\n",
       "                <tr>\n",
       "                        <th id=\"T_410c6198_4949_11ec_8244_a0a4c5a2658dlevel0_row0\" class=\"row_heading level0 row0\" >United-States</th>\n",
       "                        <td id=\"T_410c6198_4949_11ec_8244_a0a4c5a2658drow0_col0\" class=\"data row0 col0\" >32,808</td>\n",
       "                        <td id=\"T_410c6198_4949_11ec_8244_a0a4c5a2658drow0_col1\" class=\"data row0 col1\" >89.6%</td>\n",
       "                        <td id=\"T_410c6198_4949_11ec_8244_a0a4c5a2658drow0_col2\" class=\"data row0 col2\" >24.4%</td>\n",
       "            </tr>\n",
       "            <tr>\n",
       "                        <th id=\"T_410c6198_4949_11ec_8244_a0a4c5a2658dlevel0_row1\" class=\"row_heading level0 row1\" >Mexico</th>\n",
       "                        <td id=\"T_410c6198_4949_11ec_8244_a0a4c5a2658drow1_col0\" class=\"data row1 col0\" >750</td>\n",
       "                        <td id=\"T_410c6198_4949_11ec_8244_a0a4c5a2658drow1_col1\" class=\"data row1 col1\" >2.0%</td>\n",
       "                        <td id=\"T_410c6198_4949_11ec_8244_a0a4c5a2658drow1_col2\" class=\"data row1 col2\" >5.5%</td>\n",
       "            </tr>\n",
       "            <tr>\n",
       "                        <th id=\"T_410c6198_4949_11ec_8244_a0a4c5a2658dlevel0_row2\" class=\"row_heading level0 row2\" >?</th>\n",
       "                        <td id=\"T_410c6198_4949_11ec_8244_a0a4c5a2658drow2_col0\" class=\"data row2 col0\" >648</td>\n",
       "                        <td id=\"T_410c6198_4949_11ec_8244_a0a4c5a2658drow2_col1\" class=\"data row2 col1\" >1.8%</td>\n",
       "                        <td id=\"T_410c6198_4949_11ec_8244_a0a4c5a2658drow2_col2\" class=\"data row2 col2\" >27.9%</td>\n",
       "            </tr>\n",
       "            <tr>\n",
       "                        <th id=\"T_410c6198_4949_11ec_8244_a0a4c5a2658dlevel0_row3\" class=\"row_heading level0 row3\" >Philippines</th>\n",
       "                        <td id=\"T_410c6198_4949_11ec_8244_a0a4c5a2658drow3_col0\" class=\"data row3 col0\" >230</td>\n",
       "                        <td id=\"T_410c6198_4949_11ec_8244_a0a4c5a2658drow3_col1\" class=\"data row3 col1\" >0.6%</td>\n",
       "                        <td id=\"T_410c6198_4949_11ec_8244_a0a4c5a2658drow3_col2\" class=\"data row3 col2\" >30.4%</td>\n",
       "            </tr>\n",
       "            <tr>\n",
       "                        <th id=\"T_410c6198_4949_11ec_8244_a0a4c5a2658dlevel0_row4\" class=\"row_heading level0 row4\" >Germany</th>\n",
       "                        <td id=\"T_410c6198_4949_11ec_8244_a0a4c5a2658drow4_col0\" class=\"data row4 col0\" >169</td>\n",
       "                        <td id=\"T_410c6198_4949_11ec_8244_a0a4c5a2658drow4_col1\" class=\"data row4 col1\" >0.5%</td>\n",
       "                        <td id=\"T_410c6198_4949_11ec_8244_a0a4c5a2658drow4_col2\" class=\"data row4 col2\" >29.0%</td>\n",
       "            </tr>\n",
       "            <tr>\n",
       "                        <th id=\"T_410c6198_4949_11ec_8244_a0a4c5a2658dlevel0_row5\" class=\"row_heading level0 row5\" >Puerto-Rico</th>\n",
       "                        <td id=\"T_410c6198_4949_11ec_8244_a0a4c5a2658drow5_col0\" class=\"data row5 col0\" >144</td>\n",
       "                        <td id=\"T_410c6198_4949_11ec_8244_a0a4c5a2658drow5_col1\" class=\"data row5 col1\" >0.4%</td>\n",
       "                        <td id=\"T_410c6198_4949_11ec_8244_a0a4c5a2658drow5_col2\" class=\"data row5 col2\" >11.8%</td>\n",
       "            </tr>\n",
       "            <tr>\n",
       "                        <th id=\"T_410c6198_4949_11ec_8244_a0a4c5a2658dlevel0_row6\" class=\"row_heading level0 row6\" >Canada</th>\n",
       "                        <td id=\"T_410c6198_4949_11ec_8244_a0a4c5a2658drow6_col0\" class=\"data row6 col0\" >141</td>\n",
       "                        <td id=\"T_410c6198_4949_11ec_8244_a0a4c5a2658drow6_col1\" class=\"data row6 col1\" >0.4%</td>\n",
       "                        <td id=\"T_410c6198_4949_11ec_8244_a0a4c5a2658drow6_col2\" class=\"data row6 col2\" >35.5%</td>\n",
       "            </tr>\n",
       "            <tr>\n",
       "                        <th id=\"T_410c6198_4949_11ec_8244_a0a4c5a2658dlevel0_row7\" class=\"row_heading level0 row7\" >India</th>\n",
       "                        <td id=\"T_410c6198_4949_11ec_8244_a0a4c5a2658drow7_col0\" class=\"data row7 col0\" >113</td>\n",
       "                        <td id=\"T_410c6198_4949_11ec_8244_a0a4c5a2658drow7_col1\" class=\"data row7 col1\" >0.3%</td>\n",
       "                        <td id=\"T_410c6198_4949_11ec_8244_a0a4c5a2658drow7_col2\" class=\"data row7 col2\" >36.3%</td>\n",
       "            </tr>\n",
       "            <tr>\n",
       "                        <th id=\"T_410c6198_4949_11ec_8244_a0a4c5a2658dlevel0_row8\" class=\"row_heading level0 row8\" >El-Salvador</th>\n",
       "                        <td id=\"T_410c6198_4949_11ec_8244_a0a4c5a2658drow8_col0\" class=\"data row8 col0\" >111</td>\n",
       "                        <td id=\"T_410c6198_4949_11ec_8244_a0a4c5a2658drow8_col1\" class=\"data row8 col1\" >0.3%</td>\n",
       "                        <td id=\"T_410c6198_4949_11ec_8244_a0a4c5a2658drow8_col2\" class=\"data row8 col2\" >7.2%</td>\n",
       "            </tr>\n",
       "            <tr>\n",
       "                        <th id=\"T_410c6198_4949_11ec_8244_a0a4c5a2658dlevel0_row9\" class=\"row_heading level0 row9\" >Cuba</th>\n",
       "                        <td id=\"T_410c6198_4949_11ec_8244_a0a4c5a2658drow9_col0\" class=\"data row9 col0\" >97</td>\n",
       "                        <td id=\"T_410c6198_4949_11ec_8244_a0a4c5a2658drow9_col1\" class=\"data row9 col1\" >0.3%</td>\n",
       "                        <td id=\"T_410c6198_4949_11ec_8244_a0a4c5a2658drow9_col2\" class=\"data row9 col2\" >26.8%</td>\n",
       "            </tr>\n",
       "            <tr>\n",
       "                        <th id=\"T_410c6198_4949_11ec_8244_a0a4c5a2658dlevel0_row10\" class=\"row_heading level0 row10\" >England</th>\n",
       "                        <td id=\"T_410c6198_4949_11ec_8244_a0a4c5a2658drow10_col0\" class=\"data row10 col0\" >94</td>\n",
       "                        <td id=\"T_410c6198_4949_11ec_8244_a0a4c5a2658drow10_col1\" class=\"data row10 col1\" >0.3%</td>\n",
       "                        <td id=\"T_410c6198_4949_11ec_8244_a0a4c5a2658drow10_col2\" class=\"data row10 col2\" >39.4%</td>\n",
       "            </tr>\n",
       "            <tr>\n",
       "                        <th id=\"T_410c6198_4949_11ec_8244_a0a4c5a2658dlevel0_row11\" class=\"row_heading level0 row11\" >China</th>\n",
       "                        <td id=\"T_410c6198_4949_11ec_8244_a0a4c5a2658drow11_col0\" class=\"data row11 col0\" >89</td>\n",
       "                        <td id=\"T_410c6198_4949_11ec_8244_a0a4c5a2658drow11_col1\" class=\"data row11 col1\" >0.2%</td>\n",
       "                        <td id=\"T_410c6198_4949_11ec_8244_a0a4c5a2658drow11_col2\" class=\"data row11 col2\" >31.5%</td>\n",
       "            </tr>\n",
       "            <tr>\n",
       "                        <th id=\"T_410c6198_4949_11ec_8244_a0a4c5a2658dlevel0_row12\" class=\"row_heading level0 row12\" >South</th>\n",
       "                        <td id=\"T_410c6198_4949_11ec_8244_a0a4c5a2658drow12_col0\" class=\"data row12 col0\" >84</td>\n",
       "                        <td id=\"T_410c6198_4949_11ec_8244_a0a4c5a2658drow12_col1\" class=\"data row12 col1\" >0.2%</td>\n",
       "                        <td id=\"T_410c6198_4949_11ec_8244_a0a4c5a2658drow12_col2\" class=\"data row12 col2\" >15.5%</td>\n",
       "            </tr>\n",
       "            <tr>\n",
       "                        <th id=\"T_410c6198_4949_11ec_8244_a0a4c5a2658dlevel0_row13\" class=\"row_heading level0 row13\" >Italy</th>\n",
       "                        <td id=\"T_410c6198_4949_11ec_8244_a0a4c5a2658drow13_col0\" class=\"data row13 col0\" >82</td>\n",
       "                        <td id=\"T_410c6198_4949_11ec_8244_a0a4c5a2658drow13_col1\" class=\"data row13 col1\" >0.2%</td>\n",
       "                        <td id=\"T_410c6198_4949_11ec_8244_a0a4c5a2658drow13_col2\" class=\"data row13 col2\" >32.9%</td>\n",
       "            </tr>\n",
       "            <tr>\n",
       "                        <th id=\"T_410c6198_4949_11ec_8244_a0a4c5a2658dlevel0_row14\" class=\"row_heading level0 row14\" >Dominican-Republic</th>\n",
       "                        <td id=\"T_410c6198_4949_11ec_8244_a0a4c5a2658drow14_col0\" class=\"data row14 col0\" >81</td>\n",
       "                        <td id=\"T_410c6198_4949_11ec_8244_a0a4c5a2658drow14_col1\" class=\"data row14 col1\" >0.2%</td>\n",
       "                        <td id=\"T_410c6198_4949_11ec_8244_a0a4c5a2658drow14_col2\" class=\"data row14 col2\" >2.5%</td>\n",
       "            </tr>\n",
       "            <tr>\n",
       "                        <th id=\"T_410c6198_4949_11ec_8244_a0a4c5a2658dlevel0_row15\" class=\"row_heading level0 row15\" >Jamaica</th>\n",
       "                        <td id=\"T_410c6198_4949_11ec_8244_a0a4c5a2658drow15_col0\" class=\"data row15 col0\" >81</td>\n",
       "                        <td id=\"T_410c6198_4949_11ec_8244_a0a4c5a2658drow15_col1\" class=\"data row15 col1\" >0.2%</td>\n",
       "                        <td id=\"T_410c6198_4949_11ec_8244_a0a4c5a2658drow15_col2\" class=\"data row15 col2\" >16.0%</td>\n",
       "            </tr>\n",
       "            <tr>\n",
       "                        <th id=\"T_410c6198_4949_11ec_8244_a0a4c5a2658dlevel0_row16\" class=\"row_heading level0 row16\" >Japan</th>\n",
       "                        <td id=\"T_410c6198_4949_11ec_8244_a0a4c5a2658drow16_col0\" class=\"data row16 col0\" >74</td>\n",
       "                        <td id=\"T_410c6198_4949_11ec_8244_a0a4c5a2658drow16_col1\" class=\"data row16 col1\" >0.2%</td>\n",
       "                        <td id=\"T_410c6198_4949_11ec_8244_a0a4c5a2658drow16_col2\" class=\"data row16 col2\" >39.2%</td>\n",
       "            </tr>\n",
       "            <tr>\n",
       "                        <th id=\"T_410c6198_4949_11ec_8244_a0a4c5a2658dlevel0_row17\" class=\"row_heading level0 row17\" >Columbia</th>\n",
       "                        <td id=\"T_410c6198_4949_11ec_8244_a0a4c5a2658drow17_col0\" class=\"data row17 col0\" >65</td>\n",
       "                        <td id=\"T_410c6198_4949_11ec_8244_a0a4c5a2658drow17_col1\" class=\"data row17 col1\" >0.2%</td>\n",
       "                        <td id=\"T_410c6198_4949_11ec_8244_a0a4c5a2658drow17_col2\" class=\"data row17 col2\" >6.2%</td>\n",
       "            </tr>\n",
       "            <tr>\n",
       "                        <th id=\"T_410c6198_4949_11ec_8244_a0a4c5a2658dlevel0_row18\" class=\"row_heading level0 row18\" >Poland</th>\n",
       "                        <td id=\"T_410c6198_4949_11ec_8244_a0a4c5a2658drow18_col0\" class=\"data row18 col0\" >65</td>\n",
       "                        <td id=\"T_410c6198_4949_11ec_8244_a0a4c5a2658drow18_col1\" class=\"data row18 col1\" >0.2%</td>\n",
       "                        <td id=\"T_410c6198_4949_11ec_8244_a0a4c5a2658drow18_col2\" class=\"data row18 col2\" >18.5%</td>\n",
       "            </tr>\n",
       "            <tr>\n",
       "                        <th id=\"T_410c6198_4949_11ec_8244_a0a4c5a2658dlevel0_row19\" class=\"row_heading level0 row19\" >Vietnam</th>\n",
       "                        <td id=\"T_410c6198_4949_11ec_8244_a0a4c5a2658drow19_col0\" class=\"data row19 col0\" >63</td>\n",
       "                        <td id=\"T_410c6198_4949_11ec_8244_a0a4c5a2658drow19_col1\" class=\"data row19 col1\" >0.2%</td>\n",
       "                        <td id=\"T_410c6198_4949_11ec_8244_a0a4c5a2658drow19_col2\" class=\"data row19 col2\" >7.9%</td>\n",
       "            </tr>\n",
       "            <tr>\n",
       "                        <th id=\"T_410c6198_4949_11ec_8244_a0a4c5a2658dlevel0_row20\" class=\"row_heading level0 row20\" >Guatemala</th>\n",
       "                        <td id=\"T_410c6198_4949_11ec_8244_a0a4c5a2658drow20_col0\" class=\"data row20 col0\" >62</td>\n",
       "                        <td id=\"T_410c6198_4949_11ec_8244_a0a4c5a2658drow20_col1\" class=\"data row20 col1\" >0.2%</td>\n",
       "                        <td id=\"T_410c6198_4949_11ec_8244_a0a4c5a2658drow20_col2\" class=\"data row20 col2\" >3.2%</td>\n",
       "            </tr>\n",
       "            <tr>\n",
       "                        <th id=\"T_410c6198_4949_11ec_8244_a0a4c5a2658dlevel0_row21\" class=\"row_heading level0 row21\" >Haiti</th>\n",
       "                        <td id=\"T_410c6198_4949_11ec_8244_a0a4c5a2658drow21_col0\" class=\"data row21 col0\" >57</td>\n",
       "                        <td id=\"T_410c6198_4949_11ec_8244_a0a4c5a2658drow21_col1\" class=\"data row21 col1\" >0.2%</td>\n",
       "                        <td id=\"T_410c6198_4949_11ec_8244_a0a4c5a2658drow21_col2\" class=\"data row21 col2\" >12.3%</td>\n",
       "            </tr>\n",
       "            <tr>\n",
       "                        <th id=\"T_410c6198_4949_11ec_8244_a0a4c5a2658dlevel0_row22\" class=\"row_heading level0 row22\" >Portugal</th>\n",
       "                        <td id=\"T_410c6198_4949_11ec_8244_a0a4c5a2658drow22_col0\" class=\"data row22 col0\" >53</td>\n",
       "                        <td id=\"T_410c6198_4949_11ec_8244_a0a4c5a2658drow22_col1\" class=\"data row22 col1\" >0.1%</td>\n",
       "                        <td id=\"T_410c6198_4949_11ec_8244_a0a4c5a2658drow22_col2\" class=\"data row22 col2\" >20.8%</td>\n",
       "            </tr>\n",
       "            <tr>\n",
       "                        <th id=\"T_410c6198_4949_11ec_8244_a0a4c5a2658dlevel0_row23\" class=\"row_heading level0 row23\" >Taiwan</th>\n",
       "                        <td id=\"T_410c6198_4949_11ec_8244_a0a4c5a2658drow23_col0\" class=\"data row23 col0\" >47</td>\n",
       "                        <td id=\"T_410c6198_4949_11ec_8244_a0a4c5a2658drow23_col1\" class=\"data row23 col1\" >0.1%</td>\n",
       "                        <td id=\"T_410c6198_4949_11ec_8244_a0a4c5a2658drow23_col2\" class=\"data row23 col2\" >40.4%</td>\n",
       "            </tr>\n",
       "            <tr>\n",
       "                        <th id=\"T_410c6198_4949_11ec_8244_a0a4c5a2658dlevel0_row24\" class=\"row_heading level0 row24\" >Iran</th>\n",
       "                        <td id=\"T_410c6198_4949_11ec_8244_a0a4c5a2658drow24_col0\" class=\"data row24 col0\" >42</td>\n",
       "                        <td id=\"T_410c6198_4949_11ec_8244_a0a4c5a2658drow24_col1\" class=\"data row24 col1\" >0.1%</td>\n",
       "                        <td id=\"T_410c6198_4949_11ec_8244_a0a4c5a2658drow24_col2\" class=\"data row24 col2\" >47.6%</td>\n",
       "            </tr>\n",
       "            <tr>\n",
       "                        <th id=\"T_410c6198_4949_11ec_8244_a0a4c5a2658dlevel0_row25\" class=\"row_heading level0 row25\" >Peru</th>\n",
       "                        <td id=\"T_410c6198_4949_11ec_8244_a0a4c5a2658drow25_col0\" class=\"data row25 col0\" >36</td>\n",
       "                        <td id=\"T_410c6198_4949_11ec_8244_a0a4c5a2658drow25_col1\" class=\"data row25 col1\" >0.1%</td>\n",
       "                        <td id=\"T_410c6198_4949_11ec_8244_a0a4c5a2658drow25_col2\" class=\"data row25 col2\" >11.1%</td>\n",
       "            </tr>\n",
       "            <tr>\n",
       "                        <th id=\"T_410c6198_4949_11ec_8244_a0a4c5a2658dlevel0_row26\" class=\"row_heading level0 row26\" >Ecuador</th>\n",
       "                        <td id=\"T_410c6198_4949_11ec_8244_a0a4c5a2658drow26_col0\" class=\"data row26 col0\" >36</td>\n",
       "                        <td id=\"T_410c6198_4949_11ec_8244_a0a4c5a2658drow26_col1\" class=\"data row26 col1\" >0.1%</td>\n",
       "                        <td id=\"T_410c6198_4949_11ec_8244_a0a4c5a2658drow26_col2\" class=\"data row26 col2\" >16.7%</td>\n",
       "            </tr>\n",
       "            <tr>\n",
       "                        <th id=\"T_410c6198_4949_11ec_8244_a0a4c5a2658dlevel0_row27\" class=\"row_heading level0 row27\" >Greece</th>\n",
       "                        <td id=\"T_410c6198_4949_11ec_8244_a0a4c5a2658drow27_col0\" class=\"data row27 col0\" >34</td>\n",
       "                        <td id=\"T_410c6198_4949_11ec_8244_a0a4c5a2658drow27_col1\" class=\"data row27 col1\" >0.1%</td>\n",
       "                        <td id=\"T_410c6198_4949_11ec_8244_a0a4c5a2658drow27_col2\" class=\"data row27 col2\" >35.3%</td>\n",
       "            </tr>\n",
       "            <tr>\n",
       "                        <th id=\"T_410c6198_4949_11ec_8244_a0a4c5a2658dlevel0_row28\" class=\"row_heading level0 row28\" >Nicaragua</th>\n",
       "                        <td id=\"T_410c6198_4949_11ec_8244_a0a4c5a2658drow28_col0\" class=\"data row28 col0\" >34</td>\n",
       "                        <td id=\"T_410c6198_4949_11ec_8244_a0a4c5a2658drow28_col1\" class=\"data row28 col1\" >0.1%</td>\n",
       "                        <td id=\"T_410c6198_4949_11ec_8244_a0a4c5a2658drow28_col2\" class=\"data row28 col2\" >5.9%</td>\n",
       "            </tr>\n",
       "            <tr>\n",
       "                        <th id=\"T_410c6198_4949_11ec_8244_a0a4c5a2658dlevel0_row29\" class=\"row_heading level0 row29\" >Thailand</th>\n",
       "                        <td id=\"T_410c6198_4949_11ec_8244_a0a4c5a2658drow29_col0\" class=\"data row29 col0\" >28</td>\n",
       "                        <td id=\"T_410c6198_4949_11ec_8244_a0a4c5a2658drow29_col1\" class=\"data row29 col1\" >0.1%</td>\n",
       "                        <td id=\"T_410c6198_4949_11ec_8244_a0a4c5a2658drow29_col2\" class=\"data row29 col2\" >14.3%</td>\n",
       "            </tr>\n",
       "            <tr>\n",
       "                        <th id=\"T_410c6198_4949_11ec_8244_a0a4c5a2658dlevel0_row30\" class=\"row_heading level0 row30\" >Hong</th>\n",
       "                        <td id=\"T_410c6198_4949_11ec_8244_a0a4c5a2658drow30_col0\" class=\"data row30 col0\" >27</td>\n",
       "                        <td id=\"T_410c6198_4949_11ec_8244_a0a4c5a2658drow30_col1\" class=\"data row30 col1\" >0.1%</td>\n",
       "                        <td id=\"T_410c6198_4949_11ec_8244_a0a4c5a2658drow30_col2\" class=\"data row30 col2\" >29.6%</td>\n",
       "            </tr>\n",
       "            <tr>\n",
       "                        <th id=\"T_410c6198_4949_11ec_8244_a0a4c5a2658dlevel0_row31\" class=\"row_heading level0 row31\" >Ireland</th>\n",
       "                        <td id=\"T_410c6198_4949_11ec_8244_a0a4c5a2658drow31_col0\" class=\"data row31 col0\" >25</td>\n",
       "                        <td id=\"T_410c6198_4949_11ec_8244_a0a4c5a2658drow31_col1\" class=\"data row31 col1\" >0.1%</td>\n",
       "                        <td id=\"T_410c6198_4949_11ec_8244_a0a4c5a2658drow31_col2\" class=\"data row31 col2\" >24.0%</td>\n",
       "            </tr>\n",
       "            <tr>\n",
       "                        <th id=\"T_410c6198_4949_11ec_8244_a0a4c5a2658dlevel0_row32\" class=\"row_heading level0 row32\" >France</th>\n",
       "                        <td id=\"T_410c6198_4949_11ec_8244_a0a4c5a2658drow32_col0\" class=\"data row32 col0\" >25</td>\n",
       "                        <td id=\"T_410c6198_4949_11ec_8244_a0a4c5a2658drow32_col1\" class=\"data row32 col1\" >0.1%</td>\n",
       "                        <td id=\"T_410c6198_4949_11ec_8244_a0a4c5a2658drow32_col2\" class=\"data row32 col2\" >44.0%</td>\n",
       "            </tr>\n",
       "            <tr>\n",
       "                        <th id=\"T_410c6198_4949_11ec_8244_a0a4c5a2658dlevel0_row33\" class=\"row_heading level0 row33\" >Cambodia</th>\n",
       "                        <td id=\"T_410c6198_4949_11ec_8244_a0a4c5a2658drow33_col0\" class=\"data row33 col0\" >21</td>\n",
       "                        <td id=\"T_410c6198_4949_11ec_8244_a0a4c5a2658drow33_col1\" class=\"data row33 col1\" >0.1%</td>\n",
       "                        <td id=\"T_410c6198_4949_11ec_8244_a0a4c5a2658drow33_col2\" class=\"data row33 col2\" >33.3%</td>\n",
       "            </tr>\n",
       "            <tr>\n",
       "                        <th id=\"T_410c6198_4949_11ec_8244_a0a4c5a2658dlevel0_row34\" class=\"row_heading level0 row34\" >Yugoslavia</th>\n",
       "                        <td id=\"T_410c6198_4949_11ec_8244_a0a4c5a2658drow34_col0\" class=\"data row34 col0\" >19</td>\n",
       "                        <td id=\"T_410c6198_4949_11ec_8244_a0a4c5a2658drow34_col1\" class=\"data row34 col1\" >0.1%</td>\n",
       "                        <td id=\"T_410c6198_4949_11ec_8244_a0a4c5a2658drow34_col2\" class=\"data row34 col2\" >31.6%</td>\n",
       "            </tr>\n",
       "            <tr>\n",
       "                        <th id=\"T_410c6198_4949_11ec_8244_a0a4c5a2658dlevel0_row35\" class=\"row_heading level0 row35\" >Laos</th>\n",
       "                        <td id=\"T_410c6198_4949_11ec_8244_a0a4c5a2658drow35_col0\" class=\"data row35 col0\" >19</td>\n",
       "                        <td id=\"T_410c6198_4949_11ec_8244_a0a4c5a2658drow35_col1\" class=\"data row35 col1\" >0.1%</td>\n",
       "                        <td id=\"T_410c6198_4949_11ec_8244_a0a4c5a2658drow35_col2\" class=\"data row35 col2\" >10.5%</td>\n",
       "            </tr>\n",
       "            <tr>\n",
       "                        <th id=\"T_410c6198_4949_11ec_8244_a0a4c5a2658dlevel0_row36\" class=\"row_heading level0 row36\" >Trinadad&Tobago</th>\n",
       "                        <td id=\"T_410c6198_4949_11ec_8244_a0a4c5a2658drow36_col0\" class=\"data row36 col0\" >19</td>\n",
       "                        <td id=\"T_410c6198_4949_11ec_8244_a0a4c5a2658drow36_col1\" class=\"data row36 col1\" >0.1%</td>\n",
       "                        <td id=\"T_410c6198_4949_11ec_8244_a0a4c5a2658drow36_col2\" class=\"data row36 col2\" >0.0%</td>\n",
       "            </tr>\n",
       "            <tr>\n",
       "                        <th id=\"T_410c6198_4949_11ec_8244_a0a4c5a2658dlevel0_row37\" class=\"row_heading level0 row37\" >Outlying-US(Guam-USVI-etc)</th>\n",
       "                        <td id=\"T_410c6198_4949_11ec_8244_a0a4c5a2658drow37_col0\" class=\"data row37 col0\" >17</td>\n",
       "                        <td id=\"T_410c6198_4949_11ec_8244_a0a4c5a2658drow37_col1\" class=\"data row37 col1\" >0.0%</td>\n",
       "                        <td id=\"T_410c6198_4949_11ec_8244_a0a4c5a2658drow37_col2\" class=\"data row37 col2\" >5.9%</td>\n",
       "            </tr>\n",
       "            <tr>\n",
       "                        <th id=\"T_410c6198_4949_11ec_8244_a0a4c5a2658dlevel0_row38\" class=\"row_heading level0 row38\" >Hungary</th>\n",
       "                        <td id=\"T_410c6198_4949_11ec_8244_a0a4c5a2658drow38_col0\" class=\"data row38 col0\" >16</td>\n",
       "                        <td id=\"T_410c6198_4949_11ec_8244_a0a4c5a2658drow38_col1\" class=\"data row38 col1\" >0.0%</td>\n",
       "                        <td id=\"T_410c6198_4949_11ec_8244_a0a4c5a2658drow38_col2\" class=\"data row38 col2\" >31.2%</td>\n",
       "            </tr>\n",
       "            <tr>\n",
       "                        <th id=\"T_410c6198_4949_11ec_8244_a0a4c5a2658dlevel0_row39\" class=\"row_heading level0 row39\" >Scotland</th>\n",
       "                        <td id=\"T_410c6198_4949_11ec_8244_a0a4c5a2658drow39_col0\" class=\"data row39 col0\" >13</td>\n",
       "                        <td id=\"T_410c6198_4949_11ec_8244_a0a4c5a2658drow39_col1\" class=\"data row39 col1\" >0.0%</td>\n",
       "                        <td id=\"T_410c6198_4949_11ec_8244_a0a4c5a2658drow39_col2\" class=\"data row39 col2\" >15.4%</td>\n",
       "            </tr>\n",
       "            <tr>\n",
       "                        <th id=\"T_410c6198_4949_11ec_8244_a0a4c5a2658dlevel0_row40\" class=\"row_heading level0 row40\" >Honduras</th>\n",
       "                        <td id=\"T_410c6198_4949_11ec_8244_a0a4c5a2658drow40_col0\" class=\"data row40 col0\" >12</td>\n",
       "                        <td id=\"T_410c6198_4949_11ec_8244_a0a4c5a2658drow40_col1\" class=\"data row40 col1\" >0.0%</td>\n",
       "                        <td id=\"T_410c6198_4949_11ec_8244_a0a4c5a2658drow40_col2\" class=\"data row40 col2\" >8.3%</td>\n",
       "            </tr>\n",
       "    </tbody></table>"
      ],
      "text/plain": [
       "<pandas.io.formats.style.Styler at 0x232a8eff9c8>"
      ]
     },
     "execution_count": 73,
     "metadata": {},
     "output_type": "execute_result"
    }
   ],
   "source": [
    "explore_categorical_feature('native-country').style.format({\n",
    "        'Count': '{:,d}'.format, \n",
    "        'Share': '{:,.1%}'.format, \n",
    "        'Positive Rate': '{:,.1%}'.format})"
   ]
  },
  {
   "cell_type": "code",
   "execution_count": 74,
   "metadata": {},
   "outputs": [
    {
     "data": {
      "text/html": [
       "<style  type=\"text/css\" >\n",
       "    #T_4113fd46_4949_11ec_b355_a0a4c5a2658drow0_col0 {\n",
       "            background-color:  #023858;\n",
       "            color:  #f1f1f1;\n",
       "        }    #T_4113fd46_4949_11ec_b355_a0a4c5a2658drow0_col1 {\n",
       "            background-color:  #023858;\n",
       "            color:  #f1f1f1;\n",
       "        }    #T_4113fd46_4949_11ec_b355_a0a4c5a2658drow0_col2 {\n",
       "            background-color:  #fff7fb;\n",
       "            color:  #000000;\n",
       "        }    #T_4113fd46_4949_11ec_b355_a0a4c5a2658drow1_col0 {\n",
       "            background-color:  #023858;\n",
       "            color:  #f1f1f1;\n",
       "        }    #T_4113fd46_4949_11ec_b355_a0a4c5a2658drow1_col1 {\n",
       "            background-color:  #023858;\n",
       "            color:  #f1f1f1;\n",
       "        }    #T_4113fd46_4949_11ec_b355_a0a4c5a2658drow1_col2 {\n",
       "            background-color:  #fff7fb;\n",
       "            color:  #000000;\n",
       "        }    #T_4113fd46_4949_11ec_b355_a0a4c5a2658drow2_col0 {\n",
       "            background-color:  #fff7fb;\n",
       "            color:  #000000;\n",
       "        }    #T_4113fd46_4949_11ec_b355_a0a4c5a2658drow2_col1 {\n",
       "            background-color:  #fff7fb;\n",
       "            color:  #000000;\n",
       "        }    #T_4113fd46_4949_11ec_b355_a0a4c5a2658drow2_col2 {\n",
       "            background-color:  #023858;\n",
       "            color:  #f1f1f1;\n",
       "        }</style><table id=\"T_4113fd46_4949_11ec_b355_a0a4c5a2658d\" ><thead>    <tr>        <th class=\"blank level0\" ></th>        <th class=\"col_heading level0 col0\" >unknwon workclass</th>        <th class=\"col_heading level0 col1\" >unknwon occupation</th>        <th class=\"col_heading level0 col2\" >unknwon native-country</th>    </tr></thead><tbody>\n",
       "                <tr>\n",
       "                        <th id=\"T_4113fd46_4949_11ec_b355_a0a4c5a2658dlevel0_row0\" class=\"row_heading level0 row0\" >unknwon workclass</th>\n",
       "                        <td id=\"T_4113fd46_4949_11ec_b355_a0a4c5a2658drow0_col0\" class=\"data row0 col0\" >1</td>\n",
       "                        <td id=\"T_4113fd46_4949_11ec_b355_a0a4c5a2658drow0_col1\" class=\"data row0 col1\" >1</td>\n",
       "                        <td id=\"T_4113fd46_4949_11ec_b355_a0a4c5a2658drow0_col2\" class=\"data row0 col2\" >-0.00026</td>\n",
       "            </tr>\n",
       "            <tr>\n",
       "                        <th id=\"T_4113fd46_4949_11ec_b355_a0a4c5a2658dlevel0_row1\" class=\"row_heading level0 row1\" >unknwon occupation</th>\n",
       "                        <td id=\"T_4113fd46_4949_11ec_b355_a0a4c5a2658drow1_col0\" class=\"data row1 col0\" >1</td>\n",
       "                        <td id=\"T_4113fd46_4949_11ec_b355_a0a4c5a2658drow1_col1\" class=\"data row1 col1\" >1</td>\n",
       "                        <td id=\"T_4113fd46_4949_11ec_b355_a0a4c5a2658drow1_col2\" class=\"data row1 col2\" >-0.00038</td>\n",
       "            </tr>\n",
       "            <tr>\n",
       "                        <th id=\"T_4113fd46_4949_11ec_b355_a0a4c5a2658dlevel0_row2\" class=\"row_heading level0 row2\" >unknwon native-country</th>\n",
       "                        <td id=\"T_4113fd46_4949_11ec_b355_a0a4c5a2658drow2_col0\" class=\"data row2 col0\" >-0.00026</td>\n",
       "                        <td id=\"T_4113fd46_4949_11ec_b355_a0a4c5a2658drow2_col1\" class=\"data row2 col1\" >-0.00038</td>\n",
       "                        <td id=\"T_4113fd46_4949_11ec_b355_a0a4c5a2658drow2_col2\" class=\"data row2 col2\" >1</td>\n",
       "            </tr>\n",
       "    </tbody></table>"
      ],
      "text/plain": [
       "<pandas.io.formats.style.Styler at 0x232a76f5888>"
      ]
     },
     "execution_count": 74,
     "metadata": {},
     "output_type": "execute_result"
    }
   ],
   "source": [
    "# Check correlation between unknown values. This will inform how we treat missing values.\n",
    "df_train['unknwon workclass'] = df_train['workclass'] == '?'\n",
    "df_train['unknwon occupation'] = df_train['occupation'] == '?'\n",
    "df_train['unknwon native-country'] = df_train['native-country'] == '?'\n",
    "corr = df_train[['unknwon workclass', 'unknwon occupation', 'unknwon native-country']].corr()\n",
    "corr.style.background_gradient().set_precision(2)"
   ]
  },
  {
   "cell_type": "markdown",
   "metadata": {},
   "source": [
    "# Bias & Fairness in Machine Learning\n",
    "The data exploration shows that our target feature is correlated with features such as race, sex and age. If we use these features to develop the best possible model, MetLife would end up making business decisions to target potential customers based on race, sex and age. Is this legitimate?\n",
    "\n",
    "As ML algorithms drive more and more business decisions, issues of fariness and bias receive a lot of attentions. Here is [an article about well-know case](https://www.propublica.org/article/machine-bias-risk-assessments-in-criminal-sentencing) in which the use of a machine learning model to make decisions about releasing offenders from jail resulted in strong racial bias. Bias in ML models can result not only from a correlation between a demographic feature and a the target feature, but also from some subgroups having more training data than others. Imbalanced data can result in those subgroups having a higher error rate that others, as in [the linked story](https://medium.com/@Joy.Buolamwini/response-racial-and-gender-bias-in-amazon-rekognition-commercial-ai-system-for-analyzing-faces-a289222eeced).\n",
    "\n",
    "Best practices for dealing with these situations are still emerging - both industry-wide and here at MetLife. However, the general guideline is that it is our responsibility to look at these issues and bring them up. DnA is working to develop an ethics review from analytics projects, similar to the privacy review that we do. Until this is launched, you can follow these guidelines:\n",
    "\n",
    "* When working on a new analytics project, test for issues of bias and fairness due correlation of the target variable with sensitive features (gender, race, national identity, family/marital status, age) or due to some subgroups having insufficient data that results in high error rates. \n",
    "\n",
    "* If you suspect bias & fairness may be an issue in your project: 1) bring it up with your manager; and 2) click the \"Speak Up\" icon on your desktop and write brief message about the issue. The message will reach the Ethics group, and they will be in touch to help address the issue.  \n"
   ]
  },
  {
   "cell_type": "markdown",
   "metadata": {},
   "source": [
    "# Homework\n",
    "1. Keep exploring the dataset and see shat patterns you can find in the data.\n",
    "2. Add to the dataset at least three features you create based on the original features. You may use external data.  "
   ]
  },
  {
   "cell_type": "code",
   "execution_count": null,
   "metadata": {},
   "outputs": [],
   "source": []
  }
 ],
 "metadata": {
  "kernelspec": {
   "display_name": "Python 3 (ipykernel)",
   "language": "python",
   "name": "python3"
  },
  "language_info": {
   "codemirror_mode": {
    "name": "ipython",
    "version": 3
   },
   "file_extension": ".py",
   "mimetype": "text/x-python",
   "name": "python",
   "nbconvert_exporter": "python",
   "pygments_lexer": "ipython3",
   "version": "3.9.7"
  }
 },
 "nbformat": 4,
 "nbformat_minor": 2
}
