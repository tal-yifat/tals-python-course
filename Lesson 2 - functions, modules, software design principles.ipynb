{
 "cells": [
  {
   "cell_type": "markdown",
   "metadata": {},
   "source": [
    "# Python for Data & Analytics - Lesson 2# "
   ]
  },
  {
   "cell_type": "markdown",
   "metadata": {},
   "source": [
    "## Lesson 2 Homework Solution"
   ]
  },
  {
   "cell_type": "code",
   "execution_count": 1,
   "metadata": {},
   "outputs": [
    {
     "data": {
      "text/plain": [
       "[0, 0.3, 1, 1.5, 2, 3.465, 4, 6, 8, 9]"
      ]
     },
     "execution_count": 1,
     "metadata": {},
     "output_type": "execute_result"
    }
   ],
   "source": [
    "# Here is a simple (although not very efficient) way to sort a list. We go through a loop until \n",
    "# sorting is done, and with each iteration move the smallest item to the end of the sorted list.\n",
    "\n",
    "my_list = [2, 4, 0.3, 6, 0, 1, 3.465, 8, 1.5, 9]\n",
    "sorted_list = []\n",
    "\n",
    "all_sorted = False # A boolean indicating whether sorting is done\n",
    "\n",
    "while all_sorted == False:\n",
    "    min_value = float(\"inf\") # This represents infinity. You can use a very high value instead.   \n",
    "    min_val_index = None \n",
    "    \n",
    "    # Go through the list and find the minimal value\n",
    "    for i in range(len(my_list)):\n",
    "        if min_value > my_list[i]:\n",
    "            min_value = my_list[i]\n",
    "            min_val_index = i\n",
    "    \n",
    "    # Did we find a minimal value?\n",
    "    if min_value == float(\"inf\"):\n",
    "        all_sorted = True\n",
    "    else:\n",
    "        # Move minimal value from my_list to sorted_list\n",
    "        sorted_list.append(min_value)\n",
    "        del my_list[min_val_index]\n",
    "        \n",
    "sorted_list"
   ]
  },
  {
   "cell_type": "markdown",
   "metadata": {},
   "source": [
    "## More on Loops"
   ]
  },
  {
   "cell_type": "code",
   "execution_count": 2,
   "metadata": {},
   "outputs": [
    {
     "name": "stdout",
     "output_type": "stream",
     "text": [
      "1\n",
      "2\n",
      "3\n"
     ]
    }
   ],
   "source": [
    "# The break statement\n",
    "for num in [1, 2, 3, 4, 5]:\n",
    "    if num == 4:\n",
    "        break\n",
    "    print(num)"
   ]
  },
  {
   "cell_type": "code",
   "execution_count": 3,
   "metadata": {},
   "outputs": [
    {
     "name": "stdout",
     "output_type": "stream",
     "text": [
      "1\n",
      "2\n",
      "3\n",
      "5\n"
     ]
    }
   ],
   "source": [
    "# The continue statement\n",
    "for num in [1, 2, 3, 4, 5]:\n",
    "    if num == 4:\n",
    "        continue\n",
    "    print(num)"
   ]
  },
  {
   "cell_type": "markdown",
   "metadata": {
    "slideshow": {
     "slide_type": "fragment"
    }
   },
   "source": [
    "## Functions "
   ]
  },
  {
   "cell_type": "markdown",
   "metadata": {},
   "source": [
    "### Code Reuse\n",
    "Functions is a key way to reuse code. Follow the **DRY** principle - Don't Repeat Yourself! \n",
    "(The opposite principle is **WET** - Write Everything Twice, or We Enjoy Typing...) The advantages of reusing code:\n",
    "\n",
    "1. More efficient use of resources - you only write something once.\n",
    "2. Code is more readable and easier to maintain when it is broken down to meaningful unit.\n",
    "3. If something needs to be change (and in a real-life project this is bound to happen), you only need to change the code in one place.\n",
    "4. When you use a code that has been written carefully and tested, you save a lot of troubleshooting time."
   ]
  },
  {
   "cell_type": "code",
   "execution_count": 4,
   "metadata": {},
   "outputs": [
    {
     "name": "stdout",
     "output_type": "stream",
     "text": [
      "I am a fucntion's argument.\n"
     ]
    }
   ],
   "source": [
    "# Python built-in functions\n",
    "print(\"I am a fucntion's argument.\")"
   ]
  },
  {
   "cell_type": "code",
   "execution_count": 5,
   "metadata": {},
   "outputs": [
    {
     "data": {
      "text/plain": [
       "[0, 0.3, 1, 1.5, 2, 3.465, 4, 6, 8, 9]"
      ]
     },
     "execution_count": 5,
     "metadata": {},
     "output_type": "execute_result"
    }
   ],
   "source": [
    "# Another built-in function\n",
    "my_list = [2, 4, 0.3, 6, 0, 1, 3.465, 8, 1.5, 9]\n",
    "sorted(my_list)"
   ]
  },
  {
   "cell_type": "code",
   "execution_count": 34,
   "metadata": {},
   "outputs": [],
   "source": [
    "# Simple DYI function\n",
    "\n",
    "# This is the function's definition:\n",
    "def hello():\n",
    "    print('Hello!')"
   ]
  },
  {
   "cell_type": "code",
   "execution_count": 35,
   "metadata": {},
   "outputs": [
    {
     "name": "stdout",
     "output_type": "stream",
     "text": [
      "Hello!\n"
     ]
    }
   ],
   "source": [
    "# The function is only executed when it is called:\n",
    "hello()"
   ]
  },
  {
   "cell_type": "code",
   "execution_count": 36,
   "metadata": {},
   "outputs": [],
   "source": [
    "# Simple function with an argument\n",
    "def i_like(thing):\n",
    "    print('I like', thing + '!')"
   ]
  },
  {
   "cell_type": "code",
   "execution_count": 37,
   "metadata": {},
   "outputs": [
    {
     "name": "stdout",
     "output_type": "stream",
     "text": [
      "I like cherries!\n"
     ]
    }
   ],
   "source": [
    "i_like('cherries')"
   ]
  },
  {
   "cell_type": "code",
   "execution_count": 10,
   "metadata": {},
   "outputs": [
    {
     "ename": "TypeError",
     "evalue": "unsupported operand type(s) for +: 'float' and 'str'",
     "output_type": "error",
     "traceback": [
      "\u001b[1;31m---------------------------------------------------------------------------\u001b[0m",
      "\u001b[1;31mTypeError\u001b[0m                                 Traceback (most recent call last)",
      "\u001b[1;32m<ipython-input-10-f0114df9bef4>\u001b[0m in \u001b[0;36m<module>\u001b[1;34m\u001b[0m\n\u001b[0;32m      2\u001b[0m \u001b[1;33m\u001b[0m\u001b[0m\n\u001b[0;32m      3\u001b[0m \u001b[1;31m# What if we give a number as an argument?\u001b[0m\u001b[1;33m\u001b[0m\u001b[1;33m\u001b[0m\u001b[1;33m\u001b[0m\u001b[0m\n\u001b[1;32m----> 4\u001b[1;33m \u001b[0mi_like\u001b[0m\u001b[1;33m(\u001b[0m\u001b[1;36m3.7\u001b[0m\u001b[1;33m)\u001b[0m\u001b[1;33m\u001b[0m\u001b[1;33m\u001b[0m\u001b[0m\n\u001b[0m",
      "\u001b[1;32m<ipython-input-8-8078110bacbb>\u001b[0m in \u001b[0;36mi_like\u001b[1;34m(thing)\u001b[0m\n\u001b[0;32m      1\u001b[0m \u001b[1;31m# Simple function with an argument\u001b[0m\u001b[1;33m\u001b[0m\u001b[1;33m\u001b[0m\u001b[1;33m\u001b[0m\u001b[0m\n\u001b[0;32m      2\u001b[0m \u001b[1;32mdef\u001b[0m \u001b[0mi_like\u001b[0m\u001b[1;33m(\u001b[0m\u001b[0mthing\u001b[0m\u001b[1;33m)\u001b[0m\u001b[1;33m:\u001b[0m\u001b[1;33m\u001b[0m\u001b[1;33m\u001b[0m\u001b[0m\n\u001b[1;32m----> 3\u001b[1;33m     \u001b[0mprint\u001b[0m\u001b[1;33m(\u001b[0m\u001b[1;34m'I like'\u001b[0m\u001b[1;33m,\u001b[0m \u001b[0mthing\u001b[0m \u001b[1;33m+\u001b[0m \u001b[1;34m'!'\u001b[0m\u001b[1;33m)\u001b[0m\u001b[1;33m\u001b[0m\u001b[1;33m\u001b[0m\u001b[0m\n\u001b[0m",
      "\u001b[1;31mTypeError\u001b[0m: unsupported operand type(s) for +: 'float' and 'str'"
     ]
    }
   ],
   "source": [
    "# Python does not require to specify the datatype arguments in advance. This give extra reponsibility to the programmer.\n",
    "\n",
    "# What if we give a number as an argument?\n",
    "i_like(3.7)"
   ]
  },
  {
   "cell_type": "code",
   "execution_count": 11,
   "metadata": {},
   "outputs": [
    {
     "name": "stdout",
     "output_type": "stream",
     "text": [
      "I like 3.7!\n"
     ]
    }
   ],
   "source": [
    "# A way to solve this\n",
    "def i_like(thing):\n",
    "    print('I like', str(thing) + '!')\n",
    "    \n",
    "i_like(3.7)"
   ]
  },
  {
   "cell_type": "code",
   "execution_count": 12,
   "metadata": {},
   "outputs": [
    {
     "name": "stdout",
     "output_type": "stream",
     "text": [
      "I like cherries!\n"
     ]
    }
   ],
   "source": [
    "# Two arguments; default value\n",
    "def i_maybe_like(thing, like=True):\n",
    "    if like:\n",
    "        print('I like', thing + '!')\n",
    "    else:\n",
    "        print(\"I don't like\", thing + '!')\n",
    "        \n",
    "i_maybe_like('cherries')"
   ]
  },
  {
   "cell_type": "code",
   "execution_count": 14,
   "metadata": {},
   "outputs": [
    {
     "name": "stdout",
     "output_type": "stream",
     "text": [
      "I don't like bananas!\n"
     ]
    }
   ],
   "source": [
    "# Variable for argument\n",
    "another_thing = 'bananas'\n",
    "\n",
    "i_maybe_like(another_thing, False)"
   ]
  },
  {
   "cell_type": "code",
   "execution_count": null,
   "metadata": {},
   "outputs": [],
   "source": [
    "# Specifying argument names\n",
    "i_maybe_like(like=False, thing='marshmellow')"
   ]
  },
  {
   "cell_type": "code",
   "execution_count": 59,
   "metadata": {},
   "outputs": [
    {
     "data": {
      "text/plain": [
       "4"
      ]
     },
     "execution_count": 59,
     "metadata": {},
     "output_type": "execute_result"
    }
   ],
   "source": [
    "# This is modulo\n",
    "9 % 5"
   ]
  },
  {
   "cell_type": "code",
   "execution_count": 49,
   "metadata": {},
   "outputs": [
    {
     "data": {
      "text/plain": [
       "False"
      ]
     },
     "execution_count": 49,
     "metadata": {},
     "output_type": "execute_result"
    }
   ],
   "source": [
    "num = 5\n",
    "num % 2 == 0"
   ]
  },
  {
   "cell_type": "code",
   "execution_count": 52,
   "metadata": {},
   "outputs": [
    {
     "data": {
      "text/plain": [
       "False"
      ]
     },
     "execution_count": 52,
     "metadata": {},
     "output_type": "execute_result"
    }
   ],
   "source": [
    "# This is a return statement\n",
    "def is_even(num):\n",
    "    answer = num % 2 == 0\n",
    "    return answer\n",
    "\n",
    "is_even(3)"
   ]
  },
  {
   "cell_type": "code",
   "execution_count": 38,
   "metadata": {},
   "outputs": [],
   "source": [
    "# This is a return statement\n",
    "def is_even(num):\n",
    "    return num % 2 == 0"
   ]
  },
  {
   "cell_type": "code",
   "execution_count": 39,
   "metadata": {},
   "outputs": [
    {
     "name": "stdout",
     "output_type": "stream",
     "text": [
      "True\n"
     ]
    }
   ],
   "source": [
    "# You can assign the returned expression to a variable\n",
    "even = is_even(2)\n",
    "print(even)"
   ]
  },
  {
   "cell_type": "code",
   "execution_count": 40,
   "metadata": {},
   "outputs": [
    {
     "data": {
      "text/plain": [
       "False"
      ]
     },
     "execution_count": 40,
     "metadata": {},
     "output_type": "execute_result"
    }
   ],
   "source": [
    "# Jupyter evaluates the returned expression like any other expression\n",
    "is_even(3)"
   ]
  },
  {
   "cell_type": "code",
   "execution_count": 19,
   "metadata": {},
   "outputs": [
    {
     "data": {
      "text/plain": [
       "True"
      ]
     },
     "execution_count": 19,
     "metadata": {},
     "output_type": "execute_result"
    }
   ],
   "source": [
    "# A function can return more than one variable\n",
    "def return_two_nums():\n",
    "    return 1, 2\n",
    "\n",
    "first, second = return_two_nums()\n",
    "is_even(second)"
   ]
  },
  {
   "cell_type": "code",
   "execution_count": 53,
   "metadata": {},
   "outputs": [
    {
     "name": "stdout",
     "output_type": "stream",
     "text": [
      "I like apples!\n"
     ]
    }
   ],
   "source": [
    "# And you can send the returned expression as an argument to another function\n",
    "i_like(min('bananas', 'apples', 'cherries'))"
   ]
  },
  {
   "cell_type": "code",
   "execution_count": 21,
   "metadata": {},
   "outputs": [
    {
     "name": "stdout",
     "output_type": "stream",
     "text": [
      "I like empty variables!\n"
     ]
    }
   ],
   "source": [
    "# A return statement with nothing after it returns an empty variable: None\n",
    "def i_like(thing):\n",
    "    print('I like', thing + '!')\n",
    "    return\n",
    "    print(\"This won't be printed\")\n",
    "\n",
    "ret = i_like('empty variables')"
   ]
  },
  {
   "cell_type": "code",
   "execution_count": 22,
   "metadata": {},
   "outputs": [
    {
     "name": "stdout",
     "output_type": "stream",
     "text": [
      "None\n"
     ]
    }
   ],
   "source": [
    "print(ret)"
   ]
  },
  {
   "cell_type": "code",
   "execution_count": 60,
   "metadata": {},
   "outputs": [
    {
     "name": "stdout",
     "output_type": "stream",
     "text": [
      "empty variable\n"
     ]
    }
   ],
   "source": [
    "if ret is None:\n",
    "    print('empty variable')"
   ]
  },
  {
   "cell_type": "code",
   "execution_count": 24,
   "metadata": {},
   "outputs": [
    {
     "name": "stdout",
     "output_type": "stream",
     "text": [
      "6\n"
     ]
    }
   ],
   "source": [
    "x = 139\n",
    "y = 19\n",
    "\n",
    "# This is a comment. It helps explain readers of your code what you are doing.\n",
    "# CTRL + '/' is a useful shortcut for commenting/uncommenting in Jupyter\n",
    "print(x % y) # Find the remainder"
   ]
  },
  {
   "cell_type": "code",
   "execution_count": 55,
   "metadata": {},
   "outputs": [
    {
     "name": "stdout",
     "output_type": "stream",
     "text": [
      "18\n"
     ]
    }
   ],
   "source": [
    "# Docstrings \n",
    "def add_numbers(num1, num2):\n",
    "    # Add two numbers\n",
    "    '''\n",
    "    Print the sum of two numbers.\n",
    "    \n",
    "    Parameters\n",
    "    ----------\n",
    "    num1, num2 : {int, float} - numbers to sum.        \n",
    "    '''\n",
    "    print(num1 + num2)\n",
    "    \n",
    "add_numbers(5, 13)"
   ]
  },
  {
   "cell_type": "code",
   "execution_count": 56,
   "metadata": {},
   "outputs": [
    {
     "name": "stdout",
     "output_type": "stream",
     "text": [
      "Help on function add_numbers in module __main__:\n",
      "\n",
      "add_numbers(num1, num2)\n",
      "    Print the sum of two numbers.\n",
      "    \n",
      "    Parameters\n",
      "    ----------\n",
      "    num1, num2 : {int, float} - numbers to sum.\n",
      "\n"
     ]
    }
   ],
   "source": [
    "# Docstrings are automatically used with the help() function\n",
    "help(add_numbers)"
   ]
  },
  {
   "cell_type": "code",
   "execution_count": 27,
   "metadata": {},
   "outputs": [
    {
     "name": "stdout",
     "output_type": "stream",
     "text": [
      "Help on built-in function print in module builtins:\n",
      "\n",
      "print(...)\n",
      "    print(value, ..., sep=' ', end='\\n', file=sys.stdout, flush=False)\n",
      "    \n",
      "    Prints the values to a stream, or to sys.stdout by default.\n",
      "    Optional keyword arguments:\n",
      "    file:  a file-like object (stream); defaults to the current sys.stdout.\n",
      "    sep:   string inserted between values, default a space.\n",
      "    end:   string appended after the last value, default a newline.\n",
      "    flush: whether to forcibly flush the stream.\n",
      "\n"
     ]
    }
   ],
   "source": [
    "help(print)"
   ]
  },
  {
   "cell_type": "markdown",
   "metadata": {},
   "source": [
    "### Functions as Variables\n",
    "Functions in Python are regular objects. We haven't learned yet what an object is, but one implication is that we can assign functions into variables and send them as arguments to other functions. "
   ]
  },
  {
   "cell_type": "code",
   "execution_count": 57,
   "metadata": {},
   "outputs": [
    {
     "data": {
      "text/plain": [
       "35.0"
      ]
     },
     "execution_count": 57,
     "metadata": {},
     "output_type": "execute_result"
    }
   ],
   "source": [
    "def my_mean(nums):\n",
    "    return sum(nums)/len(nums)\n",
    "    \n",
    "my_nums = [6, 98, 1]\n",
    "my_mean(my_nums)"
   ]
  },
  {
   "cell_type": "code",
   "execution_count": 29,
   "metadata": {},
   "outputs": [
    {
     "data": {
      "text/plain": [
       "6"
      ]
     },
     "execution_count": 29,
     "metadata": {},
     "output_type": "execute_result"
    }
   ],
   "source": [
    "def my_median(nums):\n",
    "    nums = sorted(nums)\n",
    "    return nums[len(nums) // 2]\n",
    "\n",
    "my_median(my_nums)"
   ]
  },
  {
   "cell_type": "code",
   "execution_count": 30,
   "metadata": {},
   "outputs": [
    {
     "data": {
      "text/plain": [
       "35.0"
      ]
     },
     "execution_count": 30,
     "metadata": {},
     "output_type": "execute_result"
    }
   ],
   "source": [
    "# We can assign a function to a variable and/or send it as an argument to another function \n",
    "def compute_statistic(nums, my_statistic):\n",
    "    return my_statistic(nums)\n",
    "\n",
    "my_stat = my_mean\n",
    "compute_statistic(my_nums, my_stat)"
   ]
  },
  {
   "cell_type": "markdown",
   "metadata": {},
   "source": [
    "### Variables' Scope"
   ]
  },
  {
   "cell_type": "code",
   "execution_count": 58,
   "metadata": {},
   "outputs": [
    {
     "ename": "NameError",
     "evalue": "name 'my_var' is not defined",
     "output_type": "error",
     "traceback": [
      "\u001b[1;31m---------------------------------------------------------------------------\u001b[0m",
      "\u001b[1;31mNameError\u001b[0m                                 Traceback (most recent call last)",
      "\u001b[1;32m<ipython-input-58-0ed72e0543a6>\u001b[0m in \u001b[0;36m<module>\u001b[1;34m\u001b[0m\n\u001b[0;32m      6\u001b[0m \u001b[1;33m\u001b[0m\u001b[0m\n\u001b[0;32m      7\u001b[0m \u001b[0massignment\u001b[0m\u001b[1;33m(\u001b[0m\u001b[1;33m)\u001b[0m\u001b[1;33m\u001b[0m\u001b[1;33m\u001b[0m\u001b[0m\n\u001b[1;32m----> 8\u001b[1;33m \u001b[0mmy_var\u001b[0m\u001b[1;33m\u001b[0m\u001b[1;33m\u001b[0m\u001b[0m\n\u001b[0m",
      "\u001b[1;31mNameError\u001b[0m: name 'my_var' is not defined"
     ]
    }
   ],
   "source": [
    "# Arguments and variables that are defined within a function exist only while the function is being executed. \n",
    "# The part of a program in which a variable is accessible is called the \"scope\" of the variable.\n",
    "\n",
    "def assignment():\n",
    "    my_var = 0 \n",
    "\n",
    "assignment()\n",
    "my_var"
   ]
  },
  {
   "cell_type": "code",
   "execution_count": 32,
   "metadata": {},
   "outputs": [
    {
     "name": "stdout",
     "output_type": "stream",
     "text": [
      "3\n"
     ]
    }
   ],
   "source": [
    "# A variable that is defined outside of a function is a \"global\" variable - with \n",
    "# a scope that includes the entire notebook (or the entire script), including functions.\n",
    "s = 3\n",
    "\n",
    "def print_s():\n",
    "    print(s)\n",
    "    \n",
    "print_s()"
   ]
  },
  {
   "cell_type": "markdown",
   "metadata": {},
   "source": [
    "## Code Readability Guidelines\n",
    "* Code is read much more often than it is written.\n",
    "* Write your code with human readers in mind.\n",
    "* Use meaningful function and variable names.\n",
    "* Keep things simple.\n",
    "* Use a consistent style throughout a project."
   ]
  },
  {
   "cell_type": "markdown",
   "metadata": {},
   "source": [
    "## Homework: Write a List Sorting Function\n",
    "Writes a function that receives two arguments:\n",
    "\n",
    "1) *my_list* - a list of numbers to sort\n",
    "\n",
    "2) *ascending* - a boolean indicating whether the sort order should be ascending or descending\n",
    "\n",
    "The function should return a sorted list.\n",
    "\n",
    "**Constraint:** Any code inside a loop should be contained in one or more functions."
   ]
  },
  {
   "cell_type": "code",
   "execution_count": null,
   "metadata": {},
   "outputs": [],
   "source": [
    "# Example of applying constraint:\n",
    "\n",
    "For i in range(len(my_list)):\n",
    "    min = find_min_num(my_list)\n",
    "    my_list, sorted_list = move_min_num(my_list, sorted_list) "
   ]
  },
  {
   "cell_type": "markdown",
   "metadata": {},
   "source": [
    "## Optional Quizzes and Short Programming Challenges\n",
    "* [Quizzes](https://www.programiz.com/python-programming/quiz) - check out the *Python Introduction Quiz*, *Python Native Data Types Quiz*, and *Python Functions Quiz*. They may include things we haven't covered. \n",
    "* [Short Python challenges 1](https://www.hackerrank.com/domains/python)\n",
    "* [Short Python challenges 2](https://edabit.com/challenges/python3)"
   ]
  },
  {
   "cell_type": "code",
   "execution_count": null,
   "metadata": {},
   "outputs": [],
   "source": []
  },
  {
   "cell_type": "code",
   "execution_count": null,
   "metadata": {},
   "outputs": [],
   "source": []
  }
 ],
 "metadata": {
  "kernelspec": {
   "display_name": "Python 3",
   "language": "python",
   "name": "python3"
  },
  "language_info": {
   "codemirror_mode": {
    "name": "ipython",
    "version": 3
   },
   "file_extension": ".py",
   "mimetype": "text/x-python",
   "name": "python",
   "nbconvert_exporter": "python",
   "pygments_lexer": "ipython3",
   "version": "3.7.10"
  }
 },
 "nbformat": 4,
 "nbformat_minor": 2
}
