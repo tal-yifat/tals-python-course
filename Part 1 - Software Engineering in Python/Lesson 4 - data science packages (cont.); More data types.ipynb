{
 "cells": [
  {
   "cell_type": "markdown",
   "metadata": {},
   "source": [
    "# Python for Data & Analytics - Lesson 4 \n",
    "## Lesson 3 Homework Solution"
   ]
  },
  {
   "cell_type": "code",
   "execution_count": 22,
   "metadata": {},
   "outputs": [
    {
     "name": "stdout",
     "output_type": "stream",
     "text": [
      "[3, 7, 2, 6, 4, 5, 8, 1]\n",
      "[[3, 7, 2, 6]]\n",
      "[[4, 5, 8, 1]]\n"
     ]
    },
    {
     "data": {
      "text/plain": [
       "[[3, 7, 2, 6], [4, 5, 8, 1]]"
      ]
     },
     "execution_count": 22,
     "metadata": {},
     "output_type": "execute_result"
    }
   ],
   "source": [
    "n_players = 2\n",
    "n_rounds = 4\n",
    "all_cards = [i + 1 for i in range(n_players * n_rounds)]\n",
    "random.shuffle(all_cards)\n",
    "[all_cards[player * n_rounds : (player + 1) * n_rounds] for player in range(n_players)]\n",
    "\n",
    "print(all_cards)\n",
    "\n",
    "dealt_cards = []\n",
    "for player in range(n_players):\n",
    "    dealt_cards += [all_cards[player * n_rounds : (player + 1) * n_rounds]]\n",
    "\n",
    "dealt_cards"
   ]
  },
  {
   "cell_type": "code",
   "execution_count": 24,
   "metadata": {},
   "outputs": [
    {
     "data": {
      "text/plain": [
       "[4, 5, 8, 1]"
      ]
     },
     "execution_count": 24,
     "metadata": {},
     "output_type": "execute_result"
    }
   ],
   "source": [
    "all_cards[4:8]"
   ]
  },
  {
   "cell_type": "code",
   "execution_count": 1,
   "metadata": {},
   "outputs": [
    {
     "name": "stdout",
     "output_type": "stream",
     "text": [
      "The Dealt Cards: \n",
      "\n",
      "Player 1 : [6, 1, 8, 3]\n",
      "Player 2 : [7, 5, 4, 2]\n"
     ]
    },
    {
     "data": {
      "text/plain": [
       "[[6, 1, 8, 3], [7, 5, 4, 2]]"
      ]
     },
     "execution_count": 1,
     "metadata": {},
     "output_type": "execute_result"
    }
   ],
   "source": [
    "import random\n",
    "\n",
    "def deal_cards(n_players, n_rounds):\n",
    "    # Deal n_rounds unique random integers to each player.\n",
    "    all_cards = [i + 1 for i in range(n_players * n_rounds)] # This method of initializing a list is called 'list \n",
    "                                                             # comprehension'. We will learn about it later today.\n",
    "    random.shuffle(all_cards)\n",
    "    dealt_cards = [all_cards[player * n_rounds : (player + 1) * n_rounds] \\\n",
    "                     for player in range(n_players)] # This is list comprehension as well.\n",
    "    print('The Dealt Cards: \\n')\n",
    "    for i in range(n_players): \n",
    "        print('Player', i + 1, ':', dealt_cards[i])\n",
    "\n",
    "    return dealt_cards\n",
    "\n",
    "deal_cards(2, 4)"
   ]
  },
  {
   "cell_type": "code",
   "execution_count": 25,
   "metadata": {},
   "outputs": [
    {
     "data": {
      "text/plain": [
       "[0, 0]"
      ]
     },
     "execution_count": 25,
     "metadata": {},
     "output_type": "execute_result"
    }
   ],
   "source": [
    "points = [0] * n_players\n",
    "# print()\n",
    "for i in range(n_rounds):\n",
    "    round_cards = [] \n",
    "    # Populate a list with the cards in this round.\n",
    "    for j in range(n_players):\n",
    "        round_cards += [dealt_cards[j][i]]\n",
    "    round_winner = round_cards.index(max(round_cards)) + 1 # Find the number of the round's winner\n",
    "    points[round_winner - 1] += 1\n",
    "points"
   ]
  },
  {
   "cell_type": "code",
   "execution_count": 28,
   "metadata": {},
   "outputs": [
    {
     "data": {
      "text/plain": [
       "6"
      ]
     },
     "execution_count": 28,
     "metadata": {},
     "output_type": "execute_result"
    }
   ],
   "source": [
    "# max(all_cards)\n",
    "all_cards.index(max(all_cards))"
   ]
  },
  {
   "cell_type": "code",
   "execution_count": 2,
   "metadata": {},
   "outputs": [
    {
     "name": "stdout",
     "output_type": "stream",
     "text": [
      "\n",
      "Round 1 : [6, 7] - the winner is player 2\n",
      "Round 2 : [1, 5] - the winner is player 2\n",
      "Round 3 : [8, 4] - the winner is player 1\n",
      "Round 4 : [3, 2] - the winner is player 1\n",
      "\n",
      "Final score: [2, 2]\n"
     ]
    }
   ],
   "source": [
    "def play_rounds(n_players, n_rounds, dealt_cards):\n",
    "    # Play each round and find out the winner.\n",
    "    points = [0] * n_players\n",
    "    print()\n",
    "    for i in range(n_rounds):\n",
    "        round_cards = [] \n",
    "        # Populate a list with the cards in this round.\n",
    "        for j in range(n_players):\n",
    "            round_cards += [dealt_cards[j][i]]\n",
    "        round_winner = round_cards.index(max(round_cards)) + 1 # Find the number of the round's winner\n",
    "        points[round_winner - 1] += 1\n",
    "        print('Round', i + 1, ':', round_cards, '- the winner is player', round_winner)\n",
    "\n",
    "    print ('\\nFinal score:', points)\n",
    "    \n",
    "play_rounds(2, 4, [[6, 1, 8, 3], [7, 5, 4, 2]])"
   ]
  },
  {
   "cell_type": "code",
   "execution_count": 3,
   "metadata": {},
   "outputs": [],
   "source": [
    "def play_card_game(n_players, n_rounds):\n",
    "    dealt_cards = deal_cards(n_players, n_rounds) \n",
    "    play_rounds(n_players, n_rounds, dealt_cards)"
   ]
  },
  {
   "cell_type": "code",
   "execution_count": 4,
   "metadata": {
    "scrolled": true
   },
   "outputs": [
    {
     "name": "stdout",
     "output_type": "stream",
     "text": [
      "The Dealt Cards: \n",
      "\n",
      "Player 1 : [2, 9, 18, 15, 17, 16, 24, 21]\n",
      "Player 2 : [14, 22, 11, 23, 3, 19, 4, 1]\n",
      "Player 3 : [6, 13, 7, 20, 8, 12, 5, 10]\n",
      "\n",
      "Round 1 : [2, 14, 6] - the winner is player 2\n",
      "Round 2 : [9, 22, 13] - the winner is player 2\n",
      "Round 3 : [18, 11, 7] - the winner is player 1\n",
      "Round 4 : [15, 23, 20] - the winner is player 2\n",
      "Round 5 : [17, 3, 8] - the winner is player 1\n",
      "Round 6 : [16, 19, 12] - the winner is player 2\n",
      "Round 7 : [24, 4, 5] - the winner is player 1\n",
      "Round 8 : [21, 1, 10] - the winner is player 1\n",
      "\n",
      "Final score: [4, 4, 0]\n"
     ]
    }
   ],
   "source": [
    "play_card_game(3, 8)"
   ]
  },
  {
   "cell_type": "markdown",
   "metadata": {},
   "source": [
    "## More on Data Types\n",
    "### List Comprehensions\n",
    "The basic syntax: [expression **for** item **in** list **if** condition]"
   ]
  },
  {
   "cell_type": "code",
   "execution_count": 1,
   "metadata": {},
   "outputs": [
    {
     "data": {
      "text/plain": [
       "[1,\n",
       " 2,\n",
       " 3,\n",
       " 4,\n",
       " 5,\n",
       " 6,\n",
       " 7,\n",
       " 8,\n",
       " 9,\n",
       " 10,\n",
       " 11,\n",
       " 12,\n",
       " 13,\n",
       " 14,\n",
       " 15,\n",
       " 16,\n",
       " 17,\n",
       " 18,\n",
       " 19,\n",
       " 20,\n",
       " 21,\n",
       " 22,\n",
       " 23,\n",
       " 24]"
      ]
     },
     "execution_count": 1,
     "metadata": {},
     "output_type": "execute_result"
    }
   ],
   "source": [
    "# Here's a way to create a list of all cards without list comprehensions\n",
    "n_players = 3\n",
    "n_rounds = 8\n",
    "all_cards = []\n",
    "i = 0\n",
    "for i in range(n_players * n_rounds):\n",
    "    all_cards.append(i + 1)\n",
    "all_cards"
   ]
  },
  {
   "cell_type": "code",
   "execution_count": 2,
   "metadata": {
    "scrolled": true
   },
   "outputs": [
    {
     "data": {
      "text/plain": [
       "[1,\n",
       " 2,\n",
       " 3,\n",
       " 4,\n",
       " 5,\n",
       " 6,\n",
       " 7,\n",
       " 8,\n",
       " 9,\n",
       " 10,\n",
       " 11,\n",
       " 12,\n",
       " 13,\n",
       " 14,\n",
       " 15,\n",
       " 16,\n",
       " 17,\n",
       " 18,\n",
       " 19,\n",
       " 20,\n",
       " 21,\n",
       " 22,\n",
       " 23,\n",
       " 24]"
      ]
     },
     "execution_count": 2,
     "metadata": {},
     "output_type": "execute_result"
    }
   ],
   "source": [
    "# Here is the same thing using list comprehension - much more concise and elegant!\n",
    "[i + 1 for i in range(n_players * n_rounds)] "
   ]
  },
  {
   "cell_type": "code",
   "execution_count": 5,
   "metadata": {},
   "outputs": [
    {
     "data": {
      "text/plain": [
       "[5, 10, 15, 20]"
      ]
     },
     "execution_count": 5,
     "metadata": {},
     "output_type": "execute_result"
    }
   ],
   "source": [
    "# And we can add a condition that the sum of digits equals 5\n",
    "[i + 1 for i in range(n_players * n_rounds) if (i + 1) % 5 == 0] "
   ]
  },
  {
   "cell_type": "code",
   "execution_count": 6,
   "metadata": {},
   "outputs": [
    {
     "data": {
      "text/plain": [
       "[[1, 2, 3, 4], [2, 4, 6, 8], [3, 6, 9, 12]]"
      ]
     },
     "execution_count": 6,
     "metadata": {},
     "output_type": "execute_result"
    }
   ],
   "source": [
    "# Now check out this way to build a list of lists using nested loops\n",
    "products = [[], [], []]\n",
    "for i in range(1, 4):\n",
    "    for j in range(1, 5):\n",
    "        products[i-1].append(i * j)\n",
    "        \n",
    "products"
   ]
  },
  {
   "cell_type": "code",
   "execution_count": 7,
   "metadata": {},
   "outputs": [
    {
     "data": {
      "text/plain": [
       "[[1, 2, 3, 4], [2, 4, 6, 8], [3, 6, 9, 12]]"
      ]
     },
     "execution_count": 7,
     "metadata": {},
     "output_type": "execute_result"
    }
   ],
   "source": [
    "# And now with list comprehension\n",
    "[[i * j for j in range (1, 5)] for i in range(1, 4)]"
   ]
  },
  {
   "cell_type": "markdown",
   "metadata": {},
   "source": [
    "### Dictionaries\n",
    "Dictionary is an unordered collection of key:value pairs. "
   ]
  },
  {
   "cell_type": "code",
   "execution_count": 8,
   "metadata": {},
   "outputs": [
    {
     "data": {
      "text/plain": [
       "{'Claim ID': 213,\n",
       " 'Customer ID': 31892,\n",
       " 'First Name': 'Armando',\n",
       " 'Last Name': 'Perez',\n",
       " 'Claim Approved': None}"
      ]
     },
     "execution_count": 8,
     "metadata": {},
     "output_type": "execute_result"
    }
   ],
   "source": [
    "# Here's how we define a dictionary\n",
    "claim_dict = {'Claim ID':213, 'Customer ID':31892, 'First Name':'Armando', 'Last Name':'Perez',\n",
    "              'Claim Approved':None}\n",
    "claim_dict"
   ]
  },
  {
   "cell_type": "code",
   "execution_count": 9,
   "metadata": {
    "scrolled": false
   },
   "outputs": [
    {
     "data": {
      "text/plain": [
       "213"
      ]
     },
     "execution_count": 9,
     "metadata": {},
     "output_type": "execute_result"
    }
   ],
   "source": [
    "# Refer to a dictionary item\n",
    "claim_dict['Claim ID']"
   ]
  },
  {
   "cell_type": "code",
   "execution_count": 10,
   "metadata": {},
   "outputs": [
    {
     "ename": "KeyError",
     "evalue": "0",
     "output_type": "error",
     "traceback": [
      "\u001b[1;31m---------------------------------------------------------------------------\u001b[0m",
      "\u001b[1;31mKeyError\u001b[0m                                  Traceback (most recent call last)",
      "\u001b[1;32m<ipython-input-10-c5e14471939e>\u001b[0m in \u001b[0;36m<module>\u001b[1;34m\u001b[0m\n\u001b[0;32m      1\u001b[0m \u001b[1;31m# Dictionaried are unordered so we cannot refer to them by index\u001b[0m\u001b[1;33m\u001b[0m\u001b[1;33m\u001b[0m\u001b[1;33m\u001b[0m\u001b[0m\n\u001b[1;32m----> 2\u001b[1;33m \u001b[0mclaim_dict\u001b[0m\u001b[1;33m[\u001b[0m\u001b[1;36m0\u001b[0m\u001b[1;33m]\u001b[0m\u001b[1;33m\u001b[0m\u001b[1;33m\u001b[0m\u001b[0m\n\u001b[0m",
      "\u001b[1;31mKeyError\u001b[0m: 0"
     ]
    }
   ],
   "source": [
    "# Dictionaried are unordered so we cannot refer to them by index\n",
    "claim_dict[0]"
   ]
  },
  {
   "cell_type": "code",
   "execution_count": 11,
   "metadata": {},
   "outputs": [
    {
     "data": {
      "text/plain": [
       "{'Claim ID': 213,\n",
       " 'Customer ID': 31892,\n",
       " 'First Name': 'Armando',\n",
       " 'Last Name': 'Perez',\n",
       " 'Claim Approved': True}"
      ]
     },
     "execution_count": 11,
     "metadata": {},
     "output_type": "execute_result"
    }
   ],
   "source": [
    "# Change an item\n",
    "claim_dict['Claim Approved'] = True\n",
    "claim_dict"
   ]
  },
  {
   "cell_type": "code",
   "execution_count": 14,
   "metadata": {},
   "outputs": [],
   "source": [
    "# Add an item\n",
    "from datetime import date\n",
    "claim_dict['Date'] = date(2019, 7, 27)"
   ]
  },
  {
   "cell_type": "code",
   "execution_count": 15,
   "metadata": {},
   "outputs": [
    {
     "data": {
      "text/plain": [
       "datetime.date(2019, 7, 27)"
      ]
     },
     "execution_count": 15,
     "metadata": {},
     "output_type": "execute_result"
    }
   ],
   "source": [
    "claim_dict['Date']"
   ]
  },
  {
   "cell_type": "code",
   "execution_count": 16,
   "metadata": {},
   "outputs": [],
   "source": [
    "# Delete an item\n",
    "del claim_dict['Date']"
   ]
  },
  {
   "cell_type": "code",
   "execution_count": 17,
   "metadata": {},
   "outputs": [
    {
     "data": {
      "text/plain": [
       "{'Claim ID': 213,\n",
       " 'Customer ID': 31892,\n",
       " 'First Name': 'Armando',\n",
       " 'Last Name': 'Perez',\n",
       " 'Claim Approved': True}"
      ]
     },
     "execution_count": 17,
     "metadata": {},
     "output_type": "execute_result"
    }
   ],
   "source": [
    "claim_dict"
   ]
  },
  {
   "cell_type": "code",
   "execution_count": 18,
   "metadata": {},
   "outputs": [
    {
     "name": "stdout",
     "output_type": "stream",
     "text": [
      "Claim ID = 213\n",
      "Customer ID = 31892\n",
      "First Name = Armando\n",
      "Last Name = Perez\n",
      "Claim Approved = True\n"
     ]
    }
   ],
   "source": [
    "# We can iterate through keys in a dictionary\n",
    "for key in claim_dict:\n",
    "    print (key, '=', claim_dict[key])"
   ]
  },
  {
   "cell_type": "code",
   "execution_count": 19,
   "metadata": {},
   "outputs": [
    {
     "data": {
      "text/plain": [
       "[{'Claim ID': 213,\n",
       "  'Customer ID': 31892,\n",
       "  'First Name': 'Armando',\n",
       "  'Last Name': 'Perez',\n",
       "  'Claim Approved': True},\n",
       " {'Claim ID': 216,\n",
       "  'Customer ID': 19811,\n",
       "  'First Name': 'Lakshmi',\n",
       "  'Last Name': 'Patel',\n",
       "  'Claim Approved': True}]"
      ]
     },
     "execution_count": 19,
     "metadata": {},
     "output_type": "execute_result"
    }
   ],
   "source": [
    "# We can create a list of dictioraries\n",
    "claims = [claim_dict]\n",
    "claims.append({'Claim ID':216, 'Customer ID':19811, 'First Name':'Lakshmi', 'Last Name':'Patel',\n",
    "              'Claim Approved':True})\n",
    "claims"
   ]
  },
  {
   "cell_type": "code",
   "execution_count": 21,
   "metadata": {},
   "outputs": [
    {
     "data": {
      "text/plain": [
       "{'Customer ID': 31892,\n",
       " 'First Name': 'Armando',\n",
       " 'Last Name': 'Perez',\n",
       " 'Claim Approved': True}"
      ]
     },
     "execution_count": 21,
     "metadata": {},
     "output_type": "execute_result"
    }
   ],
   "source": [
    "# But if we intend to serch for claims by ID, it would be more convenient and efficient to\n",
    "# define a dictionary of dictionaries\n",
    "claims = {213: {'Customer ID': 31892, 'First Name': 'Armando', 'Last Name': 'Perez', \n",
    "             'Claim Approved': True},\n",
    "          216: {'Customer ID': 19811, 'First Name': 'Lakshmi', 'Last Name': 'Patel', \n",
    "             'Claim Approved': True}}\n",
    "\n",
    "claims[213]"
   ]
  },
  {
   "cell_type": "code",
   "execution_count": 22,
   "metadata": {},
   "outputs": [
    {
     "data": {
      "text/plain": [
       "'Perez'"
      ]
     },
     "execution_count": 22,
     "metadata": {},
     "output_type": "execute_result"
    }
   ],
   "source": [
    "claims[213]['Last Name']"
   ]
  },
  {
   "cell_type": "code",
   "execution_count": 28,
   "metadata": {},
   "outputs": [
    {
     "data": {
      "text/plain": [
       "[213, 216]"
      ]
     },
     "execution_count": 28,
     "metadata": {},
     "output_type": "execute_result"
    }
   ],
   "source": [
    "# Since dictionaries are unordered, the sort function returns a sorted *list* of keys\n",
    "sorted(claims)"
   ]
  },
  {
   "cell_type": "markdown",
   "metadata": {},
   "source": [
    "### Tuples\n",
    "Tuple are immutable lists. Immutable means they cannot be changed once defined. They group objects in a single data structure and can be used for records."
   ]
  },
  {
   "cell_type": "code",
   "execution_count": 23,
   "metadata": {},
   "outputs": [
    {
     "data": {
      "text/plain": [
       "(19811, 'Lakshmi', 'Patel', True)"
      ]
     },
     "execution_count": 23,
     "metadata": {},
     "output_type": "execute_result"
    }
   ],
   "source": [
    "# Creating a tuple\n",
    "claim_213 = (31892, 'Armando', 'Perez', True) \n",
    "claim_216 = 19811, 'Lakshmi', 'Patel', True # The parentheses are optional\n",
    "claim_216"
   ]
  },
  {
   "cell_type": "code",
   "execution_count": 25,
   "metadata": {},
   "outputs": [
    {
     "data": {
      "text/plain": [
       "'Perez'"
      ]
     },
     "execution_count": 25,
     "metadata": {},
     "output_type": "execute_result"
    }
   ],
   "source": [
    "# Get last name\n",
    "claim_213[2]"
   ]
  },
  {
   "cell_type": "code",
   "execution_count": 26,
   "metadata": {},
   "outputs": [
    {
     "ename": "TypeError",
     "evalue": "'tuple' object does not support item assignment",
     "output_type": "error",
     "traceback": [
      "\u001b[1;31m---------------------------------------------------------------------------\u001b[0m",
      "\u001b[1;31mTypeError\u001b[0m                                 Traceback (most recent call last)",
      "\u001b[1;32m<ipython-input-26-01075080d9bd>\u001b[0m in \u001b[0;36m<module>\u001b[1;34m\u001b[0m\n\u001b[0;32m      1\u001b[0m \u001b[1;31m#Tuples are immutable\u001b[0m\u001b[1;33m\u001b[0m\u001b[1;33m\u001b[0m\u001b[1;33m\u001b[0m\u001b[0m\n\u001b[1;32m----> 2\u001b[1;33m \u001b[0mclaim_213\u001b[0m\u001b[1;33m[\u001b[0m\u001b[1;36m2\u001b[0m\u001b[1;33m]\u001b[0m \u001b[1;33m=\u001b[0m \u001b[1;34m'Patel'\u001b[0m\u001b[1;33m\u001b[0m\u001b[1;33m\u001b[0m\u001b[0m\n\u001b[0m",
      "\u001b[1;31mTypeError\u001b[0m: 'tuple' object does not support item assignment"
     ]
    }
   ],
   "source": [
    "#Tuples are immutable\n",
    "claim_213[2] = 'Patel'"
   ]
  },
  {
   "cell_type": "code",
   "execution_count": 27,
   "metadata": {},
   "outputs": [],
   "source": [
    "# No protection against missing/extra field or a wrong order\n",
    "claim_999 = ('Tyron', 21657, 'Daniels', True, 19.37) "
   ]
  },
  {
   "cell_type": "code",
   "execution_count": 34,
   "metadata": {},
   "outputs": [
    {
     "name": "stdout",
     "output_type": "stream",
     "text": [
      "Armando Perez\n"
     ]
    }
   ],
   "source": [
    "# Tuple unpacking\n",
    "cust_id, f_name, l_name, claim_approved = claim_213\n",
    "print(f_name, l_name)"
   ]
  },
  {
   "cell_type": "code",
   "execution_count": 35,
   "metadata": {},
   "outputs": [
    {
     "data": {
      "text/plain": [
       "('Perez', 'Armando')"
      ]
     },
     "execution_count": 35,
     "metadata": {},
     "output_type": "execute_result"
    }
   ],
   "source": [
    "temp = f_name\n",
    "f_name = l_name\n",
    "l_name = temp\n",
    "\n",
    "f_name, l_name"
   ]
  },
  {
   "cell_type": "code",
   "execution_count": 36,
   "metadata": {},
   "outputs": [
    {
     "name": "stdout",
     "output_type": "stream",
     "text": [
      "Armando Perez\n"
     ]
    }
   ],
   "source": [
    "# Tuples allow for elegant swapping of variable values without using a temporary variable\n",
    "f_name, l_name = l_name, f_name\n",
    "print(f_name, l_name)"
   ]
  },
  {
   "cell_type": "code",
   "execution_count": 37,
   "metadata": {},
   "outputs": [
    {
     "data": {
      "text/plain": [
       "(1, 2)"
      ]
     },
     "execution_count": 37,
     "metadata": {},
     "output_type": "execute_result"
    }
   ],
   "source": [
    "# Multiple return values are returned as a tuple and can be unpacked into separate variables.\n",
    "def my_func():\n",
    "    return 1, 2\n",
    "\n",
    "my_func()"
   ]
  },
  {
   "cell_type": "markdown",
   "metadata": {},
   "source": [
    "### Strings"
   ]
  },
  {
   "cell_type": "code",
   "execution_count": 40,
   "metadata": {},
   "outputs": [
    {
     "data": {
      "text/plain": [
       "True"
      ]
     },
     "execution_count": 40,
     "metadata": {},
     "output_type": "execute_result"
    }
   ],
   "source": [
    "'Hello' == \"Hello\""
   ]
  },
  {
   "cell_type": "code",
   "execution_count": 41,
   "metadata": {},
   "outputs": [
    {
     "data": {
      "text/plain": [
       "'This is \\nhow you can define \\na multiline string'"
      ]
     },
     "execution_count": 41,
     "metadata": {},
     "output_type": "execute_result"
    }
   ],
   "source": [
    "'''This is \n",
    "how you can define \n",
    "a multiline string'''"
   ]
  },
  {
   "cell_type": "code",
   "execution_count": 44,
   "metadata": {},
   "outputs": [
    {
     "name": "stdout",
     "output_type": "stream",
     "text": [
      "a line\n",
      "another line\n"
     ]
    }
   ],
   "source": [
    "# '\\n' is called 'line feed' and it signifies a new line. '\\t' is a tab.\n",
    "print('a line\\nanother line')"
   ]
  },
  {
   "cell_type": "code",
   "execution_count": 45,
   "metadata": {},
   "outputs": [
    {
     "data": {
      "text/plain": [
       "'am'"
      ]
     },
     "execution_count": 45,
     "metadata": {},
     "output_type": "execute_result"
    }
   ],
   "source": [
    "# Strings are arrays of characters. You can use indexing to slice a substring.\n",
    "'I am a string'[2:4]"
   ]
  },
  {
   "cell_type": "code",
   "execution_count": 46,
   "metadata": {},
   "outputs": [
    {
     "name": "stdout",
     "output_type": "stream",
     "text": [
      "13\n"
     ]
    },
    {
     "data": {
      "text/plain": [
       "'am'"
      ]
     },
     "execution_count": 46,
     "metadata": {},
     "output_type": "execute_result"
    }
   ],
   "source": [
    "# The same thing, done differently.\n",
    "a = 'I am a string'\n",
    "print(len(a))\n",
    "a[2:4]"
   ]
  },
  {
   "cell_type": "markdown",
   "metadata": {},
   "source": [
    "#### Useful string methods:"
   ]
  },
  {
   "cell_type": "code",
   "execution_count": 49,
   "metadata": {},
   "outputs": [
    {
     "data": {
      "text/plain": [
       "'Hello'"
      ]
     },
     "execution_count": 49,
     "metadata": {},
     "output_type": "execute_result"
    }
   ],
   "source": [
    "'  Hello '.strip()"
   ]
  },
  {
   "cell_type": "code",
   "execution_count": 50,
   "metadata": {},
   "outputs": [
    {
     "data": {
      "text/plain": [
       "5"
      ]
     },
     "execution_count": 50,
     "metadata": {},
     "output_type": "execute_result"
    }
   ],
   "source": [
    "len('Hello')"
   ]
  },
  {
   "cell_type": "code",
   "execution_count": 51,
   "metadata": {},
   "outputs": [
    {
     "data": {
      "text/plain": [
       "'HELLO'"
      ]
     },
     "execution_count": 51,
     "metadata": {},
     "output_type": "execute_result"
    }
   ],
   "source": [
    "'Hello'.upper()"
   ]
  },
  {
   "cell_type": "code",
   "execution_count": 52,
   "metadata": {},
   "outputs": [
    {
     "data": {
      "text/plain": [
       "'hello'"
      ]
     },
     "execution_count": 52,
     "metadata": {},
     "output_type": "execute_result"
    }
   ],
   "source": [
    "'Hello'.lower()"
   ]
  },
  {
   "cell_type": "code",
   "execution_count": 53,
   "metadata": {},
   "outputs": [
    {
     "data": {
      "text/plain": [
       "'Jello'"
      ]
     },
     "execution_count": 53,
     "metadata": {},
     "output_type": "execute_result"
    }
   ],
   "source": [
    "'Hello'.replace('H', 'J')"
   ]
  },
  {
   "cell_type": "code",
   "execution_count": 54,
   "metadata": {},
   "outputs": [
    {
     "data": {
      "text/plain": [
       "['You',\n",
       " 'can',\n",
       " 'use',\n",
       " 'the',\n",
       " 'split()',\n",
       " 'method',\n",
       " 'to',\n",
       " 'aplit',\n",
       " 'a',\n",
       " 'strings',\n",
       " 'into',\n",
       " 'words.']"
      ]
     },
     "execution_count": 54,
     "metadata": {},
     "output_type": "execute_result"
    }
   ],
   "source": [
    "'You can use the split() method to aplit a strings into words.'.split()"
   ]
  },
  {
   "cell_type": "code",
   "execution_count": 55,
   "metadata": {},
   "outputs": [
    {
     "data": {
      "text/plain": [
       "['And', 'you', 'can', 'specify', 'the', 'separator']"
      ]
     },
     "execution_count": 55,
     "metadata": {},
     "output_type": "execute_result"
    }
   ],
   "source": [
    "'And-you-can-specify-the-separator'.split('-')"
   ]
  },
  {
   "cell_type": "markdown",
   "metadata": {},
   "source": [
    "#### String formatting"
   ]
  },
  {
   "cell_type": "code",
   "execution_count": 56,
   "metadata": {},
   "outputs": [
    {
     "data": {
      "text/plain": [
       "'3 units of product 986 were purchased for $2.85 each'"
      ]
     },
     "execution_count": 56,
     "metadata": {},
     "output_type": "execute_result"
    }
   ],
   "source": [
    "# This is one way to do it.\n",
    "product_id = 986\n",
    "quantity = 3\n",
    "price = 2.85\n",
    "'{} units of product {} were purchased for ${} each'.format(quantity, product_id, price)"
   ]
  },
  {
   "cell_type": "markdown",
   "metadata": {},
   "source": [
    "A guide to [format specification mini-language](https://docs.python.org/3.4/library/string.html#formatspec)."
   ]
  },
  {
   "cell_type": "code",
   "execution_count": 4,
   "metadata": {},
   "outputs": [
    {
     "name": "stdout",
     "output_type": "stream",
     "text": [
      "I bought 7 apples for $1.4285714285714286 each.\n"
     ]
    }
   ],
   "source": [
    "# And here is another way\n",
    "product = 'apples'\n",
    "quantity = 7\n",
    "price = 10\n",
    "\n",
    "print('I bought %d %s for $%.3f each.' % (quantity, product, price/quantity))"
   ]
  },
  {
   "cell_type": "code",
   "execution_count": 5,
   "metadata": {},
   "outputs": [
    {
     "name": "stdout",
     "output_type": "stream",
     "text": [
      "3.1416\n"
     ]
    }
   ],
   "source": [
    "# Here's with only one variable\n",
    "from math import pi\n",
    "\n",
    "print('%.4f' % pi)"
   ]
  },
  {
   "cell_type": "markdown",
   "metadata": {},
   "source": [
    "[A reference guide for '%' and other string operators](https://www.quackit.com/python/reference/python_3_string_operators.cfm). "
   ]
  },
  {
   "cell_type": "markdown",
   "metadata": {},
   "source": [
    "## Homework\n",
    "\n",
    "1. Use list comprehension to create the list: [0, 1, 4, 9, 16, 25, 36, 49, 64, 81]\n",
    "2. Use list comprehension to create the list: [1, 4, 9, 25, 36, 49, 81, 100].\n",
    "3. Use list comprehension to create the list: \n",
    "          [['two foxes', 'three foxes', 'four foxes'],\n",
    "           ['two lions', 'three lions', 'four lions']]    \n",
    "4. Write a function that receives a tuple of dictionaries and concatenates them into one:\n",
    "\n",
    "    * Sample Input: ({1:10, 2:20}, {3:30, 4:40}, {5:50, 6:60})\n",
    "    * Sample Output: {1:10, 2:20, 3:30, 4:40, 5:50, 6:60}\n",
    " \n",
    " \n",
    "5. Write a function that that receives a dictionary and outputs a sorted list of its values. *Tip*: use list comprehension.\n",
    "    * Sample Input: {1:10, 2:20, 4:40, 5:50, 6:60, 3:30}\n",
    "    * Sample Output: [10, 20, 30, 40, 50, 60]"
   ]
  },
  {
   "cell_type": "markdown",
   "metadata": {},
   "source": [
    "[Here](https://pynative.com/python-string-exercise/) are some string manipulation exercises. "
   ]
  },
  {
   "cell_type": "code",
   "execution_count": null,
   "metadata": {},
   "outputs": [],
   "source": []
  }
 ],
 "metadata": {
  "kernelspec": {
   "display_name": "Python 3 (ipykernel)",
   "language": "python",
   "name": "python3"
  },
  "language_info": {
   "codemirror_mode": {
    "name": "ipython",
    "version": 3
   },
   "file_extension": ".py",
   "mimetype": "text/x-python",
   "name": "python",
   "nbconvert_exporter": "python",
   "pygments_lexer": "ipython3",
   "version": "3.9.7"
  }
 },
 "nbformat": 4,
 "nbformat_minor": 2
}
